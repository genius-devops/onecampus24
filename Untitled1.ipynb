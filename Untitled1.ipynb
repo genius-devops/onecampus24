{
 "cells": [
  {
   "cell_type": "code",
   "execution_count": 1,
   "id": "01fe6e36",
   "metadata": {},
   "outputs": [
    {
     "ename": "SyntaxError",
     "evalue": "unterminated string literal (detected at line 11) (3637275641.py, line 11)",
     "output_type": "error",
     "traceback": [
      "\u001b[1;36m  Cell \u001b[1;32mIn[1], line 11\u001b[1;36m\u001b[0m\n\u001b[1;33m    Patricia's profit margin on Foods is 25.30%, on Beverages its 15.76% and on Toiletries its 35% lower than that of Beverages.\u001b[0m\n\u001b[1;37m            ^\u001b[0m\n\u001b[1;31mSyntaxError\u001b[0m\u001b[1;31m:\u001b[0m unterminated string literal (detected at line 11)\n"
     ]
    }
   ],
   "source": [
    "Patricia operates a grocery store selling several product categories as shown below.\n",
    "1. Foods\n",
    "2. Beverages\n",
    "3. Toiletries\n",
    "She estimates that the total sales each week for Foods is $3210. \n",
    "The daily workday sales of beverages are $520. On weekends (Saturdays and Sundays) \n",
    "the daily sales are double the weekday sale for this category.\n",
    "The daily sales for toiletries are about 83% of the beverages and shows the same pattern for weekdays and weekends.\n",
    "Patricia employe 5 persons as accounting and sales staff with a 1,500 monthly salary per staff. She is also considering paying herself a monthly salary of $2750.\n",
    "\n",
    "Patricia's profit margin on Foods is 25.30%, on Beverages its 15.76% and on Toiletries its 35% lower than that of Beverages.\n",
    "Costs associated with her Grocery store are monthly rent of 2100, monthly cost of logistics for purchase and restocking inventory is 5% of total monthly revenue from the store.\n",
    "Tax is charged at 25.3% of profit. There is also a 5% VAT on Toiletries and Beverages that is already included in the selling price of products in these categories.\n",
    "Patricia would like to disburse her profit after tax and all deductions into the following three account bucket such that investment in inventory gets a minimum of $ 20,000 per month;\n",
    "\n",
    "1. 40% remitted to her investment account which yields 15% interest per annum\n",
    "2. 30% held in a current account for domestic expenses\n",
    "3. 30% invested back into inventory in the Grocery store\n",
    "\n",
    "TASK\n",
    "1. compute the total revenue and profits per category\n",
    "2. compute the total tax and vat payable on each category\n",
    "3. compute total store expenses on a monthly and annual basis\n",
    "4. what percentage of profits is employee salary\n",
    "5. If Patricia pays herself the proposed salary, by what percentage does profitability drop monthly\n",
    "6. Compute the amount of money remitted into the three account buckets every month\n",
    "\n",
    "\n",
    "#solution\n",
    "a = 3\n",
    "print(a)\n",
    "\n"
   ]
  },
  {
   "cell_type": "code",
   "execution_count": null,
   "id": "388b7009",
   "metadata": {},
   "outputs": [],
   "source": []
  }
 ],
 "metadata": {
  "kernelspec": {
   "display_name": "Python 3 (ipykernel)",
   "language": "python",
   "name": "python3"
  },
  "language_info": {
   "codemirror_mode": {
    "name": "ipython",
    "version": 3
   },
   "file_extension": ".py",
   "mimetype": "text/x-python",
   "name": "python",
   "nbconvert_exporter": "python",
   "pygments_lexer": "ipython3",
   "version": "3.10.9"
  }
 },
 "nbformat": 4,
 "nbformat_minor": 5
}
