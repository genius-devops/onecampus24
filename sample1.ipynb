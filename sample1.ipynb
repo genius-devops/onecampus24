{
 "cells": [
  {
   "cell_type": "code",
   "execution_count": 2,
   "id": "5bde28a3",
   "metadata": {},
   "outputs": [
    {
     "name": "stdout",
     "output_type": "stream",
     "text": [
      "95\n"
     ]
    }
   ],
   "source": [
    "x = 5\n",
    "\n",
    "y = 19\n",
    "\n",
    "z = x * y \n",
    "\n",
    "print(z)"
   ]
  },
  {
   "cell_type": "code",
   "execution_count": 3,
   "id": "a1d6f2a6",
   "metadata": {},
   "outputs": [
    {
     "name": "stdout",
     "output_type": "stream",
     "text": [
      "Modupe Modupe\n"
     ]
    }
   ],
   "source": [
    "studName1 = \"Modupe\"\n",
    "studName2 = studName1\n",
    "print(studName1, studName2)"
   ]
  },
  {
   "cell_type": "code",
   "execution_count": 4,
   "id": "c1b02126",
   "metadata": {},
   "outputs": [
    {
     "name": "stdout",
     "output_type": "stream",
     "text": [
      "Brima Modupe\n"
     ]
    }
   ],
   "source": [
    "studName1 = \"Brima\"\n",
    "print(studName1, studName2)"
   ]
  },
  {
   "cell_type": "code",
   "execution_count": 7,
   "id": "974b3b5f",
   "metadata": {},
   "outputs": [],
   "source": [
    "num = 3"
   ]
  },
  {
   "cell_type": "code",
   "execution_count": 8,
   "id": "3f9294fe",
   "metadata": {},
   "outputs": [
    {
     "data": {
      "text/plain": [
       "3"
      ]
     },
     "execution_count": 8,
     "metadata": {},
     "output_type": "execute_result"
    }
   ],
   "source": [
    "num"
   ]
  },
  {
   "cell_type": "code",
   "execution_count": 9,
   "id": "ce7c3c22",
   "metadata": {},
   "outputs": [],
   "source": [
    "# the next line of code will show how to represent"
   ]
  },
  {
   "cell_type": "code",
   "execution_count": null,
   "id": "9f09758e",
   "metadata": {},
   "outputs": [],
   "source": [
    "\"\"\"in the next line of code we will practice creating variables.\n",
    "\n",
    "\"\"\""
   ]
  }
 ],
 "metadata": {
  "kernelspec": {
   "display_name": "Python 3 (ipykernel)",
   "language": "python",
   "name": "python3"
  },
  "language_info": {
   "codemirror_mode": {
    "name": "ipython",
    "version": 3
   },
   "file_extension": ".py",
   "mimetype": "text/x-python",
   "name": "python",
   "nbconvert_exporter": "python",
   "pygments_lexer": "ipython3",
   "version": "3.11.3"
  }
 },
 "nbformat": 4,
 "nbformat_minor": 5
}
