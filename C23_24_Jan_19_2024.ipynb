{
 "cells": [
  {
   "cell_type": "code",
   "execution_count": null,
   "id": "dc5af85c",
   "metadata": {},
   "outputs": [],
   "source": []
  },
  {
   "cell_type": "code",
   "execution_count": null,
   "id": "3fb08696",
   "metadata": {},
   "outputs": [],
   "source": [
    "state\n",
    "hasHorn = True\n",
    "earLength =\n",
    "\n",
    "method\n",
    "makeSound: Blaaaa\n",
    "           Wow!\n",
    "\n",
    "    "
   ]
  },
  {
   "cell_type": "code",
   "execution_count": null,
   "id": "d8692801",
   "metadata": {},
   "outputs": [],
   "source": [
    "def goat():\n",
    "    "
   ]
  },
  {
   "cell_type": "code",
   "execution_count": null,
   "id": "37d3ad5a",
   "metadata": {},
   "outputs": [],
   "source": [
    "Model a Human\n",
    "\n",
    "State:\n",
    "    has 2 legs\n",
    "    skin color\n",
    "    hair texture\n",
    "method:\n",
    "    speek()\n",
    "    eat()\n",
    "    walkOnTwos()\n",
    "    \n",
    "    \n",
    "    "
   ]
  },
  {
   "cell_type": "code",
   "execution_count": 8,
   "id": "5b54ecca",
   "metadata": {},
   "outputs": [],
   "source": [
    "# Create a class\n",
    "\n",
    "class Animals:\n",
    "    pass"
   ]
  },
  {
   "cell_type": "code",
   "execution_count": 9,
   "id": "920a0b6c",
   "metadata": {},
   "outputs": [
    {
     "name": "stdout",
     "output_type": "stream",
     "text": [
      "<class '__main__.Animals'>\n"
     ]
    }
   ],
   "source": [
    "print(Animals)"
   ]
  },
  {
   "cell_type": "code",
   "execution_count": 10,
   "id": "41246a08",
   "metadata": {},
   "outputs": [],
   "source": [
    "class Animals:\n",
    "    numLegs = 4\n",
    "    def run(self):\n",
    "        print('Animal can run')"
   ]
  },
  {
   "cell_type": "code",
   "execution_count": 6,
   "id": "eaddecc9",
   "metadata": {},
   "outputs": [],
   "source": []
  },
  {
   "cell_type": "code",
   "execution_count": 13,
   "id": "ea7d27e7",
   "metadata": {},
   "outputs": [],
   "source": [
    "dog = Animals()"
   ]
  },
  {
   "cell_type": "code",
   "execution_count": 14,
   "id": "e03d0fcf",
   "metadata": {},
   "outputs": [
    {
     "data": {
      "text/plain": [
       "<__main__.Animals at 0x263be9b3160>"
      ]
     },
     "execution_count": 14,
     "metadata": {},
     "output_type": "execute_result"
    }
   ],
   "source": [
    "dog"
   ]
  },
  {
   "cell_type": "code",
   "execution_count": 15,
   "id": "3351de42",
   "metadata": {},
   "outputs": [
    {
     "data": {
      "text/plain": [
       "4"
      ]
     },
     "execution_count": 15,
     "metadata": {},
     "output_type": "execute_result"
    }
   ],
   "source": [
    "dog.numLegs"
   ]
  },
  {
   "cell_type": "code",
   "execution_count": 16,
   "id": "52573ad6",
   "metadata": {},
   "outputs": [
    {
     "name": "stdout",
     "output_type": "stream",
     "text": [
      "Animal can run\n"
     ]
    }
   ],
   "source": [
    "dog.run()"
   ]
  },
  {
   "cell_type": "code",
   "execution_count": 17,
   "id": "ac0b6f2f",
   "metadata": {},
   "outputs": [],
   "source": [
    "goat= Animals()"
   ]
  },
  {
   "cell_type": "code",
   "execution_count": 18,
   "id": "bb0ee391",
   "metadata": {},
   "outputs": [
    {
     "data": {
      "text/plain": [
       "4"
      ]
     },
     "execution_count": 18,
     "metadata": {},
     "output_type": "execute_result"
    }
   ],
   "source": [
    "goat.numLegs"
   ]
  },
  {
   "cell_type": "code",
   "execution_count": 19,
   "id": "2fe9d10f",
   "metadata": {},
   "outputs": [
    {
     "data": {
      "text/plain": [
       "<__main__.Animals at 0x263be9d64c0>"
      ]
     },
     "execution_count": 19,
     "metadata": {},
     "output_type": "execute_result"
    }
   ],
   "source": [
    "goat"
   ]
  },
  {
   "cell_type": "code",
   "execution_count": 20,
   "id": "6f1640ae",
   "metadata": {},
   "outputs": [],
   "source": [
    "chicken = Animals()"
   ]
  },
  {
   "cell_type": "code",
   "execution_count": 21,
   "id": "8a2342cb",
   "metadata": {},
   "outputs": [
    {
     "data": {
      "text/plain": [
       "4"
      ]
     },
     "execution_count": 21,
     "metadata": {},
     "output_type": "execute_result"
    }
   ],
   "source": [
    "chicken.numLegs"
   ]
  },
  {
   "cell_type": "code",
   "execution_count": 22,
   "id": "e0d229f3",
   "metadata": {},
   "outputs": [],
   "source": [
    "chicken.numLegs = 2"
   ]
  },
  {
   "cell_type": "code",
   "execution_count": 23,
   "id": "85d5b1ec",
   "metadata": {},
   "outputs": [
    {
     "data": {
      "text/plain": [
       "2"
      ]
     },
     "execution_count": 23,
     "metadata": {},
     "output_type": "execute_result"
    }
   ],
   "source": [
    "chicken.numLegs"
   ]
  },
  {
   "cell_type": "code",
   "execution_count": 24,
   "id": "cf0f94d0",
   "metadata": {},
   "outputs": [
    {
     "data": {
      "text/plain": [
       "<__main__.Animals at 0x263be8634f0>"
      ]
     },
     "execution_count": 24,
     "metadata": {},
     "output_type": "execute_result"
    }
   ],
   "source": [
    "chicken"
   ]
  },
  {
   "cell_type": "code",
   "execution_count": 25,
   "id": "dc9ffb87",
   "metadata": {},
   "outputs": [
    {
     "name": "stdout",
     "output_type": "stream",
     "text": [
      "Animal can run\n"
     ]
    }
   ],
   "source": [
    "chicken.run()"
   ]
  },
  {
   "cell_type": "code",
   "execution_count": 26,
   "id": "726d3a21",
   "metadata": {},
   "outputs": [
    {
     "data": {
      "text/plain": [
       "4"
      ]
     },
     "execution_count": 26,
     "metadata": {},
     "output_type": "execute_result"
    }
   ],
   "source": [
    "dog.numLegs"
   ]
  },
  {
   "cell_type": "code",
   "execution_count": 27,
   "id": "f0a792e7",
   "metadata": {},
   "outputs": [
    {
     "data": {
      "text/plain": [
       "<__main__.Animals at 0x263be9b3160>"
      ]
     },
     "execution_count": 27,
     "metadata": {},
     "output_type": "execute_result"
    }
   ],
   "source": [
    "dog"
   ]
  },
  {
   "cell_type": "code",
   "execution_count": 28,
   "id": "000302ad",
   "metadata": {},
   "outputs": [
    {
     "name": "stdout",
     "output_type": "stream",
     "text": [
      "Animal can run\n"
     ]
    }
   ],
   "source": [
    "dog.run()"
   ]
  },
  {
   "cell_type": "code",
   "execution_count": 79,
   "id": "5490f9e2",
   "metadata": {},
   "outputs": [],
   "source": [
    "# TASK: create a class for all Animals\n",
    "\n",
    "\n",
    "class Animal:\n",
    "     \n",
    "    def __init__(self, animalType, numLegs = 4,hasTail = True,  hasFur = True):\n",
    "        self.numLegs = numLegs\n",
    "        self.hasTail = hasTail\n",
    "        self.hasFur = hasFur\n",
    "        self.animalType = animalType\n",
    "\n",
    "    canAttack = True\n",
    "    # Define Functions\n",
    "    def attack(self):\n",
    "        print(self.canAttack)\n",
    "    def eat(self):\n",
    "        print('eating food')\n",
    "    def run(self):\n",
    "        print('running on all legs')\n",
    "    def makeSound(self):\n",
    "        if self.animalType == 'Dog':\n",
    "            print('Woooow!')\n",
    "        else:\n",
    "            print('WEEEEE')\n",
    "            \n",
    "            \n",
    "  "
   ]
  },
  {
   "cell_type": "code",
   "execution_count": 80,
   "id": "18dd1f76",
   "metadata": {},
   "outputs": [
    {
     "ename": "TypeError",
     "evalue": "__init__() missing 1 required positional argument: 'animalType'",
     "output_type": "error",
     "traceback": [
      "\u001b[1;31m---------------------------------------------------------------------------\u001b[0m",
      "\u001b[1;31mTypeError\u001b[0m                                 Traceback (most recent call last)",
      "\u001b[1;32m~\\AppData\\Local\\Temp\\ipykernel_37980\\3876267285.py\u001b[0m in \u001b[0;36m<module>\u001b[1;34m\u001b[0m\n\u001b[1;32m----> 1\u001b[1;33m \u001b[0mdog\u001b[0m \u001b[1;33m=\u001b[0m \u001b[0mAnimal\u001b[0m\u001b[1;33m(\u001b[0m\u001b[1;33m)\u001b[0m\u001b[1;33m\u001b[0m\u001b[1;33m\u001b[0m\u001b[0m\n\u001b[0m",
      "\u001b[1;31mTypeError\u001b[0m: __init__() missing 1 required positional argument: 'animalType'"
     ]
    }
   ],
   "source": [
    "dog = Animal()"
   ]
  },
  {
   "cell_type": "code",
   "execution_count": 81,
   "id": "cfcc0d80",
   "metadata": {},
   "outputs": [],
   "source": [
    "dog.animalType = 'Dog'"
   ]
  },
  {
   "cell_type": "code",
   "execution_count": 82,
   "id": "417819dd",
   "metadata": {},
   "outputs": [
    {
     "name": "stdout",
     "output_type": "stream",
     "text": [
      "eating food\n"
     ]
    }
   ],
   "source": [
    "dog.eat()"
   ]
  },
  {
   "cell_type": "code",
   "execution_count": 83,
   "id": "645dd792",
   "metadata": {},
   "outputs": [
    {
     "name": "stdout",
     "output_type": "stream",
     "text": [
      "Woooow!\n"
     ]
    }
   ],
   "source": [
    "dog.makeSound()"
   ]
  },
  {
   "cell_type": "code",
   "execution_count": 84,
   "id": "ea37bab8",
   "metadata": {},
   "outputs": [
    {
     "ename": "TypeError",
     "evalue": "__init__() missing 1 required positional argument: 'animalType'",
     "output_type": "error",
     "traceback": [
      "\u001b[1;31m---------------------------------------------------------------------------\u001b[0m",
      "\u001b[1;31mTypeError\u001b[0m                                 Traceback (most recent call last)",
      "\u001b[1;32m~\\AppData\\Local\\Temp\\ipykernel_37980\\3349326953.py\u001b[0m in \u001b[0;36m<module>\u001b[1;34m\u001b[0m\n\u001b[1;32m----> 1\u001b[1;33m \u001b[0mcat\u001b[0m \u001b[1;33m=\u001b[0m \u001b[0mAnimal\u001b[0m\u001b[1;33m(\u001b[0m\u001b[1;33m)\u001b[0m\u001b[1;33m\u001b[0m\u001b[1;33m\u001b[0m\u001b[0m\n\u001b[0m",
      "\u001b[1;31mTypeError\u001b[0m: __init__() missing 1 required positional argument: 'animalType'"
     ]
    }
   ],
   "source": [
    "cat = Animal()"
   ]
  },
  {
   "cell_type": "code",
   "execution_count": 85,
   "id": "a923cce7",
   "metadata": {},
   "outputs": [],
   "source": [
    "cat.animalType = 'Cat'"
   ]
  },
  {
   "cell_type": "code",
   "execution_count": 86,
   "id": "7554a42b",
   "metadata": {},
   "outputs": [
    {
     "name": "stdout",
     "output_type": "stream",
     "text": [
      "WEEEEE\n"
     ]
    }
   ],
   "source": [
    "cat.makeSound()"
   ]
  },
  {
   "cell_type": "code",
   "execution_count": 87,
   "id": "15a1b5a0",
   "metadata": {},
   "outputs": [],
   "source": [
    "lion = Animal('Cat')"
   ]
  },
  {
   "cell_type": "code",
   "execution_count": 88,
   "id": "59aa21cd",
   "metadata": {},
   "outputs": [
    {
     "data": {
      "text/plain": [
       "4"
      ]
     },
     "execution_count": 88,
     "metadata": {},
     "output_type": "execute_result"
    }
   ],
   "source": [
    "lion.numLegs"
   ]
  },
  {
   "cell_type": "code",
   "execution_count": 89,
   "id": "04b7adc9",
   "metadata": {},
   "outputs": [],
   "source": [
    "eagle = Animal('Bird', numLegs = 2,hasTail = False,  hasFur = False)"
   ]
  },
  {
   "cell_type": "code",
   "execution_count": 90,
   "id": "c397b20c",
   "metadata": {},
   "outputs": [
    {
     "data": {
      "text/plain": [
       "<__main__.Animal at 0x263be9b09d0>"
      ]
     },
     "execution_count": 90,
     "metadata": {},
     "output_type": "execute_result"
    }
   ],
   "source": [
    "eagle"
   ]
  },
  {
   "cell_type": "code",
   "execution_count": 91,
   "id": "cd83c32a",
   "metadata": {},
   "outputs": [
    {
     "data": {
      "text/plain": [
       "2"
      ]
     },
     "execution_count": 91,
     "metadata": {},
     "output_type": "execute_result"
    }
   ],
   "source": [
    "eagle.numLegs"
   ]
  },
  {
   "cell_type": "code",
   "execution_count": 92,
   "id": "84cd789a",
   "metadata": {},
   "outputs": [
    {
     "data": {
      "text/plain": [
       "False"
      ]
     },
     "execution_count": 92,
     "metadata": {},
     "output_type": "execute_result"
    }
   ],
   "source": [
    "eagle.hasTail"
   ]
  },
  {
   "cell_type": "code",
   "execution_count": 93,
   "id": "5d1582f9",
   "metadata": {},
   "outputs": [
    {
     "name": "stdout",
     "output_type": "stream",
     "text": [
      "True\n"
     ]
    }
   ],
   "source": [
    "eagle.attack()"
   ]
  },
  {
   "cell_type": "code",
   "execution_count": 94,
   "id": "6e1466a9",
   "metadata": {},
   "outputs": [
    {
     "name": "stdout",
     "output_type": "stream",
     "text": [
      "running on all legs\n"
     ]
    }
   ],
   "source": [
    "eagle.run()"
   ]
  },
  {
   "cell_type": "code",
   "execution_count": 95,
   "id": "7ee0aa2d",
   "metadata": {},
   "outputs": [
    {
     "name": "stdout",
     "output_type": "stream",
     "text": [
      "WEEEEE\n"
     ]
    }
   ],
   "source": [
    "eagle.makeSound()"
   ]
  },
  {
   "cell_type": "code",
   "execution_count": 96,
   "id": "ce78061d",
   "metadata": {},
   "outputs": [],
   "source": [
    "eagle.hastail = True"
   ]
  },
  {
   "cell_type": "code",
   "execution_count": 98,
   "id": "d8b15541",
   "metadata": {},
   "outputs": [
    {
     "data": {
      "text/plain": [
       "True"
      ]
     },
     "execution_count": 98,
     "metadata": {},
     "output_type": "execute_result"
    }
   ],
   "source": [
    "lion.hasTail"
   ]
  },
  {
   "cell_type": "code",
   "execution_count": 99,
   "id": "ae831554",
   "metadata": {},
   "outputs": [
    {
     "data": {
      "text/plain": [
       "False"
      ]
     },
     "execution_count": 99,
     "metadata": {},
     "output_type": "execute_result"
    }
   ],
   "source": [
    "eagle.hasTail"
   ]
  },
  {
   "cell_type": "code",
   "execution_count": 100,
   "id": "748f0bd1",
   "metadata": {},
   "outputs": [
    {
     "ename": "AttributeError",
     "evalue": "'Animal' object has no attribute 'hastail'",
     "output_type": "error",
     "traceback": [
      "\u001b[1;31m---------------------------------------------------------------------------\u001b[0m",
      "\u001b[1;31mAttributeError\u001b[0m                            Traceback (most recent call last)",
      "\u001b[1;32m~\\AppData\\Local\\Temp\\ipykernel_37980\\2460339906.py\u001b[0m in \u001b[0;36m<module>\u001b[1;34m\u001b[0m\n\u001b[1;32m----> 1\u001b[1;33m \u001b[0mlion\u001b[0m\u001b[1;33m.\u001b[0m\u001b[0mhastail\u001b[0m\u001b[1;33m(\u001b[0m\u001b[1;33m)\u001b[0m\u001b[1;33m\u001b[0m\u001b[1;33m\u001b[0m\u001b[0m\n\u001b[0m",
      "\u001b[1;31mAttributeError\u001b[0m: 'Animal' object has no attribute 'hastail'"
     ]
    }
   ],
   "source": [
    "lion.hastail()"
   ]
  },
  {
   "cell_type": "code",
   "execution_count": 101,
   "id": "9c21591f",
   "metadata": {},
   "outputs": [],
   "source": [
    "eagle.hasFeathers = True"
   ]
  },
  {
   "cell_type": "code",
   "execution_count": 102,
   "id": "95ebec39",
   "metadata": {},
   "outputs": [
    {
     "ename": "AttributeError",
     "evalue": "'Animal' object has no attribute 'hasFeathers'",
     "output_type": "error",
     "traceback": [
      "\u001b[1;31m---------------------------------------------------------------------------\u001b[0m",
      "\u001b[1;31mAttributeError\u001b[0m                            Traceback (most recent call last)",
      "\u001b[1;32m~\\AppData\\Local\\Temp\\ipykernel_37980\\3734391789.py\u001b[0m in \u001b[0;36m<module>\u001b[1;34m\u001b[0m\n\u001b[1;32m----> 1\u001b[1;33m \u001b[0mlion\u001b[0m\u001b[1;33m.\u001b[0m\u001b[0mhasFeathers\u001b[0m\u001b[1;33m\u001b[0m\u001b[1;33m\u001b[0m\u001b[0m\n\u001b[0m",
      "\u001b[1;31mAttributeError\u001b[0m: 'Animal' object has no attribute 'hasFeathers'"
     ]
    }
   ],
   "source": [
    "lion.hasFeathers"
   ]
  },
  {
   "cell_type": "code",
   "execution_count": 131,
   "id": "deb7b713",
   "metadata": {},
   "outputs": [],
   "source": [
    "# TASK: create a HomoSapien class from which all hums inherit their behaviour and properties\n",
    "\n",
    "\n",
    "class HomoSapien:\n",
    "    \n",
    "    \"\"\"\n",
    "    This is the super class that defines all human objects and models their state and behavior\n",
    "    \"\"\"\n",
    "    \n",
    "    \n",
    "    # create the class constructor\n",
    "    \n",
    "    def __init__(self, region,numEars=2,numLegs=2, numHands=2, numEyes=2, hasMouth=True):\n",
    "    \n",
    "        self.numLegs = numLegs\n",
    "        self.numHands = numHands\n",
    "        self.numEyes = numEyes\n",
    "        self.numEars = numEars\n",
    "        self.hasMouth = hasMouth\n",
    "        self.region = region\n",
    "    # model class functions\n",
    "    \n",
    "    def walk(self):\n",
    "        walking = True\n",
    "        return walking\n",
    "    def eat(self):\n",
    "        foodItems = ['Apple','eggs','grains']\n",
    "        return foodItems\n",
    "    \n",
    "    def skinTone(self):\n",
    "        skinTone = ''\n",
    "        if self.region == 'Africa':\n",
    "            skinTone = 'Black'\n",
    "        elif self.region == 'MiddleEast':\n",
    "            skinTone = 'Colored'\n",
    "        elif self.region == 'Europe' or self.region == 'North America':\n",
    "            skinTone = 'White'\n",
    "        else:\n",
    "            skinTone = 'brown'\n",
    "            \n",
    "        return skinTone\n",
    "    "
   ]
  },
  {
   "cell_type": "code",
   "execution_count": 132,
   "id": "edfd2815",
   "metadata": {},
   "outputs": [
    {
     "name": "stdout",
     "output_type": "stream",
     "text": [
      "Help on class HomoSapien in module __main__:\n",
      "\n",
      "class HomoSapien(builtins.object)\n",
      " |  HomoSapien(region, numEars=2, numLegs=2, numHands=2, numEyes=2, hasMouth=True)\n",
      " |  \n",
      " |  This is the super class that defines all human objects and models their state and behavior\n",
      " |  \n",
      " |  Methods defined here:\n",
      " |  \n",
      " |  __init__(self, region, numEars=2, numLegs=2, numHands=2, numEyes=2, hasMouth=True)\n",
      " |      Initialize self.  See help(type(self)) for accurate signature.\n",
      " |  \n",
      " |  eat(self)\n",
      " |  \n",
      " |  skinTone(self)\n",
      " |  \n",
      " |  walk(self)\n",
      " |  \n",
      " |  ----------------------------------------------------------------------\n",
      " |  Data descriptors defined here:\n",
      " |  \n",
      " |  __dict__\n",
      " |      dictionary for instance variables (if defined)\n",
      " |  \n",
      " |  __weakref__\n",
      " |      list of weak references to the object (if defined)\n",
      "\n"
     ]
    }
   ],
   "source": [
    "help(HomoSapien)"
   ]
  },
  {
   "cell_type": "code",
   "execution_count": null,
   "id": "3d34b032",
   "metadata": {},
   "outputs": [],
   "source": []
  },
  {
   "cell_type": "code",
   "execution_count": 133,
   "id": "b3c100b7",
   "metadata": {},
   "outputs": [],
   "source": [
    "african = HomoSapien('Africa') # The object African is an INSTANCE of HomoSapien Class"
   ]
  },
  {
   "cell_type": "code",
   "execution_count": 134,
   "id": "c7944d28",
   "metadata": {},
   "outputs": [
    {
     "data": {
      "text/plain": [
       "<__main__.HomoSapien at 0x263be9b0d90>"
      ]
     },
     "execution_count": 134,
     "metadata": {},
     "output_type": "execute_result"
    }
   ],
   "source": [
    "african"
   ]
  },
  {
   "cell_type": "code",
   "execution_count": 135,
   "id": "6d2c1932",
   "metadata": {},
   "outputs": [
    {
     "data": {
      "text/plain": [
       "2"
      ]
     },
     "execution_count": 135,
     "metadata": {},
     "output_type": "execute_result"
    }
   ],
   "source": [
    "african.numLegs"
   ]
  },
  {
   "cell_type": "code",
   "execution_count": 136,
   "id": "08342bb5",
   "metadata": {},
   "outputs": [
    {
     "data": {
      "text/plain": [
       "'Black'"
      ]
     },
     "execution_count": 136,
     "metadata": {},
     "output_type": "execute_result"
    }
   ],
   "source": [
    "african.skinTone()"
   ]
  },
  {
   "cell_type": "code",
   "execution_count": 137,
   "id": "bf313ddb",
   "metadata": {},
   "outputs": [],
   "source": [
    "american = HomoSapien('North America')"
   ]
  },
  {
   "cell_type": "code",
   "execution_count": 139,
   "id": "6028882d",
   "metadata": {},
   "outputs": [
    {
     "data": {
      "text/plain": [
       "'White'"
      ]
     },
     "execution_count": 139,
     "metadata": {},
     "output_type": "execute_result"
    }
   ],
   "source": [
    "american.skinTone()"
   ]
  },
  {
   "cell_type": "code",
   "execution_count": 140,
   "id": "9ff770e0",
   "metadata": {},
   "outputs": [
    {
     "data": {
      "text/plain": [
       "<__main__.HomoSapien at 0x263be9b0700>"
      ]
     },
     "execution_count": 140,
     "metadata": {},
     "output_type": "execute_result"
    }
   ],
   "source": [
    "american"
   ]
  },
  {
   "cell_type": "code",
   "execution_count": 143,
   "id": "7e79dd2e",
   "metadata": {},
   "outputs": [],
   "source": [
    "class Humans(HomoSapien):\n",
    "    pass"
   ]
  },
  {
   "cell_type": "code",
   "execution_count": 144,
   "id": "dbec0517",
   "metadata": {},
   "outputs": [
    {
     "data": {
      "text/plain": [
       "__main__.Humans"
      ]
     },
     "execution_count": 144,
     "metadata": {},
     "output_type": "execute_result"
    }
   ],
   "source": [
    "Humans"
   ]
  },
  {
   "cell_type": "code",
   "execution_count": 146,
   "id": "c5fc4200",
   "metadata": {},
   "outputs": [
    {
     "name": "stdout",
     "output_type": "stream",
     "text": [
      "Help on class Humans in module __main__:\n",
      "\n",
      "class Humans(HomoSapien)\n",
      " |  Humans(region, numEars=2, numLegs=2, numHands=2, numEyes=2, hasMouth=True)\n",
      " |  \n",
      " |  Method resolution order:\n",
      " |      Humans\n",
      " |      HomoSapien\n",
      " |      builtins.object\n",
      " |  \n",
      " |  Methods inherited from HomoSapien:\n",
      " |  \n",
      " |  __init__(self, region, numEars=2, numLegs=2, numHands=2, numEyes=2, hasMouth=True)\n",
      " |      Initialize self.  See help(type(self)) for accurate signature.\n",
      " |  \n",
      " |  eat(self)\n",
      " |  \n",
      " |  skinTone(self)\n",
      " |  \n",
      " |  walk(self)\n",
      " |  \n",
      " |  ----------------------------------------------------------------------\n",
      " |  Data descriptors inherited from HomoSapien:\n",
      " |  \n",
      " |  __dict__\n",
      " |      dictionary for instance variables (if defined)\n",
      " |  \n",
      " |  __weakref__\n",
      " |      list of weak references to the object (if defined)\n",
      "\n"
     ]
    }
   ],
   "source": [
    "help(Humans)"
   ]
  },
  {
   "cell_type": "code",
   "execution_count": 147,
   "id": "e3e06cac",
   "metadata": {},
   "outputs": [
    {
     "data": {
      "text/plain": [
       "2"
      ]
     },
     "execution_count": 147,
     "metadata": {},
     "output_type": "execute_result"
    }
   ],
   "source": [
    "african.numLegs"
   ]
  },
  {
   "cell_type": "code",
   "execution_count": 148,
   "id": "f141a3ee",
   "metadata": {},
   "outputs": [
    {
     "data": {
      "text/plain": [
       "2"
      ]
     },
     "execution_count": 148,
     "metadata": {},
     "output_type": "execute_result"
    }
   ],
   "source": [
    "american.numLegs"
   ]
  },
  {
   "cell_type": "code",
   "execution_count": 149,
   "id": "022ccaaf",
   "metadata": {},
   "outputs": [],
   "source": [
    "african.numLegs = 4"
   ]
  },
  {
   "cell_type": "code",
   "execution_count": 150,
   "id": "70ac855c",
   "metadata": {},
   "outputs": [
    {
     "data": {
      "text/plain": [
       "4"
      ]
     },
     "execution_count": 150,
     "metadata": {},
     "output_type": "execute_result"
    }
   ],
   "source": [
    "african.numLegs"
   ]
  },
  {
   "cell_type": "code",
   "execution_count": 151,
   "id": "56b9a1ab",
   "metadata": {},
   "outputs": [
    {
     "data": {
      "text/plain": [
       "2"
      ]
     },
     "execution_count": 151,
     "metadata": {},
     "output_type": "execute_result"
    }
   ],
   "source": [
    "american.numLegs"
   ]
  },
  {
   "cell_type": "code",
   "execution_count": null,
   "id": "18536d60",
   "metadata": {},
   "outputs": [],
   "source": [
    "+13308157974"
   ]
  }
 ],
 "metadata": {
  "kernelspec": {
   "display_name": "Python 3 (ipykernel)",
   "language": "python",
   "name": "python3"
  },
  "language_info": {
   "codemirror_mode": {
    "name": "ipython",
    "version": 3
   },
   "file_extension": ".py",
   "mimetype": "text/x-python",
   "name": "python",
   "nbconvert_exporter": "python",
   "pygments_lexer": "ipython3",
   "version": "3.9.13"
  }
 },
 "nbformat": 4,
 "nbformat_minor": 5
}
