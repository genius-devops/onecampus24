{
 "cells": [
  {
   "cell_type": "code",
   "execution_count": 4,
   "metadata": {},
   "outputs": [],
   "source": [
    "# 1. The function should have no arguments or input parameters. \n",
    "\n",
    "def cal():\n",
    "    pass\n",
    "\n",
    "\n"
   ]
  },
  {
   "cell_type": "code",
   "execution_count": 7,
   "metadata": {},
   "outputs": [
    {
     "name": "stdout",
     "output_type": "stream",
     "text": [
      "\n",
      "THIS CALCULATOR CAN CARRYOUT THE FOLLOWING COMPUTATION AND THEIR CORRESPONDING OPERATIONS:\n",
      "FOR =>\n",
      "i. Multiplication: 'm' \n",
      "ii. Addition: 'a' \n",
      "iii. Division: 'd' \n",
      "iv. Subtraction: 's'\n",
      "v. Exponential: 'ex' \n",
      "vi. Square Root: 'sq'\n",
      "vii. Floor Division (Quotient): 'fld' \n",
      "viii. Modulus operation (Remainder): 'mod' \n",
      "ix. Combination of Operations (Multi-Operation) \n",
      "x. Mean of a list: 'ml' \n",
      "xi. Sum of a list: 'sl' \n",
      "xii. Median value of a list: 'mdl' \n",
      "xiii. Multiplication of a list: 'mult' \n",
      "\n"
     ]
    }
   ],
   "source": [
    "# 2. When called, the function should: \n",
    "# a. Prompt the user to select a compute function.   \n",
    "\n",
    "features = \"\"\"\n",
    "THIS CALCULATOR CAN CARRYOUT THE FOLLOWING COMPUTATION AND THEIR CORRESPONDING OPERATIONS:\n",
    "FOR =>\n",
    "i. Multiplication: 'm' \n",
    "ii. Addition: 'a' \n",
    "iii. Division: 'd' \n",
    "iv. Subtraction: 's'\n",
    "v. Exponential: 'ex' \n",
    "vi. Square Root: 'sq'\n",
    "vii. Floor Division (Quotient): 'fld' \n",
    "viii. Modulus operation (Remainder): 'mod' \n",
    "ix. Combination of Operations (Multi-Operation) \n",
    "x. Mean of a list: 'ml' \n",
    "xi. Sum of a list: 'sl' \n",
    "xii. Median value of a list: 'mdl' \n",
    "xiii. Multiplication of a list: 'mult' \n",
    "\"\"\"\n",
    "\n",
    "\n",
    "print(features)\n"
   ]
  },
  {
   "cell_type": "code",
   "execution_count": 21,
   "metadata": {},
   "outputs": [
    {
     "name": "stdout",
     "output_type": "stream",
     "text": [
      "ADDITION IS BEING CARRYOUT\n",
      "multiple addtion is ready to execute\n",
      "3 numbers are provided for computation\n",
      "[11.0, 11.0, 11.0]\n",
      "your result is: 33.0\n"
     ]
    }
   ],
   "source": [
    "# let operator be opr for computational operation\n",
    "# MULTIPLICATION IS REPRESENTED AS 'm' etc\n",
    "nums = \"\"\n",
    "opr = input(\"please select operator:\")\n",
    "\n",
    "if opr == \"m\":\n",
    "    print(\"multiplication is selected\")\n",
    "\n",
    "    # for single and multiple operation\n",
    "    multi_features = \"\"\"\n",
    "    for multiple operations press => MM\n",
    "    for single operations press => M\n",
    "    \"\"\"\n",
    "    print(multi_features)\n",
    "\n",
    "    ops = input(\"please select operations\")\n",
    "    if ops == \"MM\":\n",
    "        print(\"multiple operations is being carrryout\")\n",
    "        nums = input(\"please provide some numbers separeted by comma\")\n",
    "        nums_comp = nums.split(\",\")\n",
    "        print(f\"{len(nums_comp)} numbers are provided for computation\")\n",
    "        get_nums = [float(x.strip()) for x in nums_comp]\n",
    "        print(get_nums)\n",
    "\n",
    "\n",
    "        # get the final computation by iterating result\n",
    "        result = 1\n",
    "        for num in get_nums:\n",
    "            result *= num\n",
    "        \n",
    "        print(f\"your result is: {result}\")\n",
    "\n",
    "    else:\n",
    "        print(\"single operations is going to carryout\")\n",
    "\n",
    "        num1 = float(input(\"provide a num 1: \"))\n",
    "        num2 = float(input(\"provide a num 2: \"))\n",
    "\n",
    "        result = num1 * num2\n",
    "        print(f\"your result is: {result}\")\n",
    "\n",
    "elif opr == \"a\":\n",
    "    # ADDITION IS REPRESENTED AS \"a\"\n",
    "    print(\"ADDITION IS BEING CARRYOUT\")\n",
    "\n",
    "\n",
    "    # \"AA\" for multiple operation and \"A\" for single operation\n",
    "    ops = input(\"please select operations\")\n",
    "    if ops == \"AA\":\n",
    "        print(\"multiple addtion is ready to execute\")\n",
    "\n",
    "        nums = input(\"please provide some numbers separeted by comma\")\n",
    "        nums_comp = nums.split(\",\")\n",
    "        print(f\"{len(nums_comp)} numbers are provided for computation\")\n",
    "        get_nums = [float(x.strip()) for x in nums_comp]\n",
    "        print(get_nums)\n",
    "\n",
    "\n",
    "        # get the final computation by iterating result\n",
    "        result = 0\n",
    "        for num in get_nums:\n",
    "            result += num\n",
    "        \n",
    "        print(f\"your result is: {result}\")\n",
    "\n",
    "    else:\n",
    "        print(\"single operations is going to carryout\")\n",
    "\n",
    "        num1 = float(input(\"provide a num 1: \"))\n",
    "        num2 = float(input(\"provide a num 2: \"))\n",
    "\n",
    "        result = num1 + num2\n",
    "        print(f\"your result is: {result}\")\n",
    "\n",
    "    \n",
    "\n",
    "\n",
    "\n"
   ]
  },
  {
   "cell_type": "code",
   "execution_count": null,
   "metadata": {},
   "outputs": [],
   "source": [
    "res = 1\n",
    "        for val in numVals:\n",
    "            res = res*val \n",
    "        print(res)"
   ]
  },
  {
   "cell_type": "code",
   "execution_count": null,
   "metadata": {},
   "outputs": [],
   "source": []
  },
  {
   "cell_type": "code",
   "execution_count": null,
   "metadata": {},
   "outputs": [],
   "source": []
  }
 ],
 "metadata": {
  "kernelspec": {
   "display_name": "Python 3",
   "language": "python",
   "name": "python3"
  },
  "language_info": {
   "codemirror_mode": {
    "name": "ipython",
    "version": 3
   },
   "file_extension": ".py",
   "mimetype": "text/x-python",
   "name": "python",
   "nbconvert_exporter": "python",
   "pygments_lexer": "ipython3",
   "version": "3.11.3"
  }
 },
 "nbformat": 4,
 "nbformat_minor": 2
}
