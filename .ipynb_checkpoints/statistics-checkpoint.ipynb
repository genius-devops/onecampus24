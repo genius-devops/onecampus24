{
 "cells": [
  {
   "cell_type": "code",
   "execution_count": 4,
   "id": "dad85850-0f53-4209-b271-cdd6d760d6a5",
   "metadata": {},
   "outputs": [],
   "source": [
    "import statistics as sta"
   ]
  },
  {
   "cell_type": "code",
   "execution_count": 5,
   "id": "7186d09e-a3d9-4196-94e1-e205556494ab",
   "metadata": {},
   "outputs": [
    {
     "data": {
      "text/plain": [
       "4.5"
      ]
     },
     "execution_count": 5,
     "metadata": {},
     "output_type": "execute_result"
    }
   ],
   "source": [
    "a = [1,2,3,4,5,6,7,8]\n",
    "sta.mean(a)"
   ]
  },
  {
   "cell_type": "markdown",
   "id": "383ea2e6-44be-43fa-a756-6f255da51fe0",
   "metadata": {},
   "source": [
    "statistics:\n",
    "\n",
    "Basically Statistics can be defined as a science which deals with collection, presentation, analysis and interpretation of data.\n",
    "\n",
    "Broad aspect: statistics covers the area of design of surveys and experiments.\n",
    "\n",
    "statistics can be partitioned into two grouped:\n",
    "\n",
    "1. inductive statistics(inferential) is used for generalization of data or decision making about the population.\n",
    "\n",
    "2. inductive statistics(descriptive) this is where data are anlysed and presented without any generalization about the population."
   ]
  },
  {
   "cell_type": "code",
   "execution_count": null,
   "id": "ed4eb696-d395-4f42-8a2d-e16bab110adb",
   "metadata": {},
   "outputs": [],
   "source": []
  },
  {
   "cell_type": "code",
   "execution_count": null,
   "id": "d1c7aa54-000a-4fc0-8fa9-2f899b425283",
   "metadata": {},
   "outputs": [],
   "source": []
  }
 ],
 "metadata": {
  "kernelspec": {
   "display_name": "onecampusenv",
   "language": "python",
   "name": "onecampusenv"
  },
  "language_info": {
   "codemirror_mode": {
    "name": "ipython",
    "version": 3
   },
   "file_extension": ".py",
   "mimetype": "text/x-python",
   "name": "python",
   "nbconvert_exporter": "python",
   "pygments_lexer": "ipython3",
   "version": "3.11.3"
  }
 },
 "nbformat": 4,
 "nbformat_minor": 5
}
