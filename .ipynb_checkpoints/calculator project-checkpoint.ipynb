{
 "cells": [
  {
   "cell_type": "code",
   "execution_count": 2,
   "id": "cd215ee4",
   "metadata": {},
   "outputs": [
    {
     "name": "stdout",
     "output_type": "stream",
     "text": [
      "please specify operator: d\n",
      "please provide a value for num1: 3\n",
      "please provide a value for num2: 3\n",
      "1.0\n"
     ]
    }
   ],
   "source": [
    "# this calculator compute simple two values for addition, subtraction, multiplication, division and power(exponent)\n",
    "def calculator():\n",
    "    # request input from user\n",
    "    opr = input(\"please specify operator: \")\n",
    "    num1 = float(input(\"please provide a value for num1: \"))\n",
    "    num2 = float(input(\"please provide a value for num2: \"))\n",
    "    \n",
    "    # computing operators +, -, *, / **\n",
    "    if opr == 'a' or opr == 'A' or opr == 'Addition' or opr[0] == 'a':\n",
    "        get_nums = num1 + num2\n",
    "        print(get_nums)\n",
    "        \n",
    "    elif opr == 's' or opr == 'S' or opr == 'subtraction' or opr[0] == 's':\n",
    "        get_sub = num1 - num2\n",
    "        print(get_sub)\n",
    "        \n",
    "    elif opr == 'm' or opr == 'M' or opr == 'multiplication' or opr[0] == 'm':\n",
    "        get_mult = num1 * num2\n",
    "        print(get_mult)\n",
    "        \n",
    "    elif opr == 'd' or opr == 'D' or opr == 'division' or opr[0] == 'd':\n",
    "        get_div = num1 / num2\n",
    "        print(get_div)\n",
    "        \n",
    "    elif opr[0] == \"e\" or opr == 'E' or opr == 'exponent':\n",
    "        get_e =  num1 ** num2\n",
    "        print(get_e)\n",
    "        \n",
    "    else:\n",
    "        print('wrong input')\n",
    "\n",
    "\n",
    "calculator()"
   ]
  },
  {
   "cell_type": "code",
   "execution_count": null,
   "id": "7197e10b",
   "metadata": {},
   "outputs": [],
   "source": [
    "\n"
   ]
  },
  {
   "cell_type": "code",
   "execution_count": null,
   "id": "a1752fc6",
   "metadata": {},
   "outputs": [],
   "source": [
    "\n"
   ]
  },
  {
   "cell_type": "code",
   "execution_count": null,
   "id": "4d450d23",
   "metadata": {},
   "outputs": [],
   "source": []
  }
 ],
 "metadata": {
  "kernelspec": {
   "display_name": "Python 3 (ipykernel)",
   "language": "python",
   "name": "python3"
  },
  "language_info": {
   "codemirror_mode": {
    "name": "ipython",
    "version": 3
   },
   "file_extension": ".py",
   "mimetype": "text/x-python",
   "name": "python",
   "nbconvert_exporter": "python",
   "pygments_lexer": "ipython3",
   "version": "3.10.9"
  }
 },
 "nbformat": 4,
 "nbformat_minor": 5
}
