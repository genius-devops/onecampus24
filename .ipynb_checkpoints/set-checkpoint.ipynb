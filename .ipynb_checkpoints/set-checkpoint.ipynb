{
 "cells": [
  {
   "cell_type": "code",
   "execution_count": 1,
   "id": "70cfe376",
   "metadata": {},
   "outputs": [
    {
     "data": {
      "text/plain": [
       "set"
      ]
     },
     "execution_count": 1,
     "metadata": {},
     "output_type": "execute_result"
    }
   ],
   "source": [
    "# python sets\n",
    "# set are denoted by opening and closing curly brackets\n",
    "# these are container that are mutable\n",
    "# set are able to hold multiple items sepersted by comma\n",
    "# each items in a set is not assign an index position\n",
    "# items in a set are unordered\n",
    "# set doesnot allow indexing\n",
    "# set dooes not duplicate\n",
    "\n",
    "\n",
    "\n",
    "\n",
    "myset = set()\n",
    "type(myset)"
   ]
  },
  {
   "cell_type": "code",
   "execution_count": 3,
   "id": "635098f4",
   "metadata": {},
   "outputs": [],
   "source": [
    "set2 = {'Gabriel', 'Olubaju', 'Toluwami', 'Archibong', 'James', 'Labaran', 'Agatha', 'Malik'}\n",
    "stud_set = {'James', 'Mercy', 'Chibuke', 'Aiysha', 'Femi', 'Olubaju', 'Labara,', 'Henry', 'Malik' }"
   ]
  },
  {
   "cell_type": "code",
   "execution_count": 4,
   "id": "d89148d7",
   "metadata": {},
   "outputs": [
    {
     "data": {
      "text/plain": [
       "{'James', 'Malik', 'Olubaju'}"
      ]
     },
     "execution_count": 4,
     "metadata": {},
     "output_type": "execute_result"
    }
   ],
   "source": [
    "# set function\n",
    "# .intersection(): returns what is common between different sets or multiple sets\n",
    "\n",
    "stud_set.intersection(set2)"
   ]
  },
  {
   "cell_type": "code",
   "execution_count": null,
   "id": "c8ff339e",
   "metadata": {},
   "outputs": [],
   "source": [
    "# set can be used to determine the number of people that have both saving account and current account.\n",
    "# scnario: name of all customer that heve savings account in a set and name of all customer that have an account in a current account\n",
    "# then intersect them the names of customer that opperate the both account sets will fetch them out.\n",
    "# teaching math, chemistry, physics: intersect the name of students offer mat and chm to the names of students offering bth courses\n",
    "# .intersection().intersection().intersection can called multiple times when intersecting different variables.\n",
    "# .difference is used when determining which student takes chemstry but not physics\n",
    "\n",
    "# students who take chemistry but not physics: chm_stu.difference(phy_stud)\n",
    "# students who take physics but not chemistry: phy_stu.difference(chm_stud)"
   ]
  },
  {
   "cell_type": "code",
   "execution_count": 11,
   "id": "a79682ac",
   "metadata": {},
   "outputs": [],
   "source": [
    "# .difference()\n",
    "\n",
    "set2 = {'Gabriel', 'Olubaju', 'Toluwami', 'Archibong', 'James', 'Labaran', 'Agatha', 'Malik'}\n",
    "stud_set = {'James', 'Mercy', 'Chibuke', 'Aiysha', 'Femi', 'Olubaju', 'Labaran', 'Henry', 'Malik' }\n",
    "\n",
    "x1 = stud_set.difference(set2)  # returns only the items in stud_set that are not found in set2\n",
    "x2 = set2.difference(stud_set)  # returns only the itms in set2 that are not found in stud_set"
   ]
  },
  {
   "cell_type": "code",
   "execution_count": 12,
   "id": "ca7f2c57",
   "metadata": {},
   "outputs": [
    {
     "data": {
      "text/plain": [
       "{'Aiysha', 'Chibuke', 'Femi', 'Henry', 'Mercy'}"
      ]
     },
     "execution_count": 12,
     "metadata": {},
     "output_type": "execute_result"
    }
   ],
   "source": [
    "x1"
   ]
  },
  {
   "cell_type": "code",
   "execution_count": 13,
   "id": "f002cf1a",
   "metadata": {},
   "outputs": [
    {
     "data": {
      "text/plain": [
       "{'Agatha', 'Archibong', 'Gabriel', 'Toluwami'}"
      ]
     },
     "execution_count": 13,
     "metadata": {},
     "output_type": "execute_result"
    }
   ],
   "source": [
    "x2"
   ]
  },
  {
   "cell_type": "code",
   "execution_count": 14,
   "id": "45d54a79",
   "metadata": {},
   "outputs": [
    {
     "name": "stdout",
     "output_type": "stream",
     "text": [
      "{'Chibuke', 'Gabriel', 'Mercy', 'James', 'Agatha', 'Henry', 'Toluwami', 'Femi', 'Malik', 'Archibong', 'Labaran', 'Olubaju', 'Aiysha'}\n"
     ]
    }
   ],
   "source": [
    "# .union: merge the contents of sets while removing duplicates\n",
    "set2 = {'Gabriel', 'Olubaju', 'Toluwami', 'Archibong', 'James', 'Labaran', 'Agatha', 'Malik'}\n",
    "stud_set = {'James', 'Mercy', 'Chibuke', 'Aiysha', 'Femi', 'Olubaju', 'Labaran', 'Henry', 'Malik' }\n",
    "\n",
    "x3 = stud_set.union(set2)\n",
    "print(x3)\n"
   ]
  },
  {
   "cell_type": "code",
   "execution_count": null,
   "id": "92dd546d",
   "metadata": {},
   "outputs": [],
   "source": [
    "# scnario:  "
   ]
  }
 ],
 "metadata": {
  "kernelspec": {
   "display_name": "Python 3 (ipykernel)",
   "language": "python",
   "name": "python3"
  },
  "language_info": {
   "codemirror_mode": {
    "name": "ipython",
    "version": 3
   },
   "file_extension": ".py",
   "mimetype": "text/x-python",
   "name": "python",
   "nbconvert_exporter": "python",
   "pygments_lexer": "ipython3",
   "version": "3.10.9"
  }
 },
 "nbformat": 4,
 "nbformat_minor": 5
}
