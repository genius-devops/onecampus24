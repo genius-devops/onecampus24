{
 "cells": [
  {
   "cell_type": "code",
   "execution_count": 1,
   "id": "1e23e5b2",
   "metadata": {},
   "outputs": [],
   "source": [
    "# PYTHON DICTIONARIES"
   ]
  },
  {
   "cell_type": "code",
   "execution_count": null,
   "id": "4e91d369",
   "metadata": {},
   "outputs": [],
   "source": [
    "# Scenario 1: We want to store information about student names in a class and their exam scores for chemistry\n",
    "\n",
    "# Scenariuo 2: holding iventory of products in a store and their quantity or price"
   ]
  },
  {
   "cell_type": "code",
   "execution_count": 5,
   "id": "4a577bbe",
   "metadata": {},
   "outputs": [],
   "source": [
    "chemStuds = ['Florence', 'Onyeagoro','Aina','Elizabeth','Okafor', 'Thelma', 'Blessing', 'Goodness']\n",
    "chemScores = [87,89,95,67,90,45,35, 83]"
   ]
  },
  {
   "cell_type": "code",
   "execution_count": null,
   "id": "71a616d8",
   "metadata": {},
   "outputs": [],
   "source": [
    "# Challenge:Given the name Aina, find his exam score"
   ]
  },
  {
   "cell_type": "code",
   "execution_count": 7,
   "id": "b835370c",
   "metadata": {},
   "outputs": [
    {
     "name": "stdout",
     "output_type": "stream",
     "text": [
      "2\n",
      "95\n"
     ]
    }
   ],
   "source": [
    "# Step 1: Find the index position of the name in the chemStuds list\n",
    "\n",
    "idxPos = chemStuds.index('Aina')\n",
    "\n",
    "print(idxPos)\n",
    "\n",
    "# Step 2: get Aina's score from the chemScores list using the index position\n",
    "\n",
    "score = chemScores[idxPos]\n",
    "\n",
    "print(score)"
   ]
  },
  {
   "cell_type": "code",
   "execution_count": null,
   "id": "87945e28",
   "metadata": {},
   "outputs": [],
   "source": [
    "# Dictionaries\n",
    "\n",
    "\n",
    "1. Dictioanries are a container type that hold items in pairs of Kes: Values\n",
    "2. Dictionaries do not allow duplicate keys. There can be duplicate values  \n",
    "3. Keys must immutable\n",
    "4. Dictionaries are denoted by opening an d closing curly brace\n",
    "5. Each KEY: VALUE pair must be separated from the next by a comma\n",
    "    "
   ]
  },
  {
   "cell_type": "code",
   "execution_count": null,
   "id": "1589503e",
   "metadata": {},
   "outputs": [],
   "source": [
    "# SYNTAX of a dictionay\n",
    "\n",
    "\n",
    "myDict = {KEY1:VALUE1, KEY2:VALUE2, KEY3:VALUE3,,,,,,,,KEYn:VALUEn}"
   ]
  },
  {
   "cell_type": "code",
   "execution_count": null,
   "id": "cb7c4e88",
   "metadata": {},
   "outputs": [],
   "source": [
    "# Example of a dictionar\n",
    "\n",
    "Tunde has thre bank accounts in ABC Bank. savings with 5900, current acct with 6000 and investmenta cct with 400\n",
    "\n",
    "Put in a dictionary"
   ]
  },
  {
   "cell_type": "code",
   "execution_count": 9,
   "id": "dac94fd4",
   "metadata": {},
   "outputs": [],
   "source": [
    "tundeAcct = {'savings':5900, 'current':6000, 'investment':400}"
   ]
  },
  {
   "cell_type": "code",
   "execution_count": null,
   "id": "c3698205",
   "metadata": {},
   "outputs": [],
   "source": [
    "acctType = ['savings', 'current', 'investments']\n",
    "bals = [5900, 6000, 400]"
   ]
  },
  {
   "cell_type": "code",
   "execution_count": 10,
   "id": "883eb03d",
   "metadata": {
    "scrolled": true
   },
   "outputs": [
    {
     "data": {
      "text/plain": [
       "6000"
      ]
     },
     "execution_count": 10,
     "metadata": {},
     "output_type": "execute_result"
    }
   ],
   "source": [
    "# How to get a vlue from a disctionary when we have the key\n",
    "\n",
    "\n",
    "tundeAcct['current']"
   ]
  },
  {
   "cell_type": "code",
   "execution_count": 11,
   "id": "b54d41ea",
   "metadata": {},
   "outputs": [],
   "source": [
    "bal = tundeAcct['current']"
   ]
  },
  {
   "cell_type": "code",
   "execution_count": 12,
   "id": "7bf53ce7",
   "metadata": {},
   "outputs": [
    {
     "data": {
      "text/plain": [
       "6000"
      ]
     },
     "execution_count": 12,
     "metadata": {},
     "output_type": "execute_result"
    }
   ],
   "source": [
    "bal"
   ]
  },
  {
   "cell_type": "code",
   "execution_count": 13,
   "id": "d1634570",
   "metadata": {},
   "outputs": [
    {
     "data": {
      "text/plain": [
       "dict_keys(['savings', 'current', 'investment'])"
      ]
     },
     "execution_count": 13,
     "metadata": {},
     "output_type": "execute_result"
    }
   ],
   "source": [
    "# Fetch all the keys in a dictionary\n",
    "\n",
    "\n",
    "tundeAcct.keys()"
   ]
  },
  {
   "cell_type": "code",
   "execution_count": 14,
   "id": "9f536322",
   "metadata": {},
   "outputs": [
    {
     "data": {
      "text/plain": [
       "['savings', 'current', 'investment']"
      ]
     },
     "execution_count": 14,
     "metadata": {},
     "output_type": "execute_result"
    }
   ],
   "source": [
    "# Convert to a list\n",
    "\n",
    "list(tundeAcct.keys())"
   ]
  },
  {
   "cell_type": "code",
   "execution_count": 15,
   "id": "7e86979d",
   "metadata": {},
   "outputs": [
    {
     "data": {
      "text/plain": [
       "dict_values([5900, 6000, 400])"
      ]
     },
     "execution_count": 15,
     "metadata": {},
     "output_type": "execute_result"
    }
   ],
   "source": [
    "# fetch all the values in a dictionry\n",
    "\n",
    "tundeAcct.values()"
   ]
  },
  {
   "cell_type": "code",
   "execution_count": 16,
   "id": "f0d358dc",
   "metadata": {},
   "outputs": [
    {
     "data": {
      "text/plain": [
       "[5900, 6000, 400]"
      ]
     },
     "execution_count": 16,
     "metadata": {},
     "output_type": "execute_result"
    }
   ],
   "source": [
    "# Convert to a list\n",
    "\n",
    "list(tundeAcct.values())"
   ]
  },
  {
   "cell_type": "code",
   "execution_count": 17,
   "id": "6be85e5f",
   "metadata": {},
   "outputs": [],
   "source": [
    "# Add another type of account and balance to the dictionary\n",
    "\n",
    "'FixedDep'\n",
    "\n",
    "tundeAcct['FixedDep'] = 7600"
   ]
  },
  {
   "cell_type": "code",
   "execution_count": 18,
   "id": "6d8d01bd",
   "metadata": {},
   "outputs": [
    {
     "data": {
      "text/plain": [
       "{'savings': 5900, 'current': 6000, 'investment': 400, 'FixedDep': 7600}"
      ]
     },
     "execution_count": 18,
     "metadata": {},
     "output_type": "execute_result"
    }
   ],
   "source": [
    "tundeAcct"
   ]
  },
  {
   "cell_type": "code",
   "execution_count": 19,
   "id": "4944a0f0",
   "metadata": {},
   "outputs": [],
   "source": [
    "\n",
    "\n",
    "chemStuds = ['Florence', 'Onyeagoro','Aina','Elizabeth','Okafor', 'Thelma', 'Blessing', 'Goodness']\n",
    "chemScores = [87,89,95,67,90,45,35, 83]"
   ]
  },
  {
   "cell_type": "code",
   "execution_count": 20,
   "id": "deac505e",
   "metadata": {},
   "outputs": [],
   "source": [
    "# For Loop Tutoria\n",
    "\n",
    "\n",
    "# For loops enable us to go through the content of any container and fetch each item  to do something with"
   ]
  },
  {
   "cell_type": "code",
   "execution_count": 21,
   "id": "e0183e17",
   "metadata": {},
   "outputs": [
    {
     "name": "stdout",
     "output_type": "stream",
     "text": [
      "savings\n",
      "current\n",
      "investments\n"
     ]
    }
   ],
   "source": [
    "\n",
    "acctType = ['savings', 'current', 'investments']\n",
    "\n",
    "for acct in acctType:\n",
    "    print(acct)\n"
   ]
  },
  {
   "cell_type": "code",
   "execution_count": 22,
   "id": "2b05345a",
   "metadata": {},
   "outputs": [
    {
     "name": "stdout",
     "output_type": "stream",
     "text": [
      "Florence 87\n",
      "Onyeagoro 89\n",
      "Aina 95\n",
      "Elizabeth 67\n",
      "Okafor 90\n",
      "Thelma 45\n",
      "Blessing 35\n",
      "Goodness 83\n"
     ]
    }
   ],
   "source": [
    "chemStuds = ['Florence', 'Onyeagoro','Aina','Elizabeth','Okafor', 'Thelma', 'Blessing', 'Goodness']\n",
    "chemScores = [87,89,95,67,90,45,35, 83]\n",
    "\n",
    "\n",
    "for name, score in zip(chemStuds,chemScores ):\n",
    "    print(name, score)"
   ]
  },
  {
   "cell_type": "code",
   "execution_count": 25,
   "id": "788100cc",
   "metadata": {},
   "outputs": [
    {
     "name": "stdout",
     "output_type": "stream",
     "text": [
      "########################################\n",
      "entering the containers\n",
      "current index position being fetched is:  0\n",
      "fetched  Florence 87  at index position  0\n",
      "Florence 87\n",
      "##########################################\n",
      "########################################\n",
      "entering the containers\n",
      "current index position being fetched is:  1\n",
      "fetched  Onyeagoro 89  at index position  1\n",
      "Onyeagoro 89\n",
      "##########################################\n",
      "########################################\n",
      "entering the containers\n",
      "current index position being fetched is:  2\n",
      "fetched  Aina 95  at index position  2\n",
      "Aina 95\n",
      "##########################################\n",
      "########################################\n",
      "entering the containers\n",
      "current index position being fetched is:  3\n",
      "fetched  Elizabeth 67  at index position  3\n",
      "Elizabeth 67\n",
      "##########################################\n",
      "########################################\n",
      "entering the containers\n",
      "current index position being fetched is:  4\n",
      "fetched  Okafor 90  at index position  4\n",
      "Okafor 90\n",
      "##########################################\n",
      "########################################\n",
      "entering the containers\n",
      "current index position being fetched is:  5\n",
      "fetched  Thelma 45  at index position  5\n",
      "Thelma 45\n",
      "##########################################\n",
      "########################################\n",
      "entering the containers\n",
      "current index position being fetched is:  6\n",
      "fetched  Blessing 35  at index position  6\n",
      "Blessing 35\n",
      "##########################################\n",
      "########################################\n",
      "entering the containers\n",
      "current index position being fetched is:  7\n",
      "fetched  Goodness 83  at index position  7\n",
      "Goodness 83\n",
      "##########################################\n"
     ]
    }
   ],
   "source": [
    "chemStuds = ['Florence', 'Onyeagoro','Aina','Elizabeth','Okafor', 'Thelma', 'Blessing', 'Goodness']\n",
    "chemScores = [87,89,95,67,90,45,35, 83]\n",
    "\n",
    "n = 0\n",
    "for name, score in zip(chemStuds,chemScores ):\n",
    "    print('########################################')\n",
    "    print('entering the containers')\n",
    "    print('current index position being fetched is: ', n)\n",
    "    \n",
    "    print( \"fetched \", name, score , ' at index position ', n)\n",
    "    \n",
    "    print(name, score)\n",
    "    print('##########################################')\n",
    "    n = n + 1"
   ]
  },
  {
   "cell_type": "code",
   "execution_count": 37,
   "id": "499a34e3",
   "metadata": {},
   "outputs": [
    {
     "name": "stdout",
     "output_type": "stream",
     "text": [
      "Florence 87\n",
      "{'Florence': 87}\n",
      "Onyeagoro 89\n",
      "{'Florence': 87, 'Onyeagoro': 89}\n",
      "Aina 95\n",
      "{'Florence': 87, 'Onyeagoro': 89, 'Aina': 95}\n",
      "Elizabeth 67\n",
      "{'Florence': 87, 'Onyeagoro': 89, 'Aina': 95, 'Elizabeth': 67}\n",
      "Okafor 90\n",
      "{'Florence': 87, 'Onyeagoro': 89, 'Aina': 95, 'Elizabeth': 67, 'Okafor': 90}\n",
      "Thelma 45\n",
      "{'Florence': 87, 'Onyeagoro': 89, 'Aina': 95, 'Elizabeth': 67, 'Okafor': 90, 'Thelma': 45}\n",
      "Blessing 35\n",
      "{'Florence': 87, 'Onyeagoro': 89, 'Aina': 95, 'Elizabeth': 67, 'Okafor': 90, 'Thelma': 45, 'Blessing': 35}\n",
      "Goodness 83\n",
      "{'Florence': 87, 'Onyeagoro': 89, 'Aina': 95, 'Elizabeth': 67, 'Okafor': 90, 'Thelma': 45, 'Blessing': 35, 'Goodness': 83}\n",
      "Aina 50\n",
      "{'Florence': 87, 'Onyeagoro': 89, 'Aina': 50, 'Elizabeth': 67, 'Okafor': 90, 'Thelma': 45, 'Blessing': 35, 'Goodness': 83}\n"
     ]
    }
   ],
   "source": [
    " # construct the dictionary\n",
    "    \n",
    "chemStuds = ['Florence', 'Onyeagoro','Aina','Elizabeth','Okafor', 'Thelma', 'Blessing', 'Goodness']\n",
    "chemScores = [87,89,95,67,90,45,35, 83]\n",
    "\n",
    "# create empty dictionary\n",
    "\n",
    "examDict = dict()\n",
    "\n",
    "for name, score in zip(chemStuds,chemScores ):\n",
    "    # print(name, score)\n",
    "    print(name, score)\n",
    "    examDict[name]  = score\n",
    "    print(examDict)\n",
    "    \n",
    "    \n",
    "#print(examDict)    "
   ]
  },
  {
   "cell_type": "code",
   "execution_count": 28,
   "id": "ec61513e",
   "metadata": {},
   "outputs": [
    {
     "name": "stdout",
     "output_type": "stream",
     "text": [
      "Florence\n",
      "Onyeagoro\n",
      "Aina\n",
      "Elizabeth\n",
      "Okafor\n",
      "Thelma\n",
      "Blessing\n",
      "Goodness\n"
     ]
    }
   ],
   "source": [
    "chemStuds = ['Florence', 'Onyeagoro','Aina','Elizabeth','Okafor', 'Thelma', 'Blessing', 'Goodness']\n",
    "\n",
    "for name in chemStuds:\n",
    "    print(name)"
   ]
  },
  {
   "cell_type": "code",
   "execution_count": null,
   "id": "2fb8477a",
   "metadata": {},
   "outputs": [],
   "source": [
    "# NEVER use sets for Dictionary as below!!!!!!!!!!!!!!!!!!!!!!!!!!!!!!!!!!!!!!!!!!!!!!!!!!!!!!!!!!!!!!!!!!!!!!!!!!\n",
    "\n",
    " # construct the dictionary\n",
    "    \n",
    "chemStuds = { 'Florence', 'Onyeagoro','Aina','Elizabeth','Okafor', 'Thelma', 'Blessing', 'Goodness'}\n",
    "chemScores = { 87,89,95,67,90,45,35, 83}\n",
    "\n",
    "# create empty dictionary\n",
    "\n",
    "examDict = dict()\n",
    "\n",
    "for name, score in zip(list(chemStuds),list(chemScores) ):\n",
    "    # print(name, score)\n",
    "    print(name, score)\n",
    "    examDict[name]  = score\n",
    "    print(examDict)\n",
    "    \n",
    "    \n",
    "#print(examDict)"
   ]
  },
  {
   "cell_type": "code",
   "execution_count": 40,
   "id": "159406f2",
   "metadata": {},
   "outputs": [],
   "source": [
    "newDict = {'Florence': 87, 'Onyeagoro': 89, 'Aina': 50, \n",
    "           'Elizabeth': 67, 'Okafor': 90, 'Thelma': 45, \n",
    "           'Blessing': 35, 'Goodness': 83}"
   ]
  },
  {
   "cell_type": "code",
   "execution_count": 41,
   "id": "dbff8668",
   "metadata": {},
   "outputs": [
    {
     "name": "stdout",
     "output_type": "stream",
     "text": [
      "Florence 87\n",
      "Onyeagoro 89\n",
      "Aina 50\n",
      "Elizabeth 67\n",
      "Okafor 90\n",
      "Thelma 45\n",
      "Blessing 35\n",
      "Goodness 83\n"
     ]
    }
   ],
   "source": [
    "# unpack a dictionary to get each key and its corresponding value\n",
    "\n",
    "for name, score in newDict.items():\n",
    "    print(name, score)"
   ]
  },
  {
   "cell_type": "code",
   "execution_count": 42,
   "id": "267e03ec",
   "metadata": {},
   "outputs": [
    {
     "data": {
      "text/plain": [
       "dict_items([('Florence', 87), ('Onyeagoro', 89), ('Aina', 50), ('Elizabeth', 67), ('Okafor', 90), ('Thelma', 45), ('Blessing', 35), ('Goodness', 83)])"
      ]
     },
     "execution_count": 42,
     "metadata": {},
     "output_type": "execute_result"
    }
   ],
   "source": [
    "newDict.items()"
   ]
  },
  {
   "cell_type": "code",
   "execution_count": 43,
   "id": "14f28a09",
   "metadata": {},
   "outputs": [],
   "source": [
    "x , y = ('Florence', 87)"
   ]
  },
  {
   "cell_type": "code",
   "execution_count": 44,
   "id": "d46b963b",
   "metadata": {},
   "outputs": [
    {
     "data": {
      "text/plain": [
       "'Florence'"
      ]
     },
     "execution_count": 44,
     "metadata": {},
     "output_type": "execute_result"
    }
   ],
   "source": [
    "x"
   ]
  },
  {
   "cell_type": "code",
   "execution_count": 45,
   "id": "2abd62c0",
   "metadata": {},
   "outputs": [
    {
     "data": {
      "text/plain": [
       "87"
      ]
     },
     "execution_count": 45,
     "metadata": {},
     "output_type": "execute_result"
    }
   ],
   "source": [
    "y"
   ]
  },
  {
   "cell_type": "code",
   "execution_count": null,
   "id": "57898cfc",
   "metadata": {},
   "outputs": [],
   "source": [
    "# Python Functions\n",
    "\n",
    "Functions are a specialized block of code that is designed to do one thing only"
   ]
  },
  {
   "cell_type": "code",
   "execution_count": 47,
   "id": "ba6310f8",
   "metadata": {},
   "outputs": [],
   "source": [
    "# Function Syntax\n",
    "\n",
    "def currencyConverter(amt):\n",
    "    value = amt * 11.97\n",
    "    \n",
    "    print(value) "
   ]
  },
  {
   "cell_type": "code",
   "execution_count": 48,
   "id": "1554fe29",
   "metadata": {},
   "outputs": [
    {
     "name": "stdout",
     "output_type": "stream",
     "text": [
      "23940.0\n"
     ]
    }
   ],
   "source": [
    "currencyConverter(2000)"
   ]
  },
  {
   "cell_type": "code",
   "execution_count": null,
   "id": "13c89cd2",
   "metadata": {},
   "outputs": [],
   "source": [
    "# things we should know about functions\n",
    "\n",
    "1. functions can receieve valies as inputs or they also not be designed to recieve inputs\n",
    "\n",
    "2. function can return a value to its caller or not\n",
    "3. If a function returns a value, you must create a new variable to recieve the value when you call the function"
   ]
  },
  {
   "cell_type": "code",
   "execution_count": 49,
   "id": "ffc50264",
   "metadata": {},
   "outputs": [],
   "source": [
    "# Function Syntax\n",
    "\n",
    "def currencyConverter1(amt):\n",
    "    value = amt * 11.97\n",
    "    \n",
    "    return value"
   ]
  },
  {
   "cell_type": "code",
   "execution_count": 51,
   "id": "83822e75",
   "metadata": {},
   "outputs": [],
   "source": [
    "res = currencyConverter1(2000)"
   ]
  },
  {
   "cell_type": "code",
   "execution_count": 52,
   "id": "f7f84d58",
   "metadata": {},
   "outputs": [
    {
     "name": "stdout",
     "output_type": "stream",
     "text": [
      "23940.0\n"
     ]
    }
   ],
   "source": [
    "print(res)"
   ]
  },
  {
   "cell_type": "code",
   "execution_count": null,
   "id": "e7679a98",
   "metadata": {},
   "outputs": [],
   "source": []
  },
  {
   "cell_type": "code",
   "execution_count": null,
   "id": "59308394",
   "metadata": {},
   "outputs": [],
   "source": [
    "# Challenge:\n",
    "\n",
    "#  tunde wants a function that will return the grade of sa student when the function given the exam score"
   ]
  },
  {
   "cell_type": "code",
   "execution_count": 53,
   "id": "118934f2",
   "metadata": {},
   "outputs": [],
   "source": [
    "chemStuds = ['Florence', 'Onyeagoro','Aina','Elizabeth','Okafor', 'Thelma', 'Blessing', 'Goodness']\n",
    "chemScores = [87,89,95,67,90,45,35, 83]"
   ]
  },
  {
   "cell_type": "code",
   "execution_count": 54,
   "id": "9d0a6781",
   "metadata": {},
   "outputs": [],
   "source": [
    "\n",
    "def scoreGrader(score, name, subject):\n",
    "    \n",
    "    if score >=90:\n",
    "        grade = 'A'\n",
    "    elif score >=80:\n",
    "        grade = 'B'\n",
    "    elif score >= 70:\n",
    "        grade = 'C'\n",
    "    elif score >= 60:\n",
    "        grade = 'D'\n",
    "    elif score >= 50:\n",
    "        grade = 'E'\n",
    "    else:\n",
    "        grade = 'F'\n",
    "    \n",
    "    return name, subject, score, grade\n",
    "    \n",
    "    "
   ]
  },
  {
   "cell_type": "code",
   "execution_count": 58,
   "id": "2e208caa",
   "metadata": {},
   "outputs": [
    {
     "name": "stdout",
     "output_type": "stream",
     "text": [
      "('Akintola', 'Chem101', 30, 'F')\n"
     ]
    }
   ],
   "source": [
    "\n",
    "score = 30\n",
    "name = 'Akintola'\n",
    "subject = 'Chem101'\n",
    "\n",
    "res = scoreGrader(score, name, subject)\n",
    "print(res)"
   ]
  },
  {
   "cell_type": "code",
   "execution_count": 61,
   "id": "03c4c26f",
   "metadata": {},
   "outputs": [],
   "source": [
    "import pandas as pd\n",
    "\n",
    "chemStuds = ['Florence', 'Onyeagoro','Aina','Elizabeth','Okafor', 'Thelma', 'Blessing', 'Goodness']\n",
    "chemScores = [87,89,95,67,90,45,35, 83]\n",
    "subj = 'Chem101'\n",
    "\n",
    "resList = []\n",
    "for name, score in zip(chemStuds, chemScores):\n",
    "    res = scoreGrader(score, name, subj)\n",
    "    resList.append(res)\n",
    "resDF = pd.DataFrame(resList, columns =['name', 'subject', 'score', 'Grade'])    "
   ]
  },
  {
   "cell_type": "code",
   "execution_count": 60,
   "id": "32c194f8",
   "metadata": {},
   "outputs": [
    {
     "data": {
      "text/plain": [
       "[('Florence', 'Chem101', 87, 'B'),\n",
       " ('Onyeagoro', 'Chem101', 89, 'B'),\n",
       " ('Aina', 'Chem101', 95, 'A'),\n",
       " ('Elizabeth', 'Chem101', 67, 'D'),\n",
       " ('Okafor', 'Chem101', 90, 'A'),\n",
       " ('Thelma', 'Chem101', 45, 'F'),\n",
       " ('Blessing', 'Chem101', 35, 'F'),\n",
       " ('Goodness', 'Chem101', 83, 'B')]"
      ]
     },
     "execution_count": 60,
     "metadata": {},
     "output_type": "execute_result"
    }
   ],
   "source": [
    "resList"
   ]
  },
  {
   "cell_type": "code",
   "execution_count": 62,
   "id": "7b018d3e",
   "metadata": {},
   "outputs": [
    {
     "data": {
      "text/html": [
       "<div>\n",
       "<style scoped>\n",
       "    .dataframe tbody tr th:only-of-type {\n",
       "        vertical-align: middle;\n",
       "    }\n",
       "\n",
       "    .dataframe tbody tr th {\n",
       "        vertical-align: top;\n",
       "    }\n",
       "\n",
       "    .dataframe thead th {\n",
       "        text-align: right;\n",
       "    }\n",
       "</style>\n",
       "<table border=\"1\" class=\"dataframe\">\n",
       "  <thead>\n",
       "    <tr style=\"text-align: right;\">\n",
       "      <th></th>\n",
       "      <th>name</th>\n",
       "      <th>subject</th>\n",
       "      <th>score</th>\n",
       "      <th>Grade</th>\n",
       "    </tr>\n",
       "  </thead>\n",
       "  <tbody>\n",
       "    <tr>\n",
       "      <th>0</th>\n",
       "      <td>Florence</td>\n",
       "      <td>Chem101</td>\n",
       "      <td>87</td>\n",
       "      <td>B</td>\n",
       "    </tr>\n",
       "    <tr>\n",
       "      <th>1</th>\n",
       "      <td>Onyeagoro</td>\n",
       "      <td>Chem101</td>\n",
       "      <td>89</td>\n",
       "      <td>B</td>\n",
       "    </tr>\n",
       "    <tr>\n",
       "      <th>2</th>\n",
       "      <td>Aina</td>\n",
       "      <td>Chem101</td>\n",
       "      <td>95</td>\n",
       "      <td>A</td>\n",
       "    </tr>\n",
       "    <tr>\n",
       "      <th>3</th>\n",
       "      <td>Elizabeth</td>\n",
       "      <td>Chem101</td>\n",
       "      <td>67</td>\n",
       "      <td>D</td>\n",
       "    </tr>\n",
       "    <tr>\n",
       "      <th>4</th>\n",
       "      <td>Okafor</td>\n",
       "      <td>Chem101</td>\n",
       "      <td>90</td>\n",
       "      <td>A</td>\n",
       "    </tr>\n",
       "    <tr>\n",
       "      <th>5</th>\n",
       "      <td>Thelma</td>\n",
       "      <td>Chem101</td>\n",
       "      <td>45</td>\n",
       "      <td>F</td>\n",
       "    </tr>\n",
       "    <tr>\n",
       "      <th>6</th>\n",
       "      <td>Blessing</td>\n",
       "      <td>Chem101</td>\n",
       "      <td>35</td>\n",
       "      <td>F</td>\n",
       "    </tr>\n",
       "    <tr>\n",
       "      <th>7</th>\n",
       "      <td>Goodness</td>\n",
       "      <td>Chem101</td>\n",
       "      <td>83</td>\n",
       "      <td>B</td>\n",
       "    </tr>\n",
       "  </tbody>\n",
       "</table>\n",
       "</div>"
      ],
      "text/plain": [
       "        name  subject  score Grade\n",
       "0   Florence  Chem101     87     B\n",
       "1  Onyeagoro  Chem101     89     B\n",
       "2       Aina  Chem101     95     A\n",
       "3  Elizabeth  Chem101     67     D\n",
       "4     Okafor  Chem101     90     A\n",
       "5     Thelma  Chem101     45     F\n",
       "6   Blessing  Chem101     35     F\n",
       "7   Goodness  Chem101     83     B"
      ]
     },
     "execution_count": 62,
     "metadata": {},
     "output_type": "execute_result"
    }
   ],
   "source": [
    "resDF"
   ]
  },
  {
   "cell_type": "code",
   "execution_count": 63,
   "id": "b4262022",
   "metadata": {},
   "outputs": [],
   "source": [
    "resDF.to_csv('examRes.csv')"
   ]
  },
  {
   "cell_type": "code",
   "execution_count": null,
   "id": "977946f9",
   "metadata": {},
   "outputs": [],
   "source": []
  },
  {
   "cell_type": "code",
   "execution_count": null,
   "id": "9bef1219",
   "metadata": {},
   "outputs": [],
   "source": [
    "# Creating a function from a simple script\n",
    "\n",
    " # construct the dictionary\n",
    "    \n",
    "chemStuds = ['Florence', 'Onyeagoro','Aina','Elizabeth','Okafor', 'Thelma', 'Blessing', 'Goodness']\n",
    "chemScores = [87,89,95,67,90,45,35, 83]\n",
    "\n",
    "# create empty dictionary\n",
    "\n",
    "examDict = dict()\n",
    "\n",
    "for name, score in zip(chemStuds,chemScores ):\n",
    "    # print(name, score)\n",
    "    print(name, score)\n",
    "    examDict[name]  = score\n",
    "    print(examDict)\n",
    "    \n",
    "    \n",
    "#print(examDict)    "
   ]
  },
  {
   "cell_type": "code",
   "execution_count": null,
   "id": "832fe851",
   "metadata": {},
   "outputs": [],
   "source": [
    "# Function Purpose:\n",
    "# it recieves two lists and converts them into a single dictionary"
   ]
  },
  {
   "cell_type": "code",
   "execution_count": 65,
   "id": "4822a543",
   "metadata": {},
   "outputs": [],
   "source": [
    "\n",
    "\n",
    "def dictGen(keyList, valList):\n",
    "    \n",
    "    examDict = dict()\n",
    "\n",
    "    for name, score in zip(keyList,valList ):\n",
    "        # print(name, score)\n",
    "        #print(name, score)\n",
    "        examDict[name]  = score\n",
    "        #print(examDict)    \n",
    "        \n",
    "    return examDict"
   ]
  },
  {
   "cell_type": "code",
   "execution_count": 66,
   "id": "6e3ecaf2",
   "metadata": {},
   "outputs": [],
   "source": [
    "chemStuds = ['Florence', 'Onyeagoro','Aina','Elizabeth','Okafor', 'Thelma', 'Blessing', 'Goodness']\n",
    "chemScores = [87,89,95,67,90,45,35, 83]\n",
    "\n",
    "\n",
    "res = dictGen(chemStuds, chemScores)"
   ]
  },
  {
   "cell_type": "code",
   "execution_count": 68,
   "id": "e542aa86",
   "metadata": {},
   "outputs": [
    {
     "name": "stdout",
     "output_type": "stream",
     "text": [
      "{'Florence': 87, 'Onyeagoro': 89, 'Aina': 95, 'Elizabeth': 67, 'Okafor': 90, 'Thelma': 45, 'Blessing': 35, 'Goodness': 83}\n"
     ]
    }
   ],
   "source": [
    "print(res)"
   ]
  },
  {
   "cell_type": "code",
   "execution_count": 69,
   "id": "165b605e",
   "metadata": {},
   "outputs": [],
   "source": [
    "prdts = ['tea', 'toothpast', 'milk', 'bread','coke']\n",
    "\n",
    "invList = [56,43,  12,20,100]"
   ]
  },
  {
   "cell_type": "code",
   "execution_count": 70,
   "id": "db0826a9",
   "metadata": {},
   "outputs": [
    {
     "name": "stdout",
     "output_type": "stream",
     "text": [
      "{'tea': 56, 'toothpast': 43, 'milk': 12, 'bread': 20, 'coke': 100}\n"
     ]
    }
   ],
   "source": [
    "res = dictGen(prdts, invList)\n",
    "print(res)"
   ]
  },
  {
   "cell_type": "code",
   "execution_count": 71,
   "id": "dde50683",
   "metadata": {},
   "outputs": [
    {
     "data": {
      "text/plain": [
       "43"
      ]
     },
     "execution_count": 71,
     "metadata": {},
     "output_type": "execute_result"
    }
   ],
   "source": [
    "# How much toothpast is in inventory\n",
    "\n",
    "res['toothpast']"
   ]
  },
  {
   "cell_type": "code",
   "execution_count": null,
   "id": "77950899",
   "metadata": {},
   "outputs": [],
   "source": []
  }
 ],
 "metadata": {
  "kernelspec": {
   "display_name": "Python 3 (ipykernel)",
   "language": "python",
   "name": "python3"
  },
  "language_info": {
   "codemirror_mode": {
    "name": "ipython",
    "version": 3
   },
   "file_extension": ".py",
   "mimetype": "text/x-python",
   "name": "python",
   "nbconvert_exporter": "python",
   "pygments_lexer": "ipython3",
   "version": "3.9.13"
  }
 },
 "nbformat": 4,
 "nbformat_minor": 5
}
