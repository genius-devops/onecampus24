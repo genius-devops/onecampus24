{
 "cells": [
  {
   "cell_type": "code",
   "execution_count": 4,
   "id": "506bf67f",
   "metadata": {},
   "outputs": [],
   "source": [
    "x = 5\n",
    "y = 7\n",
    "\n",
    "j = x*y"
   ]
  },
  {
   "cell_type": "code",
   "execution_count": 5,
   "id": "4a240a78",
   "metadata": {},
   "outputs": [
    {
     "name": "stdout",
     "output_type": "stream",
     "text": [
      "35\n"
     ]
    }
   ],
   "source": [
    "print(j)"
   ]
  },
  {
   "cell_type": "code",
   "execution_count": null,
   "id": "2e7019e8",
   "metadata": {},
   "outputs": [],
   "source": []
  },
  {
   "cell_type": "code",
   "execution_count": 6,
   "id": "77b844f7",
   "metadata": {},
   "outputs": [],
   "source": [
    "name = 'Nnenna'  #string\n",
    "\n",
    "age = 27"
   ]
  },
  {
   "cell_type": "code",
   "execution_count": 7,
   "id": "e44b44b3",
   "metadata": {},
   "outputs": [
    {
     "name": "stdout",
     "output_type": "stream",
     "text": [
      "27\n"
     ]
    }
   ],
   "source": [
    "print(age)"
   ]
  },
  {
   "cell_type": "markdown",
   "id": "bb001761",
   "metadata": {},
   "source": [
    "# Intro to Python"
   ]
  },
  {
   "cell_type": "code",
   "execution_count": 8,
   "id": "afd4806c",
   "metadata": {},
   "outputs": [],
   "source": [
    "name = 'Timothy'\n",
    "name2 = 'timothy'"
   ]
  },
  {
   "cell_type": "code",
   "execution_count": 9,
   "id": "4bb7843b",
   "metadata": {},
   "outputs": [
    {
     "data": {
      "text/plain": [
       "False"
      ]
     },
     "execution_count": 9,
     "metadata": {},
     "output_type": "execute_result"
    }
   ],
   "source": [
    "name == name2"
   ]
  },
  {
   "cell_type": "code",
   "execution_count": null,
   "id": "2c5a76cf",
   "metadata": {},
   "outputs": [],
   "source": [
    "# Variables\n",
    "# Variable types\n",
    "# Operators\n",
    "# How to write comments\n",
    "\n",
    "# Python Expressions"
   ]
  },
  {
   "cell_type": "code",
   "execution_count": null,
   "id": "f8f0ea29",
   "metadata": {},
   "outputs": [],
   "source": [
    "Scenario1\n",
    "# Timothy if my friend. He is 30 years old and earns $2000"
   ]
  },
  {
   "cell_type": "code",
   "execution_count": null,
   "id": "1cfd6750",
   "metadata": {},
   "outputs": [],
   "source": [
    "# TAssk: convert the scenario to code in python"
   ]
  },
  {
   "cell_type": "code",
   "execution_count": 12,
   "id": "15fce5f5",
   "metadata": {},
   "outputs": [],
   "source": [
    "name = \"Timothy\"\n",
    "age = 30\n",
    "income = 2000"
   ]
  },
  {
   "cell_type": "code",
   "execution_count": 13,
   "id": "25a92dab",
   "metadata": {},
   "outputs": [
    {
     "data": {
      "text/plain": [
       "'Timothy'"
      ]
     },
     "execution_count": 13,
     "metadata": {},
     "output_type": "execute_result"
    }
   ],
   "source": [
    "name"
   ]
  },
  {
   "cell_type": "code",
   "execution_count": 14,
   "id": "41d2eccd",
   "metadata": {},
   "outputs": [
    {
     "name": "stdout",
     "output_type": "stream",
     "text": [
      "Timothy\n"
     ]
    }
   ],
   "source": [
    "print(name)"
   ]
  },
  {
   "cell_type": "code",
   "execution_count": 15,
   "id": "30448e5e",
   "metadata": {},
   "outputs": [
    {
     "name": "stdout",
     "output_type": "stream",
     "text": [
      "30\n"
     ]
    }
   ],
   "source": [
    "print(age)"
   ]
  },
  {
   "cell_type": "code",
   "execution_count": 19,
   "id": "da7eeb0a",
   "metadata": {},
   "outputs": [
    {
     "ename": "NameError",
     "evalue": "name 'Income' is not defined",
     "output_type": "error",
     "traceback": [
      "\u001b[1;31m---------------------------------------------------------------------------\u001b[0m",
      "\u001b[1;31mNameError\u001b[0m                                 Traceback (most recent call last)",
      "\u001b[1;32m~\\AppData\\Local\\Temp\\ipykernel_111860\\1902992472.py\u001b[0m in \u001b[0;36m<module>\u001b[1;34m\u001b[0m\n\u001b[1;32m----> 1\u001b[1;33m \u001b[0mprint\u001b[0m\u001b[1;33m(\u001b[0m\u001b[0mIncome\u001b[0m\u001b[1;33m)\u001b[0m\u001b[1;33m\u001b[0m\u001b[1;33m\u001b[0m\u001b[0m\n\u001b[0m",
      "\u001b[1;31mNameError\u001b[0m: name 'Income' is not defined"
     ]
    }
   ],
   "source": [
    "print(Income)"
   ]
  },
  {
   "cell_type": "code",
   "execution_count": 17,
   "id": "d6b757bf",
   "metadata": {},
   "outputs": [
    {
     "data": {
      "text/plain": [
       "60000"
      ]
     },
     "execution_count": 17,
     "metadata": {},
     "output_type": "execute_result"
    }
   ],
   "source": [
    "30 * 2000"
   ]
  },
  {
   "cell_type": "code",
   "execution_count": 18,
   "id": "f815d6d4",
   "metadata": {},
   "outputs": [
    {
     "data": {
      "text/plain": [
       "60000"
      ]
     },
     "execution_count": 18,
     "metadata": {},
     "output_type": "execute_result"
    }
   ],
   "source": [
    "age * income"
   ]
  },
  {
   "cell_type": "code",
   "execution_count": 22,
   "id": "1e25cc6e",
   "metadata": {},
   "outputs": [],
   "source": [
    "name3  = 'Besi`'"
   ]
  },
  {
   "cell_type": "code",
   "execution_count": 23,
   "id": "d35b6fc0",
   "metadata": {},
   "outputs": [
    {
     "name": "stdout",
     "output_type": "stream",
     "text": [
      "Besi`\n"
     ]
    }
   ],
   "source": [
    "print(name3)"
   ]
  },
  {
   "cell_type": "code",
   "execution_count": null,
   "id": "523f6e31",
   "metadata": {},
   "outputs": [],
   "source": [
    "# james is a teacher in St. Joseph College. \n",
    "#He teaches math, phy and chem. He is 45 years old and currently been teaching for 20 yesrs\n",
    "\n",
    "Represent the information using variables"
   ]
  },
  {
   "cell_type": "code",
   "execution_count": null,
   "id": "522aa8f6",
   "metadata": {},
   "outputs": [],
   "source": [
    "teacherName = \"james\"\n",
    "college = \"St. Joseph\"\n",
    "subject1 = 'math'\n",
    "subject2 = 'phy'\n",
    "subject3 = 'chem'\n",
    "teacherAge = 45\n",
    "experience = 20"
   ]
  },
  {
   "cell_type": "code",
   "execution_count": null,
   "id": "3ad3291d",
   "metadata": {},
   "outputs": [],
   "source": [
    "# Rules for Creating variables\n",
    "\n",
    "1. Keep the variable name short and meaningful. It should suggets the value it holds\n",
    "2. Observe a consistent naming convention\n",
    "- Camel case # the first word inthe name is all small case and the first letter of each succeding word is capitaliozed\n",
    "- Snake case # all words in the name are small letters seperated by an underscore\n",
    "\n",
    "3. Always assign values to a variable when craeted"
   ]
  },
  {
   "cell_type": "code",
   "execution_count": null,
   "id": "25f6f129",
   "metadata": {},
   "outputs": [],
   "source": [
    "myname"
   ]
  },
  {
   "cell_type": "code",
   "execution_count": null,
   "id": "5f277326",
   "metadata": {},
   "outputs": [],
   "source": [
    "myName"
   ]
  },
  {
   "cell_type": "code",
   "execution_count": null,
   "id": "979ef355",
   "metadata": {},
   "outputs": [],
   "source": [
    "my_name"
   ]
  },
  {
   "cell_type": "code",
   "execution_count": null,
   "id": "b8d87cad",
   "metadata": {},
   "outputs": [],
   "source": [
    "tName = \"james\"\n",
    "colge = \"St. Joseph\"\n",
    "subj1 = 'math'\n",
    "subj2 = 'phy'\n",
    "subj3 = 'chem'\n",
    "tAge = 45\n",
    "expr = 20"
   ]
  },
  {
   "cell_type": "code",
   "execution_count": null,
   "id": "5fdc99d8",
   "metadata": {},
   "outputs": [],
   "source": [
    "# Exercise:\n",
    "\n",
    "Agatha is the second child in a household of 6 kids. She is the first daughter and attends the All Girls High School in her d\n",
    "district. Every dy she comes to school with a lunchbox containing 10 toffies, 2 muffins, 3 oranges and 2 eggs.\n",
    "She owes her friend Simi the sum of $15 and has promisted to settle it with 5 toffies,  a muffin and an egg.\n",
    "\n",
    "represent these in code using only variables"
   ]
  },
  {
   "cell_type": "code",
   "execution_count": null,
   "id": "1e782f63",
   "metadata": {},
   "outputs": [],
   "source": []
  },
  {
   "cell_type": "code",
   "execution_count": null,
   "id": "562e0d72",
   "metadata": {},
   "outputs": [],
   "source": [
    "# Comments\n",
    "\n",
    "# Single line commenets   STARTS WITH A #\n",
    "\n",
    "# Multiple line comments   STARTS AND ENDS WITH \"\"\"  \"\"\"\n"
   ]
  },
  {
   "cell_type": "code",
   "execution_count": null,
   "id": "e5096d54",
   "metadata": {},
   "outputs": [],
   "source": [
    "# EXAMPLE OF SINGLE LINE COMMENT\n",
    "\n",
    "x  = 7\n",
    "y = 9\n",
    "# we next multiply the variables\n",
    "j = x*y # computing the product of x and y"
   ]
  },
  {
   "cell_type": "code",
   "execution_count": 27,
   "id": "e754823d",
   "metadata": {},
   "outputs": [],
   "source": [
    " # Example of mulple line comments\n",
    "\n",
    "studAge = 30\n",
    "\n",
    "grade = 'A-'\n",
    "\n",
    "\"\"\"\n",
    "Grades are computed usingt he following scale\n",
    "A : 80 to 100\n",
    "B:  70 to 80\n",
    "C: 60 to 70\n",
    "F: below 60\n",
    "\"\"\"\n",
    "\n",
    "studClass = 'SSS1'\n",
    "\n",
    "grdMonth = 'July 2024'"
   ]
  },
  {
   "cell_type": "code",
   "execution_count": 28,
   "id": "7bb7aaa7",
   "metadata": {},
   "outputs": [],
   "source": [
    "text = \"\"\"\n",
    "Grades are computed usingt he following scale\n",
    "A : 80 to 100\n",
    "B:  70 to 80\n",
    "C: 60 to 70\n",
    "F: below 60\n",
    "\"\"\""
   ]
  },
  {
   "cell_type": "code",
   "execution_count": 29,
   "id": "87af9ae0",
   "metadata": {},
   "outputs": [
    {
     "name": "stdout",
     "output_type": "stream",
     "text": [
      "\n",
      "Grades are computed usingt he following scale\n",
      "A : 80 to 100\n",
      "B:  70 to 80\n",
      "C: 60 to 70\n",
      "F: below 60\n",
      "\n"
     ]
    }
   ],
   "source": [
    "print(text)"
   ]
  },
  {
   "cell_type": "code",
   "execution_count": null,
   "id": "16cf6df0",
   "metadata": {},
   "outputs": [],
   "source": [
    "# Variable types\n",
    "\n",
    "int\n",
    "float\n",
    "string\n",
    "tuple\n",
    "set\n",
    "list\n",
    "dictionary\n"
   ]
  },
  {
   "cell_type": "code",
   "execution_count": 30,
   "id": "2818d59a",
   "metadata": {},
   "outputs": [],
   "source": [
    "# Numerics\n",
    "\n",
    "age = 45"
   ]
  },
  {
   "cell_type": "code",
   "execution_count": 31,
   "id": "d0f8e75d",
   "metadata": {},
   "outputs": [
    {
     "data": {
      "text/plain": [
       "int"
      ]
     },
     "execution_count": 31,
     "metadata": {},
     "output_type": "execute_result"
    }
   ],
   "source": [
    "# check the variable type that age is\n",
    "\n",
    "type(age)"
   ]
  },
  {
   "cell_type": "code",
   "execution_count": 32,
   "id": "b0ed69c4",
   "metadata": {},
   "outputs": [],
   "source": [
    "income = 9876.98"
   ]
  },
  {
   "cell_type": "code",
   "execution_count": 33,
   "id": "4cd1c567",
   "metadata": {},
   "outputs": [
    {
     "data": {
      "text/plain": [
       "float"
      ]
     },
     "execution_count": 33,
     "metadata": {},
     "output_type": "execute_result"
    }
   ],
   "source": [
    "type(income)"
   ]
  },
  {
   "cell_type": "code",
   "execution_count": 34,
   "id": "9d2fa112",
   "metadata": {},
   "outputs": [],
   "source": [
    "myName = 'Korede'"
   ]
  },
  {
   "cell_type": "code",
   "execution_count": 35,
   "id": "78f63d03",
   "metadata": {},
   "outputs": [
    {
     "data": {
      "text/plain": [
       "str"
      ]
     },
     "execution_count": 35,
     "metadata": {},
     "output_type": "execute_result"
    }
   ],
   "source": [
    "type(myName)"
   ]
  },
  {
   "cell_type": "code",
   "execution_count": null,
   "id": "7cb88812",
   "metadata": {},
   "outputs": [],
   "source": [
    "# Type Casting\n",
    "\n",
    "This allows us to convert one data type to another"
   ]
  },
  {
   "cell_type": "code",
   "execution_count": 37,
   "id": "3c7b1deb",
   "metadata": {},
   "outputs": [
    {
     "data": {
      "text/plain": [
       "float"
      ]
     },
     "execution_count": 37,
     "metadata": {},
     "output_type": "execute_result"
    }
   ],
   "source": [
    "income = 688.90\n",
    "type(income)"
   ]
  },
  {
   "cell_type": "code",
   "execution_count": 38,
   "id": "e14b04c5",
   "metadata": {},
   "outputs": [
    {
     "data": {
      "text/plain": [
       "int"
      ]
     },
     "execution_count": 38,
     "metadata": {},
     "output_type": "execute_result"
    }
   ],
   "source": [
    "# casting income to an integer\n",
    "\n",
    "income2 = int(income)\n",
    "type(income2)"
   ]
  },
  {
   "cell_type": "code",
   "execution_count": 39,
   "id": "4563aa0c",
   "metadata": {},
   "outputs": [
    {
     "data": {
      "text/plain": [
       "688"
      ]
     },
     "execution_count": 39,
     "metadata": {},
     "output_type": "execute_result"
    }
   ],
   "source": [
    "income2"
   ]
  },
  {
   "cell_type": "code",
   "execution_count": 5,
   "id": "b2696988",
   "metadata": {},
   "outputs": [
    {
     "name": "stdout",
     "output_type": "stream",
     "text": [
      "<class 'str'>\n",
      "<class 'int'>\n"
     ]
    }
   ],
   "source": [
    "var = 'Nairobi'\n",
    "print(type(var))\n",
    "var = 78\n",
    "print(type(var))"
   ]
  },
  {
   "cell_type": "code",
   "execution_count": 4,
   "id": "22ea0837",
   "metadata": {},
   "outputs": [
    {
     "data": {
      "text/plain": [
       "int"
      ]
     },
     "execution_count": 4,
     "metadata": {},
     "output_type": "execute_result"
    }
   ],
   "source": [
    "type(var)"
   ]
  },
  {
   "cell_type": "code",
   "execution_count": 40,
   "id": "0b02b25c",
   "metadata": {},
   "outputs": [],
   "source": [
    "# a number can be expressed as a string\n",
    "\n",
    "height = \"7.78\""
   ]
  },
  {
   "cell_type": "code",
   "execution_count": null,
   "id": "566b5f19",
   "metadata": {},
   "outputs": [],
   "source": []
  },
  {
   "cell_type": "code",
   "execution_count": 41,
   "id": "34836397",
   "metadata": {},
   "outputs": [
    {
     "data": {
      "text/plain": [
       "str"
      ]
     },
     "execution_count": 41,
     "metadata": {},
     "output_type": "execute_result"
    }
   ],
   "source": [
    "type(height)"
   ]
  },
  {
   "cell_type": "code",
   "execution_count": 42,
   "id": "62669867",
   "metadata": {},
   "outputs": [],
   "source": [
    "height2 = float(height)"
   ]
  },
  {
   "cell_type": "code",
   "execution_count": 43,
   "id": "a6540ed6",
   "metadata": {},
   "outputs": [
    {
     "data": {
      "text/plain": [
       "7.78"
      ]
     },
     "execution_count": 43,
     "metadata": {},
     "output_type": "execute_result"
    }
   ],
   "source": [
    "height2"
   ]
  },
  {
   "cell_type": "code",
   "execution_count": 44,
   "id": "2269f222",
   "metadata": {},
   "outputs": [
    {
     "data": {
      "text/plain": [
       "float"
      ]
     },
     "execution_count": 44,
     "metadata": {},
     "output_type": "execute_result"
    }
   ],
   "source": [
    "type(height2)"
   ]
  },
  {
   "cell_type": "markdown",
   "id": "ee109ace",
   "metadata": {},
   "source": [
    "# Intro Example"
   ]
  },
  {
   "cell_type": "markdown",
   "id": "1df51ee7",
   "metadata": {},
   "source": [
    "## into Example"
   ]
  },
  {
   "cell_type": "code",
   "execution_count": 45,
   "id": "929f744a",
   "metadata": {},
   "outputs": [],
   "source": [
    "xname = 'Immaculate'"
   ]
  },
  {
   "cell_type": "code",
   "execution_count": null,
   "id": "b2836864",
   "metadata": {},
   "outputs": [],
   "source": []
  },
  {
   "cell_type": "code",
   "execution_count": null,
   "id": "0c794222",
   "metadata": {},
   "outputs": [],
   "source": []
  },
  {
   "cell_type": "code",
   "execution_count": null,
   "id": "3e1d333f",
   "metadata": {},
   "outputs": [],
   "source": []
  },
  {
   "cell_type": "code",
   "execution_count": 46,
   "id": "fc1167cd",
   "metadata": {},
   "outputs": [
    {
     "data": {
      "text/plain": [
       "'Immaculate'"
      ]
     },
     "execution_count": 46,
     "metadata": {},
     "output_type": "execute_result"
    }
   ],
   "source": [
    "xname"
   ]
  },
  {
   "cell_type": "code",
   "execution_count": 47,
   "id": "b30a219c",
   "metadata": {},
   "outputs": [],
   "source": [
    "xname = 'Francis'"
   ]
  },
  {
   "cell_type": "code",
   "execution_count": 48,
   "id": "2ca0b2db",
   "metadata": {},
   "outputs": [
    {
     "data": {
      "text/plain": [
       "'Francis'"
      ]
     },
     "execution_count": 48,
     "metadata": {},
     "output_type": "execute_result"
    }
   ],
   "source": [
    "xname"
   ]
  },
  {
   "cell_type": "markdown",
   "id": "7b5df31e",
   "metadata": {},
   "source": [
    "# Operators"
   ]
  },
  {
   "cell_type": "code",
   "execution_count": null,
   "id": "0e55e948",
   "metadata": {},
   "outputs": [],
   "source": []
  },
  {
   "cell_type": "code",
   "execution_count": null,
   "id": "7f1fee0b",
   "metadata": {},
   "outputs": [],
   "source": [
    "+   Addition\n",
    "- subtraction\n",
    "* multiplication\n",
    "/ Division\n",
    "> Greater Than\n",
    "< Less than\n",
    ">= Greater than or Equal To\n",
    "<= Less than or Equal to\n",
    "\n",
    "or   Or Operator\n",
    "and AND Operator\n",
    "\n",
    "== Equivalent Operator\n",
    "\n",
    "% Modulus Operator\n",
    "// Floor Operator\n",
    "\n",
    "Boolean (True/False)\n",
    "\n",
    "in operator (membership)\n",
    "\n"
   ]
  },
  {
   "cell_type": "code",
   "execution_count": null,
   "id": "ecdbbcad",
   "metadata": {},
   "outputs": [],
   "source": [
    "Scenario: James operates a car dealership selling mid-income level cars to a student community. \n",
    "    He has 3 employees earning the same income\n",
    "    Each day he sells 3 cars at an average price of 3500 per car.\n",
    "His bank intererst charges is 5% of each sale. if there are 25 selling days in a month, \n",
    "compute his monthly income and annual income, given the following:\n",
    "\n",
    "    Rent is 1500 per month\n",
    "    wages is 2000 per employee\n",
    "    utilities 1250 per month\n",
    "\n",
    "If total monthly profit after all deduction is greater than 10,000, \n",
    "James would like distribute a bonus of 5000 to his staff such that each person gets a whole number value. \n",
    "Compute the remainder\n",
    "\n"
   ]
  },
  {
   "cell_type": "code",
   "execution_count": 10,
   "id": "b8976f6a",
   "metadata": {},
   "outputs": [],
   "source": [
    "numEmps = 3\n",
    "salePrice = 3500\n",
    "bankInt = 0.05\n",
    "numDays = 25\n",
    "numDSales = 3\n",
    "rent = 1500\n",
    "wages = 2000\n",
    "util = 1250\n",
    "tgtProft = 10000\n",
    "bonus = 5000\n",
    "numMonths = 12\n",
    "\n",
    "#TASK\n",
    "# 1. monthly income \n",
    "# 2. annual income\n",
    "# 3. monthly Profit\n",
    "# 4. Annual Profit\n",
    "# 5. Bonus per employee\n",
    "# 6. Remainder from Bonus distribution"
   ]
  },
  {
   "cell_type": "code",
   "execution_count": 7,
   "id": "5825f8d2",
   "metadata": {
    "scrolled": true
   },
   "outputs": [
    {
     "data": {
      "text/plain": [
       "22.5"
      ]
     },
     "execution_count": 7,
     "metadata": {},
     "output_type": "execute_result"
    }
   ],
   "source": [
    "45/2"
   ]
  },
  {
   "cell_type": "code",
   "execution_count": null,
   "id": "f0c58bf4",
   "metadata": {},
   "outputs": [],
   "source": []
  },
  {
   "cell_type": "code",
   "execution_count": null,
   "id": "fac0fe53",
   "metadata": {},
   "outputs": [],
   "source": []
  },
  {
   "cell_type": "code",
   "execution_count": 41,
   "id": "53dca11c",
   "metadata": {},
   "outputs": [
    {
     "name": "stdout",
     "output_type": "stream",
     "text": [
      "total dollar revenue per month is:  262500\n",
      "total annual dollar revenue is:  3150000\n",
      "total monthly wages paid is:  6000\n",
      "total monthly bank interest paid is:  13125.0\n",
      "total monthly rent and util  paid is:  2750\n",
      "total monthly expenditure  paid is:  21875.0\n",
      "total annual expenditure  paid is:  262500.0\n",
      "total monthly profit is:  240625.0\n",
      "total annual profit is:  2887500.0\n",
      "bonus per employee  is:  1666.6666666666667\n",
      "Whole number bonus per employee  is:  1666\n",
      "remainder of the bonus after distribution  is:  2\n"
     ]
    }
   ],
   "source": [
    "# Compute Total costs per month\n",
    "\n",
    "# Assumpotion: James sells 3 cars per day\n",
    "\n",
    "\n",
    "# computing Sales\n",
    "\n",
    "tSalesM = salePrice * numDSales * numDays # example of multiplication\n",
    "print('total dollar revenue per month is: ', tSalesM)\n",
    "\n",
    "# computing annual revenue\n",
    "annualRev = tSalesM * numMonths # multiplication\n",
    "print('total annual dollar revenue is: ', annualRev)\n",
    "\n",
    "#compute  Expenses\n",
    "\n",
    "totWage = numEmps * wages  # computing total monthly salries\n",
    "print('total monthly wages paid is: ', totWage)\n",
    "\n",
    "totMonthInt = tSalesM * bankInt # total interest charges per month\n",
    "print('total monthly bank interest paid is: ', totMonthInt) \n",
    "\n",
    "expMonth = util + rent  # Addition of rent and utils\n",
    "print('total monthly rent and util  paid is: ', expMonth) \n",
    "\n",
    "totMonthExp = totWage + totMonthInt + expMonth\n",
    "print('total monthly expenditure  paid is: ', totMonthExp) \n",
    "\n",
    "totAnnualExp = totMonthExp * numMonths\n",
    "print('total annual expenditure  paid is: ', totAnnualExp) \n",
    "\n",
    "\n",
    "# Computing Profits\n",
    "\n",
    "monthProfit = tSalesM - totMonthExp  # Minus operation\n",
    "print('total monthly profit is: ', monthProfit) \n",
    "\n",
    "annualProfit = annualRev - totAnnualExp\n",
    "print('total annual profit is: ', annualProfit) \n",
    "\n",
    "# Computing Bonus Pay\n",
    "\n",
    "if monthProfit  > tgtProft: # Compute Bonus only if the monthly profit is greater that tgtProft\n",
    "    bonusPerEmp =   bonus / numEmps  # Bonus per employee\n",
    "    print('bonus per employee  is: ', bonusPerEmp)\n",
    "    bonusPerEmpNoR = bonus // numEmps  # Bonus per employee using the floor operator. this gives ONLY the whole number\n",
    "    print('Whole number bonus per employee  is: ', bonusPerEmpNoR)\n",
    "    \n",
    "    # Computing the remainder\n",
    "    bonusRemainder = bonus % numEmps\n",
    "    print('remainder of the bonus after distribution  is: ', bonusRemainder)"
   ]
  },
  {
   "cell_type": "code",
   "execution_count": 39,
   "id": "b2438dcb",
   "metadata": {},
   "outputs": [
    {
     "data": {
      "text/plain": [
       "2.0000000000002274"
      ]
     },
     "execution_count": 39,
     "metadata": {},
     "output_type": "execute_result"
    }
   ],
   "source": [
    "(bonusPerEmp-bonusPerEmpNoR)*3"
   ]
  },
  {
   "cell_type": "code",
   "execution_count": 40,
   "id": "26ca424c",
   "metadata": {},
   "outputs": [
    {
     "data": {
      "text/plain": [
       "2.0000000000001004"
      ]
     },
     "execution_count": 40,
     "metadata": {},
     "output_type": "execute_result"
    }
   ],
   "source": [
    "0.6666666666667*3"
   ]
  },
  {
   "cell_type": "code",
   "execution_count": null,
   "id": "e68d429e",
   "metadata": {},
   "outputs": [],
   "source": [
    "#  Conditional Statements\n",
    "\n",
    "'''\n",
    "Coinditional statements are the logic layer of our code that enables us\n",
    "to have control over which code gets executed during runtime\n",
    "\n",
    "It is usually denoted by the IF ststement\n",
    "\n",
    "\n",
    "\n",
    "'''"
   ]
  },
  {
   "cell_type": "code",
   "execution_count": 32,
   "id": "428739a1",
   "metadata": {},
   "outputs": [
    {
     "name": "stdout",
     "output_type": "stream",
     "text": [
      "the conditional statement resolved to:  True therefore, running the line in the IF block\n",
      "patricia is older than david\n",
      "I am happy that Patricia is the eldest \n"
     ]
    }
   ],
   "source": [
    "# Patricia  is 27 years old. her younger brother,David is 25 yeas old. whos is older?\n",
    "\n",
    "pAge = 27\n",
    "dAge = 25\n",
    "\n",
    "if pAge > dAge: # Condition to be tested. Can reesult into TRUE or FALSE\n",
    "    print('the conditional statement resolved to: ',pAge > dAge, 'therefore, running the line in the IF block' )\n",
    "    print('patricia is older than david')  # This indented line will be executed if the condition is TRUE\n",
    "    print('I am happy that Patricia is the eldest ')\n",
    "    \n",
    "else:\n",
    "    print('the conditional statement resolved to: ',pAge > dAge, 'therefore, running the line in the ELSE block' )\n",
    "    print('Patricia is not older than David')\n",
    "    "
   ]
  },
  {
   "cell_type": "code",
   "execution_count": 30,
   "id": "a1bd9e0d",
   "metadata": {},
   "outputs": [
    {
     "data": {
      "text/plain": [
       "False"
      ]
     },
     "execution_count": 30,
     "metadata": {},
     "output_type": "execute_result"
    }
   ],
   "source": [
    "pAge > dAge"
   ]
  },
  {
   "cell_type": "code",
   "execution_count": null,
   "id": "f36ac82f",
   "metadata": {},
   "outputs": [],
   "source": []
  },
  {
   "cell_type": "code",
   "execution_count": 43,
   "id": "1d8a792c",
   "metadata": {},
   "outputs": [
    {
     "data": {
      "text/plain": [
       "2"
      ]
     },
     "execution_count": 43,
     "metadata": {},
     "output_type": "execute_result"
    }
   ],
   "source": [
    "'''amaka has 7 oranges and wants to share them to 3 of her friends. \n",
    "howmany orages will remain if each friend gets a full orange'''\n",
    "\n",
    "7//3"
   ]
  },
  {
   "cell_type": "code",
   "execution_count": null,
   "id": "f1d45667",
   "metadata": {},
   "outputs": [],
   "source": [
    "or   Or Operator\n",
    "and AND Operator\n",
    "\n",
    "in operator (membership)"
   ]
  },
  {
   "cell_type": "code",
   "execution_count": null,
   "id": "ce181525",
   "metadata": {},
   "outputs": [],
   "source": [
    "# the XOR operators are often used when we want to evaluate multiple conditions in an if ststement\n",
    "\n",
    "# the OR operator will resolve to TRUE if ATLEAST one condition is TRUE\n",
    "# The AND operator will ONLY resolve to TRUE if ALL conditions are TRUE"
   ]
  },
  {
   "cell_type": "code",
   "execution_count": null,
   "id": "819ae0fa",
   "metadata": {},
   "outputs": [],
   "source": [
    "A wealthy person is any one who has at least 10000 in their account, live in their own home and drive a luxury car\n",
    "\n",
    "Chibuike has 10000 in his bank account. lives in a rented house and drives a BMW\n",
    "\n",
    "Gbenga has 11000 in his bank account, lives in his own home and drives Mercedes Benz\n",
    "\n",
    "\n",
    "write code to check if they are wealthy\n",
    "\n"
   ]
  },
  {
   "cell_type": "code",
   "execution_count": 44,
   "id": "6824b6ab",
   "metadata": {},
   "outputs": [
    {
     "name": "stdout",
     "output_type": "stream",
     "text": [
      "Chibuike is not wealthy\n",
      "Gbenga is wealthy\n"
     ]
    }
   ],
   "source": [
    "wVal = 10000  # minimum to be considered wealthy\n",
    "hasCar = True\n",
    "ownsHome = True\n",
    "\n",
    "cVal = 10000\n",
    "cHasCar = True\n",
    "cOwnsHome = False\n",
    "\n",
    "gVal = 11000\n",
    "gHasCar = True\n",
    "gOwnsHome = True\n",
    "\n",
    "# Testing for wealth\n",
    "\n",
    "if cVal >= wVal and cHasCar == True and cOwnsHome == True:\n",
    "    print('Chibuike is wealthy')\n",
    "else:\n",
    "    print('Chibuike is not wealthy')\n",
    "    \n",
    "if gVal >= wVal and gHasCar == True and gOwnsHome == True:\n",
    "    print('Gbenga is wealthy')\n",
    "else:\n",
    "    print('Gbenga is not wealthy')"
   ]
  },
  {
   "cell_type": "code",
   "execution_count": 45,
   "id": "f75e687a",
   "metadata": {},
   "outputs": [
    {
     "name": "stdout",
     "output_type": "stream",
     "text": [
      "Chibuike is wealthy\n",
      "Gbenga is wealthy\n"
     ]
    }
   ],
   "source": [
    "# implemnenting using the OR operator\n",
    "\n",
    "wVal = 10000  # minimum to be considered wealthy\n",
    "hasCar = True\n",
    "ownsHome = True\n",
    "\n",
    "cVal = 10000\n",
    "cHasCar = True\n",
    "cOwnsHome = False\n",
    "\n",
    "gVal = 11000\n",
    "gHasCar = True\n",
    "gOwnsHome = True\n",
    "\n",
    "# Testing for wealth\n",
    "\n",
    "if cVal >= wVal or cHasCar == True or cOwnsHome == True:\n",
    "    print('Chibuike is wealthy')\n",
    "else:\n",
    "    print('Chibuike is not wealthy')\n",
    "    \n",
    "if gVal >= wVal or gHasCar == True or gOwnsHome == True:\n",
    "    print('Gbenga is wealthy')\n",
    "else:\n",
    "    print('Gbenga is not wealthy')"
   ]
  },
  {
   "cell_type": "code",
   "execution_count": null,
   "id": "7f413fdb",
   "metadata": {},
   "outputs": [],
   "source": [
    "# in Operator\n",
    "\n",
    "# used to check if a value or item is a member of some other items or values\n",
    "\n",
    "\n",
    "\n"
   ]
  },
  {
   "cell_type": "code",
   "execution_count": 48,
   "id": "1fe19aa0",
   "metadata": {},
   "outputs": [
    {
     "name": "stdout",
     "output_type": "stream",
     "text": [
      "doest not exist\n"
     ]
    }
   ],
   "source": [
    "name = 'Zulkarnain'\n",
    "\n",
    "\n",
    "# check if kar is in the characters in the name\n",
    "\n",
    "\n",
    "if 'm' in name:\n",
    "    print('found')\n",
    "else:\n",
    "    print( 'doest not exist')"
   ]
  },
  {
   "cell_type": "code",
   "execution_count": null,
   "id": "41981b42",
   "metadata": {},
   "outputs": [],
   "source": []
  },
  {
   "cell_type": "code",
   "execution_count": null,
   "id": "c524a299",
   "metadata": {},
   "outputs": [],
   "source": [
    "Scenario: James operates a car dealership selling mid-income level cars to a student community. \n",
    "    He has 3 employees earning the same income\n",
    "    Each day he sells 3 cars at an average price of 3500 per car.\n",
    "His bank intererst charges is 5% of each sale. if there are 25 selling days in a month, \n",
    "compute his monthly income and annual income, given the following:\n",
    "\n",
    "    Rent is 1500 per month\n",
    "    wages is 2000 per employee\n",
    "    utilities 1250 per month\n",
    "\n",
    "If total monthly profit after all deduction is greater than 10,000, \n",
    "James would like distribute a bonus of 5000 to his staff such that each person gets a whole number value. \n",
    "Compute the remainder\n"
   ]
  },
  {
   "cell_type": "code",
   "execution_count": null,
   "id": "f378b09e",
   "metadata": {},
   "outputs": [],
   "source": [
    "Patricia operates a grocery store selling several product categories as shown below.\n",
    "1. Foods\n",
    "2. Beverages\n",
    "3. Toiletries\n",
    "She estimates that the total sales each week for Foods is $3210. \n",
    "The daily workday sales of beverages are $520. On weekends (Saturdays and Sundays) \n",
    "the daily sales are double the weekday sale for this category.\n",
    "The daily sales for toiletries are about 83% of the beverages and shows the same pattern for weekdays and weekends.\n",
    "Patricia employe 5 persons as accounting and sales staff with a 1,500 monthly salary per staff. She is also considering paying herself a monthly salary of $2750.\n",
    "\n",
    "Patricia's profit margin on Foods is 25.30%, on Beverages its 15.76% and on Toiletries its 35% lower than that of Beverages.\n",
    "Costs associated with her Grocery store are monthly rent of 2100, monthly cost of logistics for purchase and restocking inventory is 5% of total monthly revenue from the store.\n",
    "Tax is charged at 25.3% of profit. There is also a 5% VAT on Toiletries and Beverages that is already included in the selling price of products in these categories.\n",
    "Patricia would like to disburse her profit after tax and all deductions into the following three account bucket such that investment in inventory gets a minimum of $ 20,000 per month;\n",
    "\n",
    "1. 40% remitted to her investment account which yields 15% interest per annum\n",
    "2. 30% held in a current account for domestic expenses\n",
    "3. 30% invested back into inventory in the Grocery store\n",
    "\n",
    "TASK\n",
    "1. compute the total revenue and profits per category\n",
    "2. compute the total tax and vat payable on each category\n",
    "3. compute total store expenses on a monthly and annual basis\n",
    "4. what percentage of profits is employee salary\n",
    "5. If Patricia pays herself the proposed salary, by what percentage does profitability drop monthly\n",
    "6. Compute the amount of money remitted into the three account buckets every month\n",
    "\n",
    "\n"
   ]
  },
  {
   "cell_type": "code",
   "execution_count": null,
   "id": "7bb73a43",
   "metadata": {},
   "outputs": [],
   "source": []
  },
  {
   "cell_type": "markdown",
   "id": "91575528",
   "metadata": {},
   "source": [
    "# Python Strings"
   ]
  },
  {
   "cell_type": "code",
   "execution_count": null,
   "id": "0c9210ee",
   "metadata": {},
   "outputs": [],
   "source": [
    "Any value or object that does not resolve to a number is a string:\n",
    "    names of people, places, things\n",
    "    text"
   ]
  },
  {
   "cell_type": "code",
   "execution_count": null,
   "id": "aec8414a",
   "metadata": {},
   "outputs": [],
   "source": [
    "Scenario: James is a teacher at Jerome's High School. the followingt are students in his class\n",
    "    \n",
    "    Agatha Christie, Chukwuma Sylvester, Abiodun Olafenwa and Sheyi Oladayo. \n",
    "    their student IDs are 00012, 33412, 443513, 78998\n",
    "    \n",
    "    Task: \n",
    "        1. Create a string concatenating (joining) the firstname, lastname and ID  seperated by underscore (_)\n",
    "        2. write code to extract only first names, only lastnames, only IDs\n",
    "        3. Find the statting index position of the lastnames for each string\n",
    "    "
   ]
  },
  {
   "cell_type": "markdown",
   "id": "32f4fd45",
   "metadata": {},
   "source": [
    "# 101 on Strings"
   ]
  },
  {
   "cell_type": "code",
   "execution_count": 19,
   "id": "fe630667",
   "metadata": {},
   "outputs": [],
   "source": [
    "\n",
    "\n",
    "#Strings are any values that are represented inbetween quotation marks\n",
    "\n",
    "studName1 = 'Moses_Ofem'\n",
    "studName2 = \"Temitope Gbenga\"\n",
    "studName3 = \"\"\"Onovo Obianuju\"\"\""
   ]
  },
  {
   "cell_type": "code",
   "execution_count": 18,
   "id": "5cbb5f5e",
   "metadata": {},
   "outputs": [
    {
     "data": {
      "text/plain": [
       "str"
      ]
     },
     "execution_count": 18,
     "metadata": {},
     "output_type": "execute_result"
    }
   ],
   "source": [
    "type(studName3)"
   ]
  },
  {
   "cell_type": "code",
   "execution_count": null,
   "id": "27d16e67",
   "metadata": {},
   "outputs": [],
   "source": [
    "# Using studName1 as our examle\n",
    "\n",
    "1. each character in a string is assigned an index position \n",
    "2. the index numbers start from 0 for the first character in the string and increments by 1 to the last character\n",
    "3. Python strings are IMMUTABLE"
   ]
  },
  {
   "cell_type": "code",
   "execution_count": null,
   "id": "affbf0c6",
   "metadata": {},
   "outputs": [],
   "source": [
    "studName1 = 'Moses_Ofem'\n",
    "             0123456789"
   ]
  },
  {
   "cell_type": "code",
   "execution_count": null,
   "id": "6dddad92",
   "metadata": {},
   "outputs": [],
   "source": [
    "#get the character or value at a given index position of a string\n",
    "\n",
    "#SYNTAX\n",
    "VariableName[index]"
   ]
  },
  {
   "cell_type": "code",
   "execution_count": 25,
   "id": "d8fa370a",
   "metadata": {},
   "outputs": [
    {
     "data": {
      "text/plain": [
       "'_'"
      ]
     },
     "execution_count": 25,
     "metadata": {},
     "output_type": "execute_result"
    }
   ],
   "source": [
    "studName1[5]# code to findd the character located at a given index position in a string"
   ]
  },
  {
   "cell_type": "code",
   "execution_count": null,
   "id": "9df9e4ff",
   "metadata": {},
   "outputs": [],
   "source": [
    "# How to find out if a given character or value is in a string\n",
    "\n",
    "#Scenario: find out if 'f' is contained in Moses Ofems's  name\n",
    "    \n",
    " #SYNTAX\n",
    "\n",
    "NameOfVariable.index(characterToFind)"
   ]
  },
  {
   "cell_type": "code",
   "execution_count": 28,
   "id": "e477e46b",
   "metadata": {},
   "outputs": [
    {
     "data": {
      "text/plain": [
       "7"
      ]
     },
     "execution_count": 28,
     "metadata": {},
     "output_type": "execute_result"
    }
   ],
   "source": [
    "studName1.index('f')  # code to find the index position of a given charactyer in a string"
   ]
  },
  {
   "cell_type": "code",
   "execution_count": 29,
   "id": "c3a3688c",
   "metadata": {},
   "outputs": [
    {
     "data": {
      "text/plain": [
       "5"
      ]
     },
     "execution_count": 29,
     "metadata": {},
     "output_type": "execute_result"
    }
   ],
   "source": [
    "# Challenge: find the index position of '_' in StudName1\n",
    "\n",
    "studName1.index('_')"
   ]
  },
  {
   "cell_type": "code",
   "execution_count": 30,
   "id": "0f9d3d3b",
   "metadata": {},
   "outputs": [
    {
     "data": {
      "text/plain": [
       "'_'"
      ]
     },
     "execution_count": 30,
     "metadata": {},
     "output_type": "execute_result"
    }
   ],
   "source": [
    "studName1[5]"
   ]
  },
  {
   "cell_type": "code",
   "execution_count": 31,
   "id": "d77550f0",
   "metadata": {},
   "outputs": [
    {
     "name": "stdout",
     "output_type": "stream",
     "text": [
      "M\n",
      "o\n",
      "s\n",
      "e\n",
      "s\n",
      "_\n",
      "O\n",
      "f\n",
      "e\n",
      "m\n"
     ]
    }
   ],
   "source": [
    "# using a for-loop to printout each character\n",
    "\n",
    "for char in studName1:\n",
    "    print(char)"
   ]
  },
  {
   "cell_type": "code",
   "execution_count": 32,
   "id": "6e542453",
   "metadata": {},
   "outputs": [
    {
     "data": {
      "text/plain": [
       "'Moses_Ofem'"
      ]
     },
     "execution_count": 32,
     "metadata": {},
     "output_type": "execute_result"
    }
   ],
   "source": [
    "# String Indexing: we can index backwards using -1, -2,...-n\n",
    "\n",
    "studName1"
   ]
  },
  {
   "cell_type": "code",
   "execution_count": 38,
   "id": "a367f61f",
   "metadata": {},
   "outputs": [
    {
     "data": {
      "text/plain": [
       "'f'"
      ]
     },
     "execution_count": 38,
     "metadata": {},
     "output_type": "execute_result"
    }
   ],
   "source": [
    "studName1[-3]"
   ]
  },
  {
   "cell_type": "code",
   "execution_count": null,
   "id": "e5fed69e",
   "metadata": {},
   "outputs": [],
   "source": [
    "# String Slicing\n",
    "\n",
    "This allows us to extract a sequence of charaters from a string using a starting and ending index posiion\n"
   ]
  },
  {
   "cell_type": "code",
   "execution_count": null,
   "id": "a40d22b1",
   "metadata": {},
   "outputs": [],
   "source": [
    "studName1 = 'Moses_Ofem'\n",
    "\n",
    "# extract 'Moses' from the string\n",
    "\n",
    "SYNTAX\n",
    "\n",
    "VariableName[indexPosOfStartingChar: indexPosOfEndingChar+1]"
   ]
  },
  {
   "cell_type": "code",
   "execution_count": 39,
   "id": "c8c26bff",
   "metadata": {},
   "outputs": [
    {
     "name": "stdout",
     "output_type": "stream",
     "text": [
      "Mose\n"
     ]
    }
   ],
   "source": [
    "firstName = studName1[0:4]\n",
    "print(firstName)"
   ]
  },
  {
   "cell_type": "code",
   "execution_count": 40,
   "id": "eda8d057",
   "metadata": {},
   "outputs": [
    {
     "name": "stdout",
     "output_type": "stream",
     "text": [
      "Moses\n"
     ]
    }
   ],
   "source": [
    "firstName = studName1[0:5]\n",
    "print(firstName)"
   ]
  },
  {
   "cell_type": "code",
   "execution_count": 41,
   "id": "e4d6a1f8",
   "metadata": {},
   "outputs": [],
   "source": [
    "country = 'Ethiopia'"
   ]
  },
  {
   "cell_type": "code",
   "execution_count": 54,
   "id": "10a9a294",
   "metadata": {},
   "outputs": [
    {
     "data": {
      "text/plain": [
       "'hiop'"
      ]
     },
     "execution_count": 54,
     "metadata": {},
     "output_type": "execute_result"
    }
   ],
   "source": [
    "# extracting 'hiop'\n",
    "country[2:5+1]\n"
   ]
  },
  {
   "cell_type": "code",
   "execution_count": 48,
   "id": "7879ddea",
   "metadata": {},
   "outputs": [
    {
     "data": {
      "text/plain": [
       "'Moses'"
      ]
     },
     "execution_count": 48,
     "metadata": {},
     "output_type": "execute_result"
    }
   ],
   "source": [
    "# extyracting 'Moses' from studName1\n",
    "fName = studName1[ :5]\n",
    "fName"
   ]
  },
  {
   "cell_type": "code",
   "execution_count": 52,
   "id": "786ba780",
   "metadata": {},
   "outputs": [
    {
     "data": {
      "text/plain": [
       "'Ofem'"
      ]
     },
     "execution_count": 52,
     "metadata": {},
     "output_type": "execute_result"
    }
   ],
   "source": [
    "# extract 'Ofem'\n",
    "\n",
    "lName = studName[6:]\n",
    "lName"
   ]
  },
  {
   "cell_type": "code",
   "execution_count": 53,
   "id": "e43512d3",
   "metadata": {},
   "outputs": [
    {
     "data": {
      "text/plain": [
       "'Moses_Ofem'"
      ]
     },
     "execution_count": 53,
     "metadata": {},
     "output_type": "execute_result"
    }
   ],
   "source": [
    "fullName = studName1[ : ]\n",
    "fullName"
   ]
  },
  {
   "cell_type": "code",
   "execution_count": 57,
   "id": "1c70aef8",
   "metadata": {},
   "outputs": [
    {
     "data": {
      "text/plain": [
       "False"
      ]
     },
     "execution_count": 57,
     "metadata": {},
     "output_type": "execute_result"
    }
   ],
   "source": [
    "# find out if 'Ofem' is in studName1\n",
    "\n",
    "'Ofem' in studName1"
   ]
  },
  {
   "cell_type": "code",
   "execution_count": 58,
   "id": "1a24ccd5",
   "metadata": {},
   "outputs": [
    {
     "data": {
      "text/plain": [
       "6"
      ]
     },
     "execution_count": 58,
     "metadata": {},
     "output_type": "execute_result"
    }
   ],
   "source": [
    "studName1.index('Ofem')"
   ]
  },
  {
   "cell_type": "code",
   "execution_count": 62,
   "id": "a8def767",
   "metadata": {},
   "outputs": [
    {
     "data": {
      "text/plain": [
       "[6, 10]"
      ]
     },
     "execution_count": 62,
     "metadata": {},
     "output_type": "execute_result"
    }
   ],
   "source": [
    "charLen = len('Ofem') # Gives the length or number of characters including whites spaces in a string\n",
    "pos = studName1.index('Ofem') # Starting index position of a substring\n",
    "idxPos = [pos, (charLen+pos)]: # gives starting and ending index of the substring\n",
    "idxPos"
   ]
  },
  {
   "cell_type": "code",
   "execution_count": 64,
   "id": "ddcc4893",
   "metadata": {},
   "outputs": [
    {
     "name": "stdout",
     "output_type": "stream",
     "text": [
      "Ofem\n"
     ]
    }
   ],
   "source": [
    "pos = studName1.index('Ofem') # Starting index position of a substring\n",
    "strtPos, endPos  = [pos, (charLen+pos)] # gives starting and ending index of the substring\n",
    "res = studName1[strtPos:endPos]\n",
    "print(res)"
   ]
  },
  {
   "cell_type": "code",
   "execution_count": 67,
   "id": "5836af82",
   "metadata": {},
   "outputs": [],
   "source": [
    "# Python String Concatenation"
   ]
  },
  {
   "cell_type": "code",
   "execution_count": 69,
   "id": "d5ef6e10",
   "metadata": {},
   "outputs": [
    {
     "data": {
      "text/plain": [
       "'JaloKanan'"
      ]
     },
     "execution_count": 69,
     "metadata": {},
     "output_type": "execute_result"
    }
   ],
   "source": [
    "firstName = 'Jalo'\n",
    "lastName = 'Kanan'\n",
    "\n",
    "# python allows additive operation on strings\n",
    "\n",
    "firstName + lastName"
   ]
  },
  {
   "cell_type": "code",
   "execution_count": 70,
   "id": "b178ced5",
   "metadata": {},
   "outputs": [
    {
     "data": {
      "text/plain": [
       "'Jalo Kanan'"
      ]
     },
     "execution_count": 70,
     "metadata": {},
     "output_type": "execute_result"
    }
   ],
   "source": [
    "# adding a white space\n",
    "\n",
    "firstName + ' ' + lastName"
   ]
  },
  {
   "cell_type": "code",
   "execution_count": 71,
   "id": "5a1bfcd2",
   "metadata": {},
   "outputs": [
    {
     "data": {
      "text/plain": [
       "'Jalo_Kanan'"
      ]
     },
     "execution_count": 71,
     "metadata": {},
     "output_type": "execute_result"
    }
   ],
   "source": [
    "# using underscore\n",
    "\n",
    "firstName + '_' + lastName"
   ]
  },
  {
   "cell_type": "code",
   "execution_count": 72,
   "id": "9d14df58",
   "metadata": {},
   "outputs": [],
   "source": [
    "name = 'Rofiah'"
   ]
  },
  {
   "cell_type": "code",
   "execution_count": 73,
   "id": "77a75d2f",
   "metadata": {},
   "outputs": [
    {
     "ename": "AttributeError",
     "evalue": "'str' object has no attribute 'add'",
     "output_type": "error",
     "traceback": [
      "\u001b[1;31m---------------------------------------------------------------------------\u001b[0m",
      "\u001b[1;31mAttributeError\u001b[0m                            Traceback (most recent call last)",
      "\u001b[1;32m~\\AppData\\Local\\Temp\\ipykernel_99088\\2245467468.py\u001b[0m in \u001b[0;36m<module>\u001b[1;34m\u001b[0m\n\u001b[1;32m----> 1\u001b[1;33m \u001b[0mname\u001b[0m\u001b[1;33m.\u001b[0m\u001b[0madd\u001b[0m\u001b[1;33m(\u001b[0m\u001b[1;34m'b'\u001b[0m\u001b[1;33m)\u001b[0m\u001b[1;33m\u001b[0m\u001b[1;33m\u001b[0m\u001b[0m\n\u001b[0m",
      "\u001b[1;31mAttributeError\u001b[0m: 'str' object has no attribute 'add'"
     ]
    }
   ],
   "source": [
    "name.add('b')"
   ]
  },
  {
   "cell_type": "code",
   "execution_count": 74,
   "id": "7dca8ede",
   "metadata": {},
   "outputs": [],
   "source": [
    "name = name + 'b'"
   ]
  },
  {
   "cell_type": "code",
   "execution_count": 75,
   "id": "4b784ff3",
   "metadata": {},
   "outputs": [
    {
     "data": {
      "text/plain": [
       "'Rofiahb'"
      ]
     },
     "execution_count": 75,
     "metadata": {},
     "output_type": "execute_result"
    }
   ],
   "source": [
    "name"
   ]
  },
  {
   "cell_type": "code",
   "execution_count": 76,
   "id": "ea558b81",
   "metadata": {},
   "outputs": [
    {
     "data": {
      "text/plain": [
       "'Mr. Jalo_Kanan'"
      ]
     },
     "execution_count": 76,
     "metadata": {},
     "output_type": "execute_result"
    }
   ],
   "source": [
    "# adding title to the string\n",
    "\n",
    "title = 'Mr.'\n",
    "title + \" \" + firstName + '_' + lastName"
   ]
  },
  {
   "cell_type": "code",
   "execution_count": null,
   "id": "7226ec5c",
   "metadata": {},
   "outputs": [],
   "source": []
  },
  {
   "cell_type": "code",
   "execution_count": null,
   "id": "086ec8bb",
   "metadata": {},
   "outputs": [],
   "source": []
  },
  {
   "cell_type": "code",
   "execution_count": 79,
   "id": "0370b579",
   "metadata": {},
   "outputs": [],
   "source": [
    "# searching for words in a text\n",
    "\n",
    "vWords = ['idiot','fool', 'crazy', 'niggar', 'bastard', 'stupid','bitch', 'morron', 'imbecile', 'nonesense']\n"
   ]
  },
  {
   "cell_type": "code",
   "execution_count": 80,
   "id": "a3b176f8",
   "metadata": {},
   "outputs": [],
   "source": [
    "text = \"\"\"  Contrary to popular belief, niggar Lorem Ipsum is not simply random text. It has roots in a piece of classical Latin literature from 45 BC, making it over 2000 years old. Richard McClintock, a Latin professor at Hampden-Sydney College in Virginia, looked up one of the more obscure Latin words, consectetur, from a Lorem Ipsum passage, and going crazy through the cites of fool  the word in classical idiot literature, discovered the undoubtable source. Lorem Ipsum comes from sections 1.10.32 and 1.10.33 of \"de Finibus Bonorum et Malorum\" (The Extremes of Good and Evil) by Cicero, written in 45 BC. This book imbecile is a treatise on the theory of ethics, very popular during the Renaissance. The first line of Lorem Ipsum,nonsense  \"Lorem ipsum dolor sit amet..\", comes from a line in section 1.10.32.\n",
    "\n",
    "The standard chunk of Lorem Ipsum used since the 1500s is a bastard reproduced below for those stupid interested. Sections 1.10.32 and 1.10.33 from \"de Finibus Bonorum et Malorum\" by Cicero are also reproduced in their exact original form, accompanied by English versions from the 1914 translation by H. Rackham.\"\"\""
   ]
  },
  {
   "cell_type": "code",
   "execution_count": 84,
   "id": "4aa5f789",
   "metadata": {},
   "outputs": [
    {
     "name": "stdout",
     "output_type": "stream",
     "text": [
      "current vulgar word searching for is , idiot\n",
      "checking the index position of idiot\n",
      "index postion is for  idiot is  403\n",
      "idiot found in text at index position 403\n",
      "current vulgar word searching for is , fool\n",
      "checking the index position of fool\n",
      "index postion is for  fool is  375\n",
      "fool found in text at index position 375\n",
      "current vulgar word searching for is , crazy\n",
      "checking the index position of crazy\n",
      "index postion is for  crazy is  348\n",
      "crazy found in text at index position 348\n",
      "current vulgar word searching for is , niggar\n",
      "checking the index position of niggar\n",
      "index postion is for  niggar is  30\n",
      "niggar found in text at index position 30\n",
      "current vulgar word searching for is , bastard\n",
      "checking the index position of bastard\n",
      "index postion is for  bastard is  870\n",
      "bastard found in text at index position 870\n",
      "current vulgar word searching for is , stupid\n",
      "checking the index position of stupid\n",
      "index postion is for  stupid is  905\n",
      "stupid found in text at index position 905\n",
      "current vulgar word searching for is , bitch\n",
      "current vulgar word searching for is , morron\n",
      "current vulgar word searching for is , imbecile\n",
      "checking the index position of imbecile\n",
      "index postion is for  imbecile is  614\n",
      "imbecile found in text at index position 614\n",
      "current vulgar word searching for is , nonesense\n"
     ]
    }
   ],
   "source": [
    "# How to search for anything in a text\n",
    "\n",
    "\n",
    "for vWord in vWords:\n",
    "    print('current vulgar word searching for is ,',  vWord)\n",
    "    if vWord in text:\n",
    "        print('checking the index position of', vWord)\n",
    "        idxPos = text.index(vWord)\n",
    "        print('index postion is for ',vWord, 'is ' , idxPos)\n",
    "        print(f\"{vWord} found in text at index position {idxPos}\") # string formating"
   ]
  },
  {
   "cell_type": "code",
   "execution_count": null,
   "id": "093b4245",
   "metadata": {},
   "outputs": [],
   "source": []
  },
  {
   "cell_type": "code",
   "execution_count": null,
   "id": "7538d73a",
   "metadata": {},
   "outputs": [],
   "source": [
    "# Exercise:\n",
    "\n",
    "Scenario: James is a teacher at Jerome's High School. the followingt are students in his class\n",
    "    \n",
    "    Agatha Christie, Chukwuma Sylvester, Abiodun Olafenwa and Sheyi Oladayo. \n",
    "    their student IDs are 00012, 33412, 443513, 78998\n",
    "    \n",
    "    Task: \n",
    "        1. Create a string concatenating (joining) the firstname, lastname and ID  seperated by underscore (_)\n",
    "        2. write code to extract only first names, only lastnames, only IDs\n",
    "        3. Find the statting index position of the lastnames for each string"
   ]
  },
  {
   "cell_type": "code",
   "execution_count": null,
   "id": "acec708a",
   "metadata": {},
   "outputs": [],
   "source": []
  },
  {
   "cell_type": "code",
   "execution_count": null,
   "id": "b4461293",
   "metadata": {},
   "outputs": [],
   "source": [
    "# Next Class\n",
    "\n",
    "Python Containers\n",
    "Tuples\n",
    "Lists\n",
    "Sets\n",
    "Dictionaries"
   ]
  },
  {
   "cell_type": "code",
   "execution_count": null,
   "id": "23950497",
   "metadata": {},
   "outputs": [],
   "source": []
  },
  {
   "cell_type": "code",
   "execution_count": null,
   "id": "bf3e2f74",
   "metadata": {},
   "outputs": [],
   "source": [
    "#Tuples"
   ]
  },
  {
   "cell_type": "code",
   "execution_count": null,
   "id": "e131d02f",
   "metadata": {},
   "outputs": [],
   "source": [
    "jamesAge = 35\n",
    "\n",
    "stud1Name = 'James'"
   ]
  },
  {
   "cell_type": "code",
   "execution_count": null,
   "id": "285de115",
   "metadata": {},
   "outputs": [],
   "source": [
    "# pyhton containers allow us to hold reference to multiple items ot objects each sperated by a comma\n",
    "\n",
    "Example: Emanuel wants to hold the names of the 5 students in his class"
   ]
  },
  {
   "cell_type": "code",
   "execution_count": 1,
   "id": "48465f6d",
   "metadata": {},
   "outputs": [],
   "source": [
    "# Using variable\n",
    "\n",
    "studName1 = 'James'\n",
    "studName2 = 'Mercy'\n",
    "studName3 = 'Chibuike'\n",
    "studName4 = 'Aiysha'\n",
    "studName5 = 'Femi'"
   ]
  },
  {
   "cell_type": "code",
   "execution_count": 2,
   "id": "8af7fbfd",
   "metadata": {},
   "outputs": [],
   "source": [
    "# Reimplementing using Tuples\n",
    "\n",
    "studName = ('James', 'Mercy', 'Chibuike', 'Aiysha', 'Femi')"
   ]
  },
  {
   "cell_type": "code",
   "execution_count": 3,
   "id": "e27782e7",
   "metadata": {},
   "outputs": [
    {
     "name": "stdout",
     "output_type": "stream",
     "text": [
      "James\n"
     ]
    }
   ],
   "source": [
    "print(studName1)"
   ]
  },
  {
   "cell_type": "code",
   "execution_count": 4,
   "id": "267591a6",
   "metadata": {},
   "outputs": [
    {
     "data": {
      "text/plain": [
       "'James'"
      ]
     },
     "execution_count": 4,
     "metadata": {},
     "output_type": "execute_result"
    }
   ],
   "source": [
    "studName[0]"
   ]
  },
  {
   "cell_type": "code",
   "execution_count": 5,
   "id": "aba48255",
   "metadata": {},
   "outputs": [
    {
     "data": {
      "text/plain": [
       "'Mercy'"
      ]
     },
     "execution_count": 5,
     "metadata": {},
     "output_type": "execute_result"
    }
   ],
   "source": [
    "# fetch Mercy\n",
    "\n",
    "studName[1]"
   ]
  },
  {
   "cell_type": "code",
   "execution_count": 6,
   "id": "ff0f58e4",
   "metadata": {},
   "outputs": [
    {
     "ename": "AttributeError",
     "evalue": "'tuple' object has no attribute 'add'",
     "output_type": "error",
     "traceback": [
      "\u001b[1;31m---------------------------------------------------------------------------\u001b[0m",
      "\u001b[1;31mAttributeError\u001b[0m                            Traceback (most recent call last)",
      "\u001b[1;32m~\\AppData\\Local\\Temp\\ipykernel_18480\\3516990841.py\u001b[0m in \u001b[0;36m<module>\u001b[1;34m\u001b[0m\n\u001b[0;32m      3\u001b[0m \u001b[1;31m# These are contaainers that are IMMUTABLE\u001b[0m\u001b[1;33m\u001b[0m\u001b[1;33m\u001b[0m\u001b[0m\n\u001b[0;32m      4\u001b[0m \u001b[1;33m\u001b[0m\u001b[0m\n\u001b[1;32m----> 5\u001b[1;33m \u001b[0mstudName\u001b[0m\u001b[1;33m.\u001b[0m\u001b[0madd\u001b[0m\u001b[1;33m(\u001b[0m\u001b[1;34m'Clement'\u001b[0m\u001b[1;33m)\u001b[0m\u001b[1;33m\u001b[0m\u001b[1;33m\u001b[0m\u001b[0m\n\u001b[0m",
      "\u001b[1;31mAttributeError\u001b[0m: 'tuple' object has no attribute 'add'"
     ]
    }
   ],
   "source": [
    "# What is a Tuple:  \n",
    "\n",
    "# Tuples are denoted by an opening and closing brace\n",
    "# These are containers that are IMMUTABLE\n",
    "# Tuples are able to hold multiple items seprated by a comma\n",
    "# each item in a tuple is assigned an index position\n",
    "# Index positions start from ZERO for the first item and increments by 1\n",
    "# To fetch an item from a tuple; write the name of the tuple followed by a SQUARE bracket. \n",
    "#In the bracket insert the index position of the item you want to fetch\n",
    "\n",
    "studName.add('Clement')"
   ]
  },
  {
   "cell_type": "code",
   "execution_count": null,
   "id": "a5d15c30",
   "metadata": {},
   "outputs": [],
   "source": [
    "# How to check if an item is a member of a container (Tuple)"
   ]
  },
  {
   "cell_type": "code",
   "execution_count": null,
   "id": "2b16f5d9",
   "metadata": {},
   "outputs": [],
   "source": [
    "# Python provides a function called .index()"
   ]
  },
  {
   "cell_type": "code",
   "execution_count": 7,
   "id": "00b0b483",
   "metadata": {},
   "outputs": [
    {
     "data": {
      "text/plain": [
       "4"
      ]
     },
     "execution_count": 7,
     "metadata": {},
     "output_type": "execute_result"
    }
   ],
   "source": [
    "studName.index('Femi')"
   ]
  },
  {
   "cell_type": "code",
   "execution_count": 25,
   "id": "015279d4",
   "metadata": {},
   "outputs": [],
   "source": [
    "def itemSearch(item, container):\n",
    "    \n",
    "    if item in container:\n",
    "        if container.index(item) >= 0:\n",
    "            print(item, ' Found at index positin: ', container.index(item))\n",
    "        else:\n",
    "            print('item is in contyainer but its index is not reachable')\n",
    "    else:\n",
    "        print(item, 'not a member of the specifed container')"
   ]
  },
  {
   "cell_type": "code",
   "execution_count": 26,
   "id": "c37b2c41",
   "metadata": {},
   "outputs": [
    {
     "name": "stdout",
     "output_type": "stream",
     "text": [
      "James  Found at index positin:  0\n"
     ]
    }
   ],
   "source": [
    "container = ('James', 'Mercy', 'Chibuike', 'Aiysha', 'Femi')\n",
    "stud = 'James'\n",
    "\n",
    "itemSearch(stud, container)"
   ]
  },
  {
   "cell_type": "code",
   "execution_count": null,
   "id": "241a85a7",
   "metadata": {},
   "outputs": [],
   "source": []
  },
  {
   "cell_type": "code",
   "execution_count": null,
   "id": "cab03a36",
   "metadata": {},
   "outputs": [],
   "source": [
    "# Python LISTS"
   ]
  },
  {
   "cell_type": "code",
   "execution_count": null,
   "id": "4e625b52",
   "metadata": {},
   "outputs": [],
   "source": [
    "# What is a LIST:  \n",
    "\n",
    "# Lists are denoted by opening and cloing SQUARE brackets\n",
    "# These are containers that are MUTABLE\n",
    "# Lists are able to hold multiple items seprated by a comma\n",
    "# each item in a List is assigned an index position\n",
    "# Index positions start from ZERO for the first item and increments by 1\n",
    "# To fetch an item from a List; write the name of the List followed by a SQUARE bracket. \n",
    "#In the bracket insert the index position of the item you want to fetch"
   ]
  },
  {
   "cell_type": "code",
   "execution_count": 27,
   "id": "b2676b01",
   "metadata": {},
   "outputs": [],
   "source": [
    "# Example of a list\n",
    "\n",
    "studList = ['James', 'Mercy', 'Chibuike', 'Aiysha', 'Femi']"
   ]
  },
  {
   "cell_type": "code",
   "execution_count": 28,
   "id": "6eca69ed",
   "metadata": {},
   "outputs": [
    {
     "data": {
      "text/plain": [
       "list"
      ]
     },
     "execution_count": 28,
     "metadata": {},
     "output_type": "execute_result"
    }
   ],
   "source": [
    "type(studList)"
   ]
  },
  {
   "cell_type": "code",
   "execution_count": 29,
   "id": "bda3b917",
   "metadata": {},
   "outputs": [
    {
     "data": {
      "text/plain": [
       "tuple"
      ]
     },
     "execution_count": 29,
     "metadata": {},
     "output_type": "execute_result"
    }
   ],
   "source": [
    "type(container)"
   ]
  },
  {
   "cell_type": "code",
   "execution_count": 30,
   "id": "1513bf74",
   "metadata": {},
   "outputs": [
    {
     "data": {
      "text/plain": [
       "'Aiysha'"
      ]
     },
     "execution_count": 30,
     "metadata": {},
     "output_type": "execute_result"
    }
   ],
   "source": [
    "# Fetch the item at index position 3\n",
    "\n",
    "studList[3]"
   ]
  },
  {
   "cell_type": "code",
   "execution_count": 31,
   "id": "ee6d773f",
   "metadata": {},
   "outputs": [
    {
     "data": {
      "text/plain": [
       "3"
      ]
     },
     "execution_count": 31,
     "metadata": {},
     "output_type": "execute_result"
    }
   ],
   "source": [
    "# Find the location (index position) of Aiysha in the list\n",
    "\n",
    "studList.index('Aiysha')"
   ]
  },
  {
   "cell_type": "code",
   "execution_count": null,
   "id": "3c979f13",
   "metadata": {},
   "outputs": [],
   "source": [
    "# List Functions"
   ]
  },
  {
   "cell_type": "code",
   "execution_count": 32,
   "id": "4722cc75",
   "metadata": {},
   "outputs": [],
   "source": [
    "# .append()\n",
    "\n",
    "# Add a stiudent to studList\n",
    "\n",
    "name = 'Evee'\n",
    "\n",
    "# adding Evee tot he list\n",
    "\n",
    "studList.append(name)"
   ]
  },
  {
   "cell_type": "code",
   "execution_count": 33,
   "id": "4b68def5",
   "metadata": {},
   "outputs": [
    {
     "data": {
      "text/plain": [
       "['James', 'Mercy', 'Chibuike', 'Aiysha', 'Femi', 'Evee']"
      ]
     },
     "execution_count": 33,
     "metadata": {},
     "output_type": "execute_result"
    }
   ],
   "source": [
    "studList"
   ]
  },
  {
   "cell_type": "code",
   "execution_count": null,
   "id": "9360d646",
   "metadata": {},
   "outputs": [],
   "source": [
    "# .append() will ALWAYS add the given item after the last index position of the list"
   ]
  },
  {
   "cell_type": "code",
   "execution_count": null,
   "id": "e267eebe",
   "metadata": {},
   "outputs": [],
   "source": [
    "# .insert()  used to add an item into a specific index position of a list"
   ]
  },
  {
   "cell_type": "code",
   "execution_count": 39,
   "id": "467ed33f",
   "metadata": {},
   "outputs": [],
   "source": [
    "# insert  Rofiah into the index position 2\n",
    "\n",
    "name = 'Rofiah'\n",
    "studList.insert(2, name)"
   ]
  },
  {
   "cell_type": "code",
   "execution_count": 37,
   "id": "4ab65951",
   "metadata": {},
   "outputs": [
    {
     "data": {
      "text/plain": [
       "['James', 'Mercy', 'Agatha', 'Rofiah', 'Chibuike', 'Aiysha', 'Femi', 'Evee']"
      ]
     },
     "execution_count": 37,
     "metadata": {},
     "output_type": "execute_result"
    }
   ],
   "source": [
    "studList"
   ]
  },
  {
   "cell_type": "code",
   "execution_count": 40,
   "id": "645194a1",
   "metadata": {},
   "outputs": [],
   "source": [
    "studList.insert(4, 10)"
   ]
  },
  {
   "cell_type": "code",
   "execution_count": 42,
   "id": "fbea33e5",
   "metadata": {},
   "outputs": [
    {
     "name": "stdout",
     "output_type": "stream",
     "text": [
      "['James', 'Mercy', 'Rofiah', 'Agatha', 10, 'Rofiah', 'Chibuike', 'Aiysha', 'Femi', 'Evee']\n"
     ]
    }
   ],
   "source": [
    "print(studList)"
   ]
  },
  {
   "cell_type": "code",
   "execution_count": 44,
   "id": "7cc03630",
   "metadata": {},
   "outputs": [],
   "source": [
    "list2 = ['Gabriel', 'Olubaju', 'Toluwani', 'Archibong']\n",
    "studList = ['James', 'Mercy', 'Chibuike', 'Aiysha', 'Femi']"
   ]
  },
  {
   "cell_type": "code",
   "execution_count": 46,
   "id": "434a0644",
   "metadata": {},
   "outputs": [],
   "source": [
    "#Task: combine studList with list2\n",
    "\n",
    "studList.append(list2)"
   ]
  },
  {
   "cell_type": "code",
   "execution_count": 48,
   "id": "de8a54b6",
   "metadata": {},
   "outputs": [
    {
     "name": "stdout",
     "output_type": "stream",
     "text": [
      "['James', 'Mercy', 'Chibuike', 'Aiysha', 'Femi', ['Gabriel', 'Olubaju', 'Toluwani', 'Archibong']]\n"
     ]
    }
   ],
   "source": [
    "print(studList)"
   ]
  },
  {
   "cell_type": "code",
   "execution_count": 49,
   "id": "2486378b",
   "metadata": {},
   "outputs": [],
   "source": [
    "studList.insert(2,list2)"
   ]
  },
  {
   "cell_type": "code",
   "execution_count": 50,
   "id": "8791a3c4",
   "metadata": {},
   "outputs": [
    {
     "data": {
      "text/plain": [
       "['James',\n",
       " 'Mercy',\n",
       " ['Gabriel', 'Olubaju', 'Toluwani', 'Archibong'],\n",
       " 'Chibuike',\n",
       " 'Aiysha',\n",
       " 'Femi',\n",
       " ['Gabriel', 'Olubaju', 'Toluwani', 'Archibong']]"
      ]
     },
     "execution_count": 50,
     "metadata": {},
     "output_type": "execute_result"
    }
   ],
   "source": [
    "studList"
   ]
  },
  {
   "cell_type": "code",
   "execution_count": null,
   "id": "10065fdd",
   "metadata": {},
   "outputs": [],
   "source": []
  },
  {
   "cell_type": "code",
   "execution_count": 51,
   "id": "f2f208fd",
   "metadata": {},
   "outputs": [
    {
     "name": "stdout",
     "output_type": "stream",
     "text": [
      "['James', 'Mercy', 'Chibuike', 'Aiysha', 'Femi', 'Gabriel', 'Olubaju', 'Toluwani', 'Archibong']\n"
     ]
    }
   ],
   "source": [
    "# .extend()\n",
    "\n",
    "\n",
    "list2 = ['Gabriel', 'Olubaju', 'Toluwani', 'Archibong']\n",
    "studList = ['James', 'Mercy', 'Chibuike', 'Aiysha', 'Femi']\n",
    "\n",
    "studList.extend(list2)\n",
    "print(studList)"
   ]
  },
  {
   "cell_type": "code",
   "execution_count": 52,
   "id": "0c510735",
   "metadata": {},
   "outputs": [
    {
     "data": {
      "text/plain": [
       "'Archibong'"
      ]
     },
     "execution_count": 52,
     "metadata": {},
     "output_type": "execute_result"
    }
   ],
   "source": [
    "studList.pop()  # Remove the last item in a list"
   ]
  },
  {
   "cell_type": "code",
   "execution_count": 54,
   "id": "9ce1744a",
   "metadata": {},
   "outputs": [
    {
     "name": "stdout",
     "output_type": "stream",
     "text": [
      "['James', 'Mercy', 'Chibuike', 'Aiysha', 'Femi', 'Gabriel', 'Olubaju', 'Toluwani']\n"
     ]
    }
   ],
   "source": [
    "print(studList)"
   ]
  },
  {
   "cell_type": "code",
   "execution_count": 55,
   "id": "d76bf256",
   "metadata": {},
   "outputs": [],
   "source": [
    "studList.remove('Chibuike')"
   ]
  },
  {
   "cell_type": "code",
   "execution_count": 56,
   "id": "1e214c2f",
   "metadata": {},
   "outputs": [
    {
     "name": "stdout",
     "output_type": "stream",
     "text": [
      "['James', 'Mercy', 'Aiysha', 'Femi', 'Gabriel', 'Olubaju', 'Toluwani']\n"
     ]
    }
   ],
   "source": [
    "print(studList)"
   ]
  },
  {
   "cell_type": "code",
   "execution_count": 57,
   "id": "9896e02d",
   "metadata": {},
   "outputs": [],
   "source": [
    "tgtList = ['James', 'Mercy', 'Femi']\n",
    "\n",
    "for name in tgtList:\n",
    "    studList.remove(name)"
   ]
  },
  {
   "cell_type": "code",
   "execution_count": 58,
   "id": "6d9f2d8c",
   "metadata": {},
   "outputs": [
    {
     "data": {
      "text/plain": [
       "['Aiysha', 'Gabriel', 'Olubaju', 'Toluwani']"
      ]
     },
     "execution_count": 58,
     "metadata": {},
     "output_type": "execute_result"
    }
   ],
   "source": [
    "studList"
   ]
  },
  {
   "cell_type": "code",
   "execution_count": 59,
   "id": "7110bb0e",
   "metadata": {},
   "outputs": [
    {
     "data": {
      "text/plain": [
       "['Gabriel',\n",
       " 'Olubaju',\n",
       " 'Toluwani',\n",
       " 'Archibong',\n",
       " 'Aiysha',\n",
       " 'Gabriel',\n",
       " 'Olubaju',\n",
       " 'Toluwani']"
      ]
     },
     "execution_count": 59,
     "metadata": {},
     "output_type": "execute_result"
    }
   ],
   "source": [
    "lista = list2 + studList"
   ]
  },
  {
   "cell_type": "code",
   "execution_count": null,
   "id": "65e7d27e",
   "metadata": {},
   "outputs": [],
   "source": []
  },
  {
   "cell_type": "code",
   "execution_count": null,
   "id": "430ab04b",
   "metadata": {},
   "outputs": [],
   "source": [
    "# List Slicing\n",
    "\n",
    "# fetch a subset of items from a list; you need the index position of the first item in the subset \n",
    "#and the index position of the last item in the subset"
   ]
  },
  {
   "cell_type": "code",
   "execution_count": 60,
   "id": "76c8bcde",
   "metadata": {},
   "outputs": [],
   "source": [
    "\n",
    "list2 = ['Gabriel', 'Olubaju', 'Toluwani', 'Archibong']\n",
    "studList = ['James', 'Mercy', 'Chibuike', 'Aiysha', 'Femi']"
   ]
  },
  {
   "cell_type": "code",
   "execution_count": 63,
   "id": "2181ccac",
   "metadata": {},
   "outputs": [],
   "source": [
    "# fetch 'Mercy', 'Chibuike', 'Aiysha' from studList\n",
    "\n",
    "list3 = studList[1:4]"
   ]
  },
  {
   "cell_type": "code",
   "execution_count": 64,
   "id": "2e3a7dfb",
   "metadata": {},
   "outputs": [
    {
     "name": "stdout",
     "output_type": "stream",
     "text": [
      "['Mercy', 'Chibuike', 'Aiysha']\n"
     ]
    }
   ],
   "source": [
    "print(list3)"
   ]
  },
  {
   "cell_type": "code",
   "execution_count": 65,
   "id": "fee72503",
   "metadata": {},
   "outputs": [
    {
     "data": {
      "text/plain": [
       "5"
      ]
     },
     "execution_count": 65,
     "metadata": {},
     "output_type": "execute_result"
    }
   ],
   "source": [
    "# check the size or length of a list\n",
    "\n",
    "# len()\n",
    "\n",
    "len(studList)"
   ]
  },
  {
   "cell_type": "code",
   "execution_count": 67,
   "id": "b12a8797",
   "metadata": {},
   "outputs": [],
   "source": [
    "#### Adding up lists\n",
    "\n",
    "\n",
    "list4 = ['Agatha', 88, 96, 'Ngond']\n",
    "\n",
    "list5 = ['Terngu', 'Fabian', 'Victoria']"
   ]
  },
  {
   "cell_type": "code",
   "execution_count": 68,
   "id": "8af3d951",
   "metadata": {},
   "outputs": [],
   "source": [
    "list4.extend(list5)"
   ]
  },
  {
   "cell_type": "code",
   "execution_count": 69,
   "id": "5ae31e32",
   "metadata": {},
   "outputs": [
    {
     "name": "stdout",
     "output_type": "stream",
     "text": [
      "['Agatha', 88, 96, 'Ngond', 'Terngu', 'Fabian', 'Victoria']\n"
     ]
    }
   ],
   "source": [
    "print(list4)"
   ]
  },
  {
   "cell_type": "code",
   "execution_count": 70,
   "id": "5fa49b76",
   "metadata": {},
   "outputs": [
    {
     "name": "stdout",
     "output_type": "stream",
     "text": [
      "['Terngu', 'Fabian', 'Victoria']\n"
     ]
    }
   ],
   "source": [
    "print(list5)"
   ]
  },
  {
   "cell_type": "code",
   "execution_count": 77,
   "id": "87b3b6da",
   "metadata": {},
   "outputs": [],
   "source": [
    "\n",
    "list4 = ['Agatha', 88, 96, 'Ngond']\n",
    "\n",
    "list5 = ['Terngu', 'Fabian', 'Victoria']\n",
    "\n",
    "\n",
    "res = list4 + list5"
   ]
  },
  {
   "cell_type": "code",
   "execution_count": 73,
   "id": "9ec82317",
   "metadata": {},
   "outputs": [
    {
     "name": "stdout",
     "output_type": "stream",
     "text": [
      "['Agatha', 88, 96, 'Ngond']\n"
     ]
    }
   ],
   "source": [
    "print(list4)"
   ]
  },
  {
   "cell_type": "code",
   "execution_count": 74,
   "id": "726edf7a",
   "metadata": {},
   "outputs": [
    {
     "name": "stdout",
     "output_type": "stream",
     "text": [
      "['Terngu', 'Fabian', 'Victoria']\n"
     ]
    }
   ],
   "source": [
    "print(list5)"
   ]
  },
  {
   "cell_type": "code",
   "execution_count": 78,
   "id": "c5c63b68",
   "metadata": {},
   "outputs": [
    {
     "name": "stdout",
     "output_type": "stream",
     "text": [
      "['Agatha', 88, 96, 'Ngond', 'Terngu', 'Fabian', 'Victoria']\n"
     ]
    }
   ],
   "source": [
    "print(res)"
   ]
  },
  {
   "cell_type": "code",
   "execution_count": null,
   "id": "c85da7f2",
   "metadata": {},
   "outputs": [],
   "source": []
  },
  {
   "cell_type": "code",
   "execution_count": null,
   "id": "cf7860a3",
   "metadata": {},
   "outputs": [],
   "source": [
    "# Python Sets\n",
    "\n",
    "# Sets are denoted by opening and closing CURLY brackets\n",
    "# Sets DO NOT allow duplicate items in their container\n",
    "# These are containers that are MUTABLE\n",
    "# Sets are able to hold multiple items seprated by a comma\n",
    "# each item in a Set is NOT assigned an index position\n",
    "# Items in a set are UNORDERED\n",
    " "
   ]
  },
  {
   "cell_type": "code",
   "execution_count": 79,
   "id": "d1261a85",
   "metadata": {},
   "outputs": [],
   "source": [
    "# create an empty set\n",
    "\n",
    "mySet = set()"
   ]
  },
  {
   "cell_type": "code",
   "execution_count": 80,
   "id": "c76d81ba",
   "metadata": {},
   "outputs": [
    {
     "data": {
      "text/plain": [
       "set"
      ]
     },
     "execution_count": 80,
     "metadata": {},
     "output_type": "execute_result"
    }
   ],
   "source": [
    "type(mySet)"
   ]
  },
  {
   "cell_type": "code",
   "execution_count": 81,
   "id": "5f69702a",
   "metadata": {},
   "outputs": [],
   "source": [
    "set2 = {'Gabriel', 'Olubaju', 'Toluwani', 'Archibong', 'James', 'Agatha', 'Malik'}\n",
    "studSet = {'James', 'Mercy', 'Chibuike', 'Aiysha', 'Femi', 'Henry', 'Olubaju'}"
   ]
  },
  {
   "cell_type": "code",
   "execution_count": 82,
   "id": "4eae803f",
   "metadata": {},
   "outputs": [
    {
     "data": {
      "text/plain": [
       "set"
      ]
     },
     "execution_count": 82,
     "metadata": {},
     "output_type": "execute_result"
    }
   ],
   "source": [
    "type(studSet)"
   ]
  },
  {
   "cell_type": "code",
   "execution_count": 83,
   "id": "b9aa8123",
   "metadata": {},
   "outputs": [
    {
     "ename": "TypeError",
     "evalue": "'set' object is not subscriptable",
     "output_type": "error",
     "traceback": [
      "\u001b[1;31m---------------------------------------------------------------------------\u001b[0m",
      "\u001b[1;31mTypeError\u001b[0m                                 Traceback (most recent call last)",
      "\u001b[1;32m~\\AppData\\Local\\Temp\\ipykernel_18480\\1236578209.py\u001b[0m in \u001b[0;36m<module>\u001b[1;34m\u001b[0m\n\u001b[1;32m----> 1\u001b[1;33m \u001b[0mstudSet\u001b[0m\u001b[1;33m[\u001b[0m\u001b[1;36m1\u001b[0m\u001b[1;33m]\u001b[0m\u001b[1;33m\u001b[0m\u001b[1;33m\u001b[0m\u001b[0m\n\u001b[0m",
      "\u001b[1;31mTypeError\u001b[0m: 'set' object is not subscriptable"
     ]
    }
   ],
   "source": [
    "studSet[1] # We cannot index through a set like we do with Lists and Tuples"
   ]
  },
  {
   "cell_type": "code",
   "execution_count": 84,
   "id": "3f3166aa",
   "metadata": {},
   "outputs": [],
   "source": [
    "# Set Functions"
   ]
  },
  {
   "cell_type": "code",
   "execution_count": 85,
   "id": "1e61362d",
   "metadata": {},
   "outputs": [],
   "source": [
    "set2 = {'Gabriel', 'Olubaju', 'Toluwani', 'Archibong', 'James', 'Agatha', 'Malik'}\n",
    "studSet = {'James', 'Mercy', 'Chibuike', 'Aiysha', 'Femi', 'Henry', 'Olubaju'}"
   ]
  },
  {
   "cell_type": "code",
   "execution_count": 87,
   "id": "01438be1",
   "metadata": {},
   "outputs": [
    {
     "data": {
      "text/plain": [
       "{'James', 'Olubaju'}"
      ]
     },
     "execution_count": 87,
     "metadata": {},
     "output_type": "execute_result"
    }
   ],
   "source": [
    "#.intersection() # Finds items common to multiple sets\n",
    "studSet.intersection(set2)"
   ]
  },
  {
   "cell_type": "code",
   "execution_count": null,
   "id": "f9670e1e",
   "metadata": {},
   "outputs": [],
   "source": [
    "set2 = {'Gabriel', 'Olubaju', 'Toluwani', 'Archibong', 'James', 'Agatha', 'Malik'}\n",
    "studSet = {'James', 'Mercy', 'Chibuike', 'Aiysha', 'Femi', 'Henry', 'Olubaju'}"
   ]
  },
  {
   "cell_type": "code",
   "execution_count": 88,
   "id": "7e4b13d9",
   "metadata": {},
   "outputs": [],
   "source": [
    "#.difference()\n",
    "\n",
    "x1 = studSet.difference(set2) # gives only the items in studSet that are not found in set2\n",
    "x2 = set2.difference(studSet) # gives items in set2 that are not in studSet"
   ]
  },
  {
   "cell_type": "code",
   "execution_count": 89,
   "id": "103078f6",
   "metadata": {},
   "outputs": [
    {
     "name": "stdout",
     "output_type": "stream",
     "text": [
      "{'Aiysha', 'Chibuike', 'Mercy', 'Henry', 'Femi'}\n"
     ]
    }
   ],
   "source": [
    "print(x1)"
   ]
  },
  {
   "cell_type": "code",
   "execution_count": 90,
   "id": "79cf168b",
   "metadata": {},
   "outputs": [
    {
     "name": "stdout",
     "output_type": "stream",
     "text": [
      "{'Malik', 'Agatha', 'Toluwani', 'Gabriel', 'Archibong'}\n"
     ]
    }
   ],
   "source": [
    "print(x2)"
   ]
  },
  {
   "cell_type": "code",
   "execution_count": null,
   "id": "fa7b9190",
   "metadata": {},
   "outputs": [],
   "source": [
    "set2 = {'Gabriel', 'Olubaju', 'Toluwani', 'Archibong', 'James', 'Agatha', 'Malik'}\n",
    "studSet = {'James', 'Mercy', 'Chibuike', 'Aiysha', 'Femi', 'Henry', 'Olubaju'}"
   ]
  },
  {
   "cell_type": "code",
   "execution_count": 92,
   "id": "3a8e2c3a",
   "metadata": {},
   "outputs": [
    {
     "name": "stdout",
     "output_type": "stream",
     "text": [
      "{'James', 'Malik', 'Aiysha', 'Agatha', 'Chibuike', 'Toluwani', 'Mercy', 'Henry', 'Olubaju', 'Gabriel', 'Archibong', 'Femi'}\n"
     ]
    }
   ],
   "source": [
    "# .union()\n",
    "\n",
    "x4 = studSet.union(set2) # merge the contents of the sets while removing any duplicates \n",
    "\n",
    "print(x4)"
   ]
  },
  {
   "cell_type": "code",
   "execution_count": null,
   "id": "87e2078a",
   "metadata": {},
   "outputs": [],
   "source": []
  },
  {
   "cell_type": "code",
   "execution_count": null,
   "id": "290bdabb",
   "metadata": {},
   "outputs": [],
   "source": []
  }
 ],
 "metadata": {
  "kernelspec": {
   "display_name": "Python 3 (ipykernel)",
   "language": "python",
   "name": "python3"
  },
  "language_info": {
   "codemirror_mode": {
    "name": "ipython",
    "version": 3
   },
   "file_extension": ".py",
   "mimetype": "text/x-python",
   "name": "python",
   "nbconvert_exporter": "python",
   "pygments_lexer": "ipython3",
   "version": "3.11.3"
  }
 },
 "nbformat": 4,
 "nbformat_minor": 5
}
