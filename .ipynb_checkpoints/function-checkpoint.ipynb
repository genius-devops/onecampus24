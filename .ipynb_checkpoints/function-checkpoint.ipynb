{
 "cells": [
  {
   "cell_type": "code",
   "execution_count": 1,
   "id": "02f12137",
   "metadata": {},
   "outputs": [
    {
     "name": "stdout",
     "output_type": "stream",
     "text": [
      "23940.0\n"
     ]
    }
   ],
   "source": [
    "# this fuction will convert from dolar to Ghana cedes the amt represent us currency while the 11.97 is exchange rate in Ghana Cedes\n",
    "\n",
    "def fx(amt):\n",
    "    val = amt * 11.97\n",
    "    \n",
    "    print(val)\n",
    "    \n",
    "fx(2000)"
   ]
  },
  {
   "cell_type": "code",
   "execution_count": 2,
   "id": "08abd1f5",
   "metadata": {},
   "outputs": [],
   "source": [
    "chemStuds = ['Florence', 'Onyeagoro','Aina','Elizabeth','Okafor', 'Thelma', 'Blessing', 'Goodness']\n",
    "chemScores = [87,89,95,67,90,45,35, 83]"
   ]
  },
  {
   "cell_type": "code",
   "execution_count": 6,
   "id": "785f6d65",
   "metadata": {},
   "outputs": [],
   "source": [
    "# function with return key word must assign a variable so that it can be reusable.\n",
    "# the function below return a grade of a students with their corresponding grade.\n",
    "\n",
    "def stud_grade(name, subj, score):\n",
    "    \n",
    "    if score >= 90:\n",
    "        grade = 'A'\n",
    "    elif score >= 80:\n",
    "        grade = 'B'\n",
    "    elif score >= 70:\n",
    "        grade = 'C'\n",
    "    elif score >= 60:\n",
    "        grade = 'D'\n",
    "    elif score >= 50:\n",
    "        grade = 'E'\n",
    "    else:\n",
    "        grade = 'F'\n",
    "        \n",
    "    return name, subj, score, grade"
   ]
  },
  {
   "cell_type": "code",
   "execution_count": 14,
   "id": "1874edc6",
   "metadata": {},
   "outputs": [
    {
     "name": "stdout",
     "output_type": "stream",
     "text": [
      "what is the student name? adamu labaran\n",
      "registered subject chm512\n",
      "what is the score of the subject? 89\n",
      "\n",
      "('adamu labaran', 'chm512', 89, 'B')\n"
     ]
    }
   ],
   "source": [
    "# due to return statement the stud_grade function will be into a variable result\n",
    "\n",
    "name = input(\"what is the student name? \")\n",
    "subj = input(\"registered subject \")\n",
    "score = int(input(\"what is the score of the subject? \"))\n",
    "\n",
    "\n",
    "result = stud_grade(name, subj, score)\n",
    "print()\n",
    "print(result)"
   ]
  },
  {
   "cell_type": "code",
   "execution_count": 11,
   "id": "1349d345",
   "metadata": {},
   "outputs": [
    {
     "name": "stdout",
     "output_type": "stream",
     "text": [
      "('adamu', 'chm512', 77, 'C')\n"
     ]
    }
   ],
   "source": []
  },
  {
   "cell_type": "code",
   "execution_count": 15,
   "id": "649241f3",
   "metadata": {},
   "outputs": [],
   "source": [
    "chemStuds = ['Florence', 'Onyeagoro','Aina','Elizabeth','Okafor', 'Thelma', 'Blessing', 'Goodness']\n",
    "chemScores = [87,89,95,67,90,45,35, 83]\n",
    "subj = \"CHM101\"\n",
    "\n",
    "# using for loop to unpack chemStuds and chmScores into a result_list\n",
    "result_list = []\n",
    "for name, score in zip(chemStuds, chemScores):\n",
    "    result = stud_grade(name, subj, score)  # using stud_grade function to recieve what was stored from for loop as an argument\n",
    "    result_list.append(result) # appending result to result list to print the ire output\n",
    "    \n",
    "\n",
    "    \n",
    "print(result_list)"
   ]
  },
  {
   "cell_type": "code",
   "execution_count": 16,
   "id": "b701b91d",
   "metadata": {},
   "outputs": [
    {
     "name": "stdout",
     "output_type": "stream",
     "text": [
      "[('Florence', 'CHM101', 87, 'B'), ('Onyeagoro', 'CHM101', 89, 'B'), ('Aina', 'CHM101', 95, 'A'), ('Elizabeth', 'CHM101', 67, 'D'), ('Okafor', 'CHM101', 90, 'A'), ('Thelma', 'CHM101', 45, 'F'), ('Blessing', 'CHM101', 35, 'F'), ('Goodness', 'CHM101', 83, 'B')]\n"
     ]
    }
   ],
   "source": [
    "print(result_list)"
   ]
  },
  {
   "cell_type": "code",
   "execution_count": 17,
   "id": "4b401dfe",
   "metadata": {},
   "outputs": [
    {
     "name": "stdout",
     "output_type": "stream",
     "text": [
      "        name subject  score grade\n",
      "0   Florence  CHM101     87     B\n",
      "1  Onyeagoro  CHM101     89     B\n",
      "2       Aina  CHM101     95     A\n",
      "3  Elizabeth  CHM101     67     D\n",
      "4     Okafor  CHM101     90     A\n",
      "5     Thelma  CHM101     45     F\n",
      "6   Blessing  CHM101     35     F\n",
      "7   Goodness  CHM101     83     B\n"
     ]
    }
   ],
   "source": [
    "# using data frame to organise the result\n",
    "import pandas as pd\n",
    "\n",
    "chemStuds = ['Florence', 'Onyeagoro','Aina','Elizabeth','Okafor', 'Thelma', 'Blessing', 'Goodness']\n",
    "chemScores = [87,89,95,67,90,45,35, 83]\n",
    "subj = \"CHM101\"\n",
    "\n",
    "# using for loop to unpack chemStuds and chmScores into a result_list\n",
    "result_list = []\n",
    "for name, score in zip(chemStuds, chemScores):\n",
    "    result = stud_grade(name, subj, score)  # using stud_grade function to recieve what was stored from for loop as an argument\n",
    "    result_list.append(result) # appending result to result list to print the ire output\n",
    "    \n",
    "# using datta frame to manipulate the result\n",
    "resultDF = pd.DataFrame(result_list, columns = ['name', 'subject', 'score', 'grade'])\n",
    "    \n",
    "print(resultDF)"
   ]
  },
  {
   "cell_type": "code",
   "execution_count": 25,
   "id": "78e898d3",
   "metadata": {},
   "outputs": [],
   "source": [
    "# saving the output in a csv file\n",
    "result_csv = \"C:\\\\Users\\\\LENOVO YOGA 11E\\\\Documents\\\\projects\\\\workspace\\\\onecampusenv\\\\onecampus24\\\\result.csv\"\n",
    "result_csv = \"C:\\\\Users\\\\LENOVO YOGA 11E\\\\Documents\\\\projects\\\\testing_my_codes\\\\scv\\\\result.csv\"\n",
    "resultDF.to_csv(result_csv)"
   ]
  },
  {
   "cell_type": "code",
   "execution_count": null,
   "id": "5a060652",
   "metadata": {},
   "outputs": [],
   "source": []
  },
  {
   "cell_type": "code",
   "execution_count": 4,
   "id": "92e6ae30",
   "metadata": {},
   "outputs": [
    {
     "name": "stdout",
     "output_type": "stream",
     "text": [
      "11\n",
      "9\n",
      "14\n",
      "13\n",
      "8\n",
      "7\n",
      "10\n"
     ]
    }
   ],
   "source": [
    "dob = [2012, 2014, 2009, 2010, 2015, 2016, 2013]\n",
    "yr = 2023\n",
    "\n",
    "for age in dob:\n",
    "    age = yr - age\n",
    "    print(age)"
   ]
  },
  {
   "cell_type": "code",
   "execution_count": null,
   "id": "633ff136",
   "metadata": {},
   "outputs": [],
   "source": []
  },
  {
   "cell_type": "code",
   "execution_count": 6,
   "id": "3222ba9d",
   "metadata": {},
   "outputs": [],
   "source": [
    "def tec_kid_age(name, birth_yr, age):\n",
    "    return name, birth_yr, age            "
   ]
  },
  {
   "cell_type": "code",
   "execution_count": 8,
   "id": "7035d43c",
   "metadata": {},
   "outputs": [
    {
     "data": {
      "text/plain": [
       "[('jawad', 2012, 11),\n",
       " ('hajara', 2014, 9),\n",
       " ('murjanatu', 2009, 14),\n",
       " ('bello', 2010, 13),\n",
       " ('suleiman', 2015, 8),\n",
       " ('nana', 2016, 7),\n",
       " ('khadija', 2013, 10)]"
      ]
     },
     "execution_count": 8,
     "metadata": {},
     "output_type": "execute_result"
    }
   ],
   "source": [
    "my_studs = ['jawad', 'hajara', 'murjanatu', 'bello', 'suleiman', 'nana', 'khadija']\n",
    "dob = [2012, 2014, 2009, 2010, 2015, 2016, 2013]\n",
    "yr = 2023\n",
    "    \n",
    "stu_list = []\n",
    "for name, birth_yr in zip(my_studs, dob):\n",
    "    \n",
    "    age = yr - birth_yr\n",
    "    mystud = tec_kid_age(name, birth_yr, age)\n",
    "    stu_list.append(mystud)    \n",
    "\n",
    "\n",
    "  \n",
    "stu_list"
   ]
  },
  {
   "cell_type": "code",
   "execution_count": null,
   "id": "3f71b235",
   "metadata": {},
   "outputs": [],
   "source": [
    "resDF = pd.DataFrame(resList, columns =['name', 'subject', 'score', 'Grade'])    "
   ]
  },
  {
   "cell_type": "code",
   "execution_count": 9,
   "id": "34c8dd41",
   "metadata": {},
   "outputs": [
    {
     "data": {
      "text/html": [
       "<div>\n",
       "<style scoped>\n",
       "    .dataframe tbody tr th:only-of-type {\n",
       "        vertical-align: middle;\n",
       "    }\n",
       "\n",
       "    .dataframe tbody tr th {\n",
       "        vertical-align: top;\n",
       "    }\n",
       "\n",
       "    .dataframe thead th {\n",
       "        text-align: right;\n",
       "    }\n",
       "</style>\n",
       "<table border=\"1\" class=\"dataframe\">\n",
       "  <thead>\n",
       "    <tr style=\"text-align: right;\">\n",
       "      <th></th>\n",
       "      <th>Name</th>\n",
       "      <th>Date of Birth</th>\n",
       "      <th>Age</th>\n",
       "    </tr>\n",
       "  </thead>\n",
       "  <tbody>\n",
       "    <tr>\n",
       "      <th>0</th>\n",
       "      <td>jawad</td>\n",
       "      <td>2012</td>\n",
       "      <td>11</td>\n",
       "    </tr>\n",
       "    <tr>\n",
       "      <th>1</th>\n",
       "      <td>hajara</td>\n",
       "      <td>2014</td>\n",
       "      <td>9</td>\n",
       "    </tr>\n",
       "    <tr>\n",
       "      <th>2</th>\n",
       "      <td>murjanatu</td>\n",
       "      <td>2009</td>\n",
       "      <td>14</td>\n",
       "    </tr>\n",
       "    <tr>\n",
       "      <th>3</th>\n",
       "      <td>bello</td>\n",
       "      <td>2010</td>\n",
       "      <td>13</td>\n",
       "    </tr>\n",
       "    <tr>\n",
       "      <th>4</th>\n",
       "      <td>suleiman</td>\n",
       "      <td>2015</td>\n",
       "      <td>8</td>\n",
       "    </tr>\n",
       "    <tr>\n",
       "      <th>5</th>\n",
       "      <td>nana</td>\n",
       "      <td>2016</td>\n",
       "      <td>7</td>\n",
       "    </tr>\n",
       "    <tr>\n",
       "      <th>6</th>\n",
       "      <td>khadija</td>\n",
       "      <td>2013</td>\n",
       "      <td>10</td>\n",
       "    </tr>\n",
       "  </tbody>\n",
       "</table>\n",
       "</div>"
      ],
      "text/plain": [
       "        Name  Date of Birth  Age\n",
       "0      jawad           2012   11\n",
       "1     hajara           2014    9\n",
       "2  murjanatu           2009   14\n",
       "3      bello           2010   13\n",
       "4   suleiman           2015    8\n",
       "5       nana           2016    7\n",
       "6    khadija           2013   10"
      ]
     },
     "execution_count": 9,
     "metadata": {},
     "output_type": "execute_result"
    }
   ],
   "source": [
    "import pandas as pd\n",
    "# computing my stu_list using pandas and data frame\n",
    "\n",
    "stu_listDF = pd.DataFrame(stu_list, columns = ['Name', 'Date of Birth', 'Age'])\n",
    "stu_listDF\n"
   ]
  },
  {
   "cell_type": "code",
   "execution_count": 10,
   "id": "3fd0b943",
   "metadata": {},
   "outputs": [],
   "source": [
    "# saving stu_listDF as csv file\n",
    "stu_listDF.to_csv(\"my_students.csv\")"
   ]
  },
  {
   "cell_type": "code",
   "execution_count": null,
   "id": "1e714328",
   "metadata": {},
   "outputs": [],
   "source": []
  },
  {
   "cell_type": "code",
   "execution_count": null,
   "id": "3d11d58c",
   "metadata": {},
   "outputs": [],
   "source": [
    "# Creating a function from a simple script\n",
    "\n",
    " # construct the dictionary\n",
    "    \n",
    "chemStuds = ['Florence', 'Onyeagoro','Aina','Elizabeth','Okafor', 'Thelma', 'Blessing', 'Goodness']\n",
    "chemScores = [87,89,95,67,90,45,35, 83]\n",
    "\n",
    "# create empty dictionary\n",
    "\n",
    "examDict = dict()\n"
   ]
  },
  {
   "cell_type": "code",
   "execution_count": null,
   "id": "ff5704e6",
   "metadata": {},
   "outputs": [],
   "source": []
  },
  {
   "cell_type": "code",
   "execution_count": null,
   "id": "38d23d43",
   "metadata": {},
   "outputs": [],
   "source": []
  },
  {
   "cell_type": "code",
   "execution_count": 13,
   "id": "c4dcdefb",
   "metadata": {},
   "outputs": [
    {
     "name": "stdout",
     "output_type": "stream",
     "text": [
      "hello Adams Labaran\n"
     ]
    }
   ],
   "source": [
    "def greet():\n",
    "    print(\"hello Adams Labaran\")\n",
    "    \n",
    "greet()"
   ]
  },
  {
   "cell_type": "code",
   "execution_count": 14,
   "id": "fc223063",
   "metadata": {},
   "outputs": [
    {
     "name": "stdout",
     "output_type": "stream",
     "text": [
      "Hello, Jesse!\n"
     ]
    }
   ],
   "source": [
    "def greet_user(username):\n",
    " \"\"\"Display a simple greeting.\"\"\"\n",
    " print(\"Hello, \" + username.title() + \"!\")\n",
    " \n",
    "greet_user('jesse')"
   ]
  },
  {
   "cell_type": "code",
   "execution_count": 15,
   "id": "d6b850b8",
   "metadata": {},
   "outputs": [
    {
     "name": "stdout",
     "output_type": "stream",
     "text": [
      "Hello, Adams Labaran!\n"
     ]
    }
   ],
   "source": [
    "greet_user('Adams Labaran')"
   ]
  },
  {
   "cell_type": "code",
   "execution_count": 19,
   "id": "ebbaf886",
   "metadata": {},
   "outputs": [
    {
     "name": "stdout",
     "output_type": "stream",
     "text": [
      "\n",
      "I have a hamster.\n",
      "My hamster's name is Harry.\n",
      "\n",
      "I have a cat.\n",
      "My cat's name is Yesmi.\n",
      "\n",
      "I have a Dog.\n",
      "My Dog's name is Dan Ladi.\n",
      "\n",
      "I have a dog.\n",
      "My dog's name is Willie.\n"
     ]
    }
   ],
   "source": [
    "# parameter, a piece of information the function needs to do its job.\n",
    "\n",
    "# An argument is a piece of information that is passed from a function call to a function.\n",
    "\n",
    "# Positional Arguments When you call a function, Python must match each argument in the func\u0002tion call with a parameter in the function definition.\n",
    "\n",
    "def describe_pet(animal_type, pet_name):\n",
    " \"\"\"Display information about a pet.\"\"\"\n",
    " print(\"\\nI have a \" + animal_type + \".\")\n",
    " print(\"My \" + animal_type + \"'s name is \" + pet_name.title() + \".\")\n",
    " \n",
    "describe_pet('hamster', 'harry')\n",
    "\n",
    "# Multiple Function Calls\n",
    "describe_pet('cat', 'yesmi')\n",
    "\n",
    "describe_pet('Dog', 'Dan ladi')\n",
    "\n",
    "\n",
    "describe_pet('dog', 'willie')"
   ]
  },
  {
   "cell_type": "code",
   "execution_count": null,
   "id": "78277d67",
   "metadata": {},
   "outputs": [],
   "source": []
  },
  {
   "cell_type": "code",
   "execution_count": null,
   "id": "fef465e7",
   "metadata": {},
   "outputs": [],
   "source": []
  },
  {
   "cell_type": "code",
   "execution_count": null,
   "id": "818176f4",
   "metadata": {},
   "outputs": [],
   "source": []
  },
  {
   "cell_type": "code",
   "execution_count": null,
   "id": "731399ad",
   "metadata": {},
   "outputs": [],
   "source": []
  },
  {
   "cell_type": "code",
   "execution_count": null,
   "id": "bd9703fc",
   "metadata": {},
   "outputs": [],
   "source": []
  },
  {
   "cell_type": "code",
   "execution_count": null,
   "id": "083a5a83",
   "metadata": {},
   "outputs": [],
   "source": []
  },
  {
   "cell_type": "code",
   "execution_count": null,
   "id": "21929010",
   "metadata": {},
   "outputs": [],
   "source": []
  },
  {
   "cell_type": "code",
   "execution_count": null,
   "id": "6dce4e80",
   "metadata": {},
   "outputs": [],
   "source": []
  },
  {
   "cell_type": "code",
   "execution_count": null,
   "id": "69e952f0",
   "metadata": {},
   "outputs": [],
   "source": []
  },
  {
   "cell_type": "code",
   "execution_count": null,
   "id": "fafd7748",
   "metadata": {},
   "outputs": [],
   "source": []
  },
  {
   "cell_type": "code",
   "execution_count": null,
   "id": "d92cbe7e",
   "metadata": {},
   "outputs": [],
   "source": []
  },
  {
   "cell_type": "code",
   "execution_count": null,
   "id": "44c371c8",
   "metadata": {},
   "outputs": [],
   "source": []
  },
  {
   "cell_type": "code",
   "execution_count": null,
   "id": "cb2ce021",
   "metadata": {},
   "outputs": [],
   "source": []
  },
  {
   "cell_type": "code",
   "execution_count": null,
   "id": "34c0043a",
   "metadata": {},
   "outputs": [],
   "source": []
  },
  {
   "cell_type": "code",
   "execution_count": null,
   "id": "3dd46b08",
   "metadata": {},
   "outputs": [],
   "source": []
  },
  {
   "cell_type": "code",
   "execution_count": null,
   "id": "5f06a89b",
   "metadata": {},
   "outputs": [],
   "source": []
  },
  {
   "cell_type": "code",
   "execution_count": null,
   "id": "b42a49c2",
   "metadata": {},
   "outputs": [],
   "source": []
  },
  {
   "cell_type": "code",
   "execution_count": null,
   "id": "98049ee6",
   "metadata": {},
   "outputs": [],
   "source": []
  },
  {
   "cell_type": "code",
   "execution_count": null,
   "id": "5c0bb66b",
   "metadata": {},
   "outputs": [],
   "source": []
  },
  {
   "cell_type": "code",
   "execution_count": null,
   "id": "d0c1e8af",
   "metadata": {},
   "outputs": [],
   "source": []
  },
  {
   "cell_type": "code",
   "execution_count": null,
   "id": "ef20319c",
   "metadata": {},
   "outputs": [],
   "source": []
  },
  {
   "cell_type": "code",
   "execution_count": null,
   "id": "43a46c96",
   "metadata": {},
   "outputs": [],
   "source": []
  },
  {
   "cell_type": "code",
   "execution_count": null,
   "id": "cb2a905b",
   "metadata": {},
   "outputs": [],
   "source": []
  },
  {
   "cell_type": "code",
   "execution_count": null,
   "id": "da67863e",
   "metadata": {},
   "outputs": [],
   "source": []
  },
  {
   "cell_type": "code",
   "execution_count": null,
   "id": "eb9e8b62",
   "metadata": {},
   "outputs": [],
   "source": []
  },
  {
   "cell_type": "code",
   "execution_count": null,
   "id": "4e0a3221",
   "metadata": {},
   "outputs": [],
   "source": []
  },
  {
   "cell_type": "code",
   "execution_count": null,
   "id": "8b6bc04d",
   "metadata": {},
   "outputs": [],
   "source": []
  },
  {
   "cell_type": "code",
   "execution_count": null,
   "id": "86dde297",
   "metadata": {},
   "outputs": [],
   "source": []
  },
  {
   "cell_type": "code",
   "execution_count": null,
   "id": "b8560240",
   "metadata": {},
   "outputs": [],
   "source": []
  },
  {
   "cell_type": "code",
   "execution_count": null,
   "id": "ad413115",
   "metadata": {},
   "outputs": [],
   "source": []
  },
  {
   "cell_type": "code",
   "execution_count": null,
   "id": "1b53bfbd",
   "metadata": {},
   "outputs": [],
   "source": []
  },
  {
   "cell_type": "code",
   "execution_count": null,
   "id": "a0768766",
   "metadata": {},
   "outputs": [],
   "source": []
  },
  {
   "cell_type": "code",
   "execution_count": null,
   "id": "c3935b98",
   "metadata": {},
   "outputs": [],
   "source": []
  },
  {
   "cell_type": "code",
   "execution_count": null,
   "id": "a502aa18",
   "metadata": {},
   "outputs": [],
   "source": []
  },
  {
   "cell_type": "code",
   "execution_count": null,
   "id": "9a3090f1",
   "metadata": {},
   "outputs": [],
   "source": []
  },
  {
   "cell_type": "code",
   "execution_count": null,
   "id": "30f79263",
   "metadata": {},
   "outputs": [],
   "source": []
  },
  {
   "cell_type": "code",
   "execution_count": null,
   "id": "c92740d6",
   "metadata": {},
   "outputs": [],
   "source": []
  },
  {
   "cell_type": "code",
   "execution_count": null,
   "id": "44239e82",
   "metadata": {},
   "outputs": [],
   "source": []
  },
  {
   "cell_type": "code",
   "execution_count": null,
   "id": "855a0d17",
   "metadata": {},
   "outputs": [],
   "source": []
  },
  {
   "cell_type": "code",
   "execution_count": null,
   "id": "d4fb09a4",
   "metadata": {},
   "outputs": [],
   "source": []
  },
  {
   "cell_type": "code",
   "execution_count": null,
   "id": "d0d2f0c7",
   "metadata": {},
   "outputs": [],
   "source": []
  },
  {
   "cell_type": "code",
   "execution_count": null,
   "id": "c9f7cdf1",
   "metadata": {},
   "outputs": [],
   "source": []
  },
  {
   "cell_type": "code",
   "execution_count": null,
   "id": "f6043b7f",
   "metadata": {},
   "outputs": [],
   "source": []
  },
  {
   "cell_type": "code",
   "execution_count": null,
   "id": "e9f81c78",
   "metadata": {},
   "outputs": [],
   "source": []
  },
  {
   "cell_type": "code",
   "execution_count": null,
   "id": "93d8cc67",
   "metadata": {},
   "outputs": [],
   "source": []
  },
  {
   "cell_type": "code",
   "execution_count": null,
   "id": "14f1d5a2",
   "metadata": {},
   "outputs": [],
   "source": []
  },
  {
   "cell_type": "code",
   "execution_count": null,
   "id": "5afa984a",
   "metadata": {},
   "outputs": [],
   "source": []
  },
  {
   "cell_type": "code",
   "execution_count": null,
   "id": "d5cdb546",
   "metadata": {},
   "outputs": [],
   "source": []
  },
  {
   "cell_type": "code",
   "execution_count": null,
   "id": "d7207cee",
   "metadata": {},
   "outputs": [],
   "source": []
  }
 ],
 "metadata": {
  "kernelspec": {
   "display_name": "Python 3 (ipykernel)",
   "language": "python",
   "name": "python3"
  },
  "language_info": {
   "codemirror_mode": {
    "name": "ipython",
    "version": 3
   },
   "file_extension": ".py",
   "mimetype": "text/x-python",
   "name": "python",
   "nbconvert_exporter": "python",
   "pygments_lexer": "ipython3",
   "version": "3.10.9"
  }
 },
 "nbformat": 4,
 "nbformat_minor": 5
}
