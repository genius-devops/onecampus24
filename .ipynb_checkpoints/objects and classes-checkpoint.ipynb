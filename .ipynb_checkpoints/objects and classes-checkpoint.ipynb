{
 "cells": [
  {
   "cell_type": "code",
   "execution_count": 1,
   "id": "0bb7d19f-39ce-47ed-a52d-08bf0a0f88c7",
   "metadata": {},
   "outputs": [
    {
     "name": "stdout",
     "output_type": "stream",
     "text": [
      "hi\n"
     ]
    }
   ],
   "source": [
    "# higher order function\n",
    "\n",
    "def greet():\n",
    "    print(\"hi\")\n",
    "\n",
    "def display(other_func):\n",
    "    other_func()\n",
    "\n",
    "display(greet)"
   ]
  },
  {
   "cell_type": "code",
   "execution_count": 4,
   "id": "67c73e14-bfb4-45a5-9a13-bd508d839a91",
   "metadata": {},
   "outputs": [
    {
     "name": "stdout",
     "output_type": "stream",
     "text": [
      "HI ADAMS\n",
      "HI adams\n"
     ]
    }
   ],
   "source": [
    "# higher order fuction\n",
    "\n",
    "def GREETING(name):\n",
    "    print(f\"HI {name.upper()}\")\n",
    "\n",
    "def greeting(name):\n",
    "    print(f\"HI {name.lower()}\")\n",
    "    \n",
    "# hello function will import function from GREETING and greeting.\n",
    "def hello(import_greet, name):\n",
    "    import_greet(name)\n",
    "\n",
    "hello(GREETING, \"adams\")\n",
    "hello(greeting, \"ADAMS\")"
   ]
  },
  {
   "cell_type": "code",
   "execution_count": 6,
   "id": "c7b5f69d-5991-4918-903e-b2ea94cff4a1",
   "metadata": {},
   "outputs": [
    {
     "name": "stdout",
     "output_type": "stream",
     "text": [
      "hello has been executed.\n",
      "salma usman\n"
     ]
    }
   ],
   "source": [
    "# another scanrio\n",
    "\n",
    "def hello(name):\n",
    "    print(f\"hello has been executed.\")\n",
    "    \n",
    "    def greet():\n",
    "        my_name = \"adams labaran\"\n",
    "        print(my_name)\n",
    "\n",
    "    def welcome():\n",
    "        her_name = \"salma usman\"\n",
    "        print(her_name)\n",
    "\n",
    "    if name == \"adams\":\n",
    "        return greet\n",
    "    else:\n",
    "        return welcome\n",
    "\n",
    "# importing hello function\n",
    "result = hello(\"musa\")\n",
    "result()"
   ]
  },
  {
   "cell_type": "code",
   "execution_count": 11,
   "id": "2567d5fd-28ee-4625-a913-45b4c270dbab",
   "metadata": {},
   "outputs": [
    {
     "ename": "TypeError",
     "evalue": "'str' object is not callable",
     "output_type": "error",
     "traceback": [
      "\u001b[1;31m---------------------------------------------------------------------------\u001b[0m",
      "\u001b[1;31mTypeError\u001b[0m                                 Traceback (most recent call last)",
      "Cell \u001b[1;32mIn[11], line 26\u001b[0m\n\u001b[0;32m     23\u001b[0m         \u001b[38;5;28;01mreturn\u001b[39;00m \u001b[38;5;124m\"\u001b[39m\u001b[38;5;124minvalid input\u001b[39m\u001b[38;5;124m\"\u001b[39m\n\u001b[0;32m     25\u001b[0m mat \u001b[38;5;241m=\u001b[39m cal(\u001b[38;5;241m4\u001b[39m \u001b[38;5;241m+\u001b[39m \u001b[38;5;241m5\u001b[39m)\n\u001b[1;32m---> 26\u001b[0m \u001b[43mmat\u001b[49m\u001b[43m(\u001b[49m\u001b[43m)\u001b[49m\n",
      "\u001b[1;31mTypeError\u001b[0m: 'str' object is not callable"
     ]
    }
   ],
   "source": [
    "def cal(nums):\n",
    "    \n",
    "    def add(x, y):\n",
    "        return x + y\n",
    "\n",
    "    def sub(x, y):\n",
    "        return x - y\n",
    "\n",
    "    def mult(x, y):\n",
    "        return x * y\n",
    "\n",
    "    def div(x, y):\n",
    "        return x / y\n",
    "\n",
    "    def expo(x, y):\n",
    "        return x ** y\n",
    "\n",
    "    if nums == 1 + 1:\n",
    "        return add\n",
    "    elif nums == 1 - 1:\n",
    "        return sub\n",
    "    else:\n",
    "        return \"invalid input\"\n",
    "\n",
    "mat = cal(4 + 5)\n",
    "mat()"
   ]
  },
  {
   "cell_type": "code",
   "execution_count": null,
   "id": "c54afeea-cba9-46d0-9074-1bcd0d2c0e91",
   "metadata": {},
   "outputs": [],
   "source": []
  },
  {
   "cell_type": "code",
   "execution_count": 15,
   "id": "07e1f0ce-e1a8-4910-90c9-c7062df1eac9",
   "metadata": {},
   "outputs": [
    {
     "name": "stdout",
     "output_type": "stream",
     "text": [
      "<__main__.Employee object at 0x000002636CAB5B90>\n",
      "<__main__.Employee object at 0x000002636CB3EB90>\n"
     ]
    }
   ],
   "source": [
    "# class and instance of a class: creating and insantiating a simple class\n",
    "# a class is a blue print for creating an instances each employee created will instance of Employee class.\n",
    "# suppose we want to represent our employee in a python code where each employee will have a name, a pay, an email address\n",
    "\n",
    "# creating a simple employee class\n",
    "class Employee:\n",
    "    pass\n",
    "\n",
    "# each of the ff class will have a unique instance of Employee  class\n",
    "emp_1 = Employee()\n",
    "emp_2 = Employee()\n",
    "\n",
    "print(emp_1)\n",
    "print(emp_2)"
   ]
  },
  {
   "cell_type": "code",
   "execution_count": null,
   "id": "d1599952-b4e0-466b-8356-4d4c2b95fbb1",
   "metadata": {},
   "outputs": [],
   "source": []
  },
  {
   "cell_type": "code",
   "execution_count": 16,
   "id": "a701c5d2-254e-4fb7-aacc-1fdefb4edee1",
   "metadata": {},
   "outputs": [
    {
     "name": "stdout",
     "output_type": "stream",
     "text": [
      "adams.labaran@clarck.edu\n",
      "isah.labaran@refugee.ng\n"
     ]
    }
   ],
   "source": [
    "# instance variable is a variable contain data that is unique to each instance\n",
    "# creating instance variable for each employee\n",
    "# instnce variable emp_1\n",
    "emp_1.first = \"adams\"\n",
    "emp_1.last = \"labaran\"\n",
    "emp_1.email = \"adams.labaran@clarck.edu\"\n",
    "emp_1.pay = 50000\n",
    "\n",
    "# instnce variable emp_2\n",
    "emp_2.first = \"isah\"\n",
    "emp_2.last = \"labaran\"\n",
    "emp_2.email = \"isah.labaran@refugee.ng\"\n",
    "emp_2.pay = 60000\n",
    "\n",
    "# each of the above instances have an attribute that is unique to them\n",
    "\n",
    "print(emp_1.email)\n",
    "print(emp_2.email)\n"
   ]
  },
  {
   "cell_type": "code",
   "execution_count": 24,
   "id": "0dcaa68a-c83c-40eb-93ca-28e84f75b67b",
   "metadata": {},
   "outputs": [
    {
     "name": "stdout",
     "output_type": "stream",
     "text": [
      "adams labaran\n",
      "adams.labaran@clark.edu\n",
      "isah.labaran@clark.edu\n"
     ]
    }
   ],
   "source": [
    "# by using special __init__ method to avoid repetition of instance variable\n",
    "\n",
    "class Employee:\n",
    "    # self is the instance (emp_1.first or emp_2.first)\n",
    "    # self, arg1, arg2, ....\n",
    "    def __init__(self, first, last, pay):\n",
    "        self.first = first\n",
    "        self.last = last\n",
    "        self.pay = pay\n",
    "        self.email = first + '.' + last + '@clark.edu'\n",
    "\n",
    "    # instead of typing '{} {}'.format(emp_1.first, emp_1.last) each time to display employee full name\n",
    "    # instead creat a method within a class that will to put the functionality in one place.\n",
    "    def fullname(self):\n",
    "        return '{} {}'.format(self.first, self.last)\n",
    "\n",
    "emp_1 = Employee('adams', 'labaran', 50000) # instead of instantiating a variable\n",
    "emp_2 = Employee('isah', 'labaran', 60000)\n",
    "\n",
    "\n",
    "# displaing employee full name\n",
    "print(emp_1.fullname())\n",
    "# print('{} {}'.format(emp_1.first, emp_1.last))\n",
    "# print('{} {}'.format(emp_2.first, emp_2.last))\n",
    "\n",
    "# instead of typing '{} {}'.format(emp_1.first, emp_1.last) each time to display employee full name\n",
    "# instead creat a method within a class that will to put the functionality in one place.\n",
    "\n",
    "\n",
    "# displaying employee email.\n",
    "print(emp_1.email)\n",
    "print(emp_2.email)\n"
   ]
  },
  {
   "cell_type": "code",
   "execution_count": null,
   "id": "038978ca-d0ae-4e67-bf09-09ef687103a7",
   "metadata": {},
   "outputs": [],
   "source": []
  },
  {
   "cell_type": "code",
   "execution_count": 32,
   "id": "7d55dfbf-8beb-42e2-8542-48a8121d67dd",
   "metadata": {},
   "outputs": [
    {
     "name": "stdout",
     "output_type": "stream",
     "text": [
      "displaying isntance variable:  adams labaran\n",
      "displaying class variable:  adams labaran\n"
     ]
    }
   ],
   "source": [
    "# instance variable: emp_1.fullname()\n",
    "print('displaying isntance variable: ', emp_1.fullname())\n",
    "\n",
    "\n",
    "# class variable:  Employee.fullname(emp_1)\n",
    "print('displaying class variable: ', Employee.fullname(emp_1))"
   ]
  },
  {
   "cell_type": "code",
   "execution_count": null,
   "id": "e1c98000-6687-4e5b-be3d-c217ce859bb5",
   "metadata": {},
   "outputs": [],
   "source": [
    "# tutorials: coreyMS.com"
   ]
  },
  {
   "cell_type": "code",
   "execution_count": null,
   "id": "53fc7777-e6ac-4572-8051-310dc4e1a58b",
   "metadata": {},
   "outputs": [],
   "source": []
  },
  {
   "cell_type": "code",
   "execution_count": null,
   "id": "91a88456-778f-45c3-b840-fc8c2f7563ff",
   "metadata": {},
   "outputs": [],
   "source": []
  },
  {
   "cell_type": "code",
   "execution_count": null,
   "id": "fbbdcf98-b420-46dd-a235-70bde58236f1",
   "metadata": {},
   "outputs": [],
   "source": []
  },
  {
   "cell_type": "code",
   "execution_count": null,
   "id": "0f29799a-4305-4e61-b4d0-2a5d811b68dd",
   "metadata": {},
   "outputs": [],
   "source": []
  },
  {
   "cell_type": "code",
   "execution_count": null,
   "id": "9994cfc3-66f4-4f0c-94b8-0aea3b066e89",
   "metadata": {},
   "outputs": [],
   "source": []
  },
  {
   "cell_type": "code",
   "execution_count": null,
   "id": "3afcf0f7-bf19-4292-8225-481eb00f72a5",
   "metadata": {},
   "outputs": [],
   "source": []
  },
  {
   "cell_type": "code",
   "execution_count": null,
   "id": "0ceb298f-74c2-4b88-b2ef-b04e705f0075",
   "metadata": {},
   "outputs": [],
   "source": []
  },
  {
   "cell_type": "code",
   "execution_count": null,
   "id": "6ca801f9-cd59-4d8c-aa35-57c181692b2c",
   "metadata": {},
   "outputs": [],
   "source": []
  },
  {
   "cell_type": "code",
   "execution_count": null,
   "id": "6bde441e-3b84-4664-bc7a-9c2f7d6dfa5c",
   "metadata": {},
   "outputs": [],
   "source": []
  },
  {
   "cell_type": "code",
   "execution_count": null,
   "id": "baeb7162-9244-4957-a7f3-8ab5a2a9f9fc",
   "metadata": {},
   "outputs": [],
   "source": []
  },
  {
   "cell_type": "code",
   "execution_count": null,
   "id": "1b39d691-f183-455e-8e42-2b7f179a2aef",
   "metadata": {},
   "outputs": [],
   "source": []
  },
  {
   "cell_type": "code",
   "execution_count": null,
   "id": "f43f31f6-62ed-416c-a041-db12fe55e2fb",
   "metadata": {},
   "outputs": [],
   "source": []
  },
  {
   "cell_type": "code",
   "execution_count": null,
   "id": "624041f4-528d-45c9-8757-fe36638d8b2d",
   "metadata": {},
   "outputs": [],
   "source": []
  },
  {
   "cell_type": "code",
   "execution_count": null,
   "id": "ba8bb678-83ba-47e0-bda7-a1d6cbca4e1c",
   "metadata": {},
   "outputs": [],
   "source": []
  },
  {
   "cell_type": "code",
   "execution_count": null,
   "id": "b917e45c-8178-41a3-aa22-49e9eac42d5d",
   "metadata": {},
   "outputs": [],
   "source": []
  },
  {
   "cell_type": "code",
   "execution_count": null,
   "id": "80127540-d7a8-400c-8828-97b33b37c4d5",
   "metadata": {},
   "outputs": [],
   "source": []
  },
  {
   "cell_type": "code",
   "execution_count": null,
   "id": "e1031f5c-c736-4b80-95f7-8fe28608b491",
   "metadata": {},
   "outputs": [],
   "source": []
  },
  {
   "cell_type": "code",
   "execution_count": null,
   "id": "4b362bf5-d7a3-4f33-aab4-71de0956faf6",
   "metadata": {},
   "outputs": [],
   "source": []
  },
  {
   "cell_type": "code",
   "execution_count": null,
   "id": "a08d187e-1419-4c63-8c0f-f402e5adc468",
   "metadata": {},
   "outputs": [],
   "source": []
  },
  {
   "cell_type": "code",
   "execution_count": null,
   "id": "05d04ff4-3a64-42eb-a83a-cc3dfe770f88",
   "metadata": {},
   "outputs": [],
   "source": []
  },
  {
   "cell_type": "code",
   "execution_count": null,
   "id": "81d35c9b-f04f-4cc4-8155-04641fcc03c9",
   "metadata": {},
   "outputs": [],
   "source": []
  },
  {
   "cell_type": "code",
   "execution_count": null,
   "id": "40146932-4b86-4c9e-a66d-0534e4891b1b",
   "metadata": {},
   "outputs": [],
   "source": []
  },
  {
   "cell_type": "code",
   "execution_count": null,
   "id": "28191d1e-2a68-4524-862c-69aebbf8c13b",
   "metadata": {},
   "outputs": [],
   "source": []
  },
  {
   "cell_type": "code",
   "execution_count": null,
   "id": "23e8aeb7-e4fc-4b61-939c-68af9244a948",
   "metadata": {},
   "outputs": [],
   "source": []
  },
  {
   "cell_type": "code",
   "execution_count": null,
   "id": "0f9673cd-36a4-4f38-a6d6-5fd4b550c192",
   "metadata": {},
   "outputs": [],
   "source": []
  },
  {
   "cell_type": "code",
   "execution_count": null,
   "id": "ac921fb6-10ac-48e1-9496-d54d9792cb55",
   "metadata": {},
   "outputs": [],
   "source": []
  },
  {
   "cell_type": "code",
   "execution_count": null,
   "id": "e7260cd5-b5d2-4713-be98-220cbf3456f3",
   "metadata": {},
   "outputs": [],
   "source": []
  },
  {
   "cell_type": "code",
   "execution_count": null,
   "id": "d1c4a80c-4c5f-4ca4-805b-a526839d4b6b",
   "metadata": {},
   "outputs": [],
   "source": []
  },
  {
   "cell_type": "code",
   "execution_count": null,
   "id": "2372ed74-1dbf-4447-ac30-006cc8a10190",
   "metadata": {},
   "outputs": [],
   "source": []
  },
  {
   "cell_type": "code",
   "execution_count": null,
   "id": "9bbfb111-8745-446c-8bce-09be9b3d15ea",
   "metadata": {},
   "outputs": [],
   "source": []
  },
  {
   "cell_type": "code",
   "execution_count": null,
   "id": "02f2cd88-08c0-4cc1-9e22-22c9814ff897",
   "metadata": {},
   "outputs": [],
   "source": []
  },
  {
   "cell_type": "code",
   "execution_count": null,
   "id": "b867e342-6e0d-42d4-a2ea-7ac7a37bd2ac",
   "metadata": {},
   "outputs": [],
   "source": []
  },
  {
   "cell_type": "code",
   "execution_count": null,
   "id": "ea1d2cce-22fe-4677-9bec-f53f921cf30b",
   "metadata": {},
   "outputs": [],
   "source": []
  },
  {
   "cell_type": "code",
   "execution_count": null,
   "id": "b76ef04f-4b37-40e6-99ae-8b6f3fe0fb1e",
   "metadata": {},
   "outputs": [],
   "source": []
  },
  {
   "cell_type": "code",
   "execution_count": null,
   "id": "0fb61713-af51-43a4-ac2e-545b28fc5a4b",
   "metadata": {},
   "outputs": [],
   "source": []
  },
  {
   "cell_type": "code",
   "execution_count": null,
   "id": "c612d011-9971-4e26-8f07-56c2b28d80fd",
   "metadata": {},
   "outputs": [],
   "source": []
  },
  {
   "cell_type": "code",
   "execution_count": null,
   "id": "28213051-2a55-4a5f-bc87-a2df0d48974f",
   "metadata": {},
   "outputs": [],
   "source": []
  },
  {
   "cell_type": "code",
   "execution_count": null,
   "id": "f2ec27a0-af36-4aa8-8532-1a81ee5fa03e",
   "metadata": {},
   "outputs": [],
   "source": []
  },
  {
   "cell_type": "code",
   "execution_count": null,
   "id": "15bfdb6e-633a-4b3d-b662-f68384ca2520",
   "metadata": {},
   "outputs": [],
   "source": []
  },
  {
   "cell_type": "code",
   "execution_count": null,
   "id": "cf8462a5-3926-47a0-9421-0c52022219f8",
   "metadata": {},
   "outputs": [],
   "source": [
    "\n"
   ]
  }
 ],
 "metadata": {
  "kernelspec": {
   "display_name": "onecampusenv",
   "language": "python",
   "name": "onecampusenv"
  },
  "language_info": {
   "codemirror_mode": {
    "name": "ipython",
    "version": 3
   },
   "file_extension": ".py",
   "mimetype": "text/x-python",
   "name": "python",
   "nbconvert_exporter": "python",
   "pygments_lexer": "ipython3",
   "version": "3.11.3"
  }
 },
 "nbformat": 4,
 "nbformat_minor": 5
}
