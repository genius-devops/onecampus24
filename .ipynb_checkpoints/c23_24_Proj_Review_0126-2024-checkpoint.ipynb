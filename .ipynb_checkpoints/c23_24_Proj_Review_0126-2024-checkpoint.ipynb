{
 "cells": [
  {
   "cell_type": "code",
   "execution_count": 1,
   "id": "d6c15fc8",
   "metadata": {},
   "outputs": [],
   "source": [
    "# Computations"
   ]
  },
  {
   "cell_type": "code",
   "execution_count": null,
   "id": "31548f6d",
   "metadata": {},
   "outputs": [],
   "source": [
    "# The concept of a Calculator"
   ]
  },
  {
   "cell_type": "code",
   "execution_count": null,
   "id": "62daf4b8",
   "metadata": {},
   "outputs": [],
   "source": []
  },
  {
   "cell_type": "code",
   "execution_count": 19,
   "id": "ce4edc89",
   "metadata": {},
   "outputs": [],
   "source": [
    "# Building the calculator as a function\n",
    "\n",
    "# Example 1 using a function that does not receive input parameters when called\n",
    "\n",
    "def Calculator():\n",
    "    \n",
    "    # Receieve user input\n",
    "    func = input('specify the computation type: m--> Multiplication')\n",
    "    val1 = input('provide the first value')\n",
    "    val2 = input('provide the second value')\n",
    "    \n",
    "    # convert all numeric inputs to float\n",
    "    val1 = float(val1)\n",
    "    val2 = float(val2)\n",
    "    if func == 'm' or func == 'M' or func == 'Multiplication' or func[0] == 'm':\n",
    "        \n",
    "        compVal = val1 * val2\n",
    "        print(compVal)\n",
    "    else:\n",
    "        print('check your inputs and func spelling')\n",
    "        Calculator()\n",
    "   \n",
    "    \n"
   ]
  },
  {
   "cell_type": "code",
   "execution_count": null,
   "id": "b7c00019",
   "metadata": {},
   "outputs": [],
   "source": []
  },
  {
   "cell_type": "code",
   "execution_count": 12,
   "id": "b2c8e4b4",
   "metadata": {},
   "outputs": [],
   "source": [
    "func = 'multiplcasionnn'  # string"
   ]
  },
  {
   "cell_type": "code",
   "execution_count": 14,
   "id": "4d13f241",
   "metadata": {},
   "outputs": [
    {
     "data": {
      "text/plain": [
       "'a'"
      ]
     },
     "execution_count": 14,
     "metadata": {},
     "output_type": "execute_result"
    }
   ],
   "source": [
    "func[1]"
   ]
  },
  {
   "cell_type": "code",
   "execution_count": 28,
   "id": "db84a731",
   "metadata": {},
   "outputs": [],
   "source": [
    "def Calculator2(val1, val2,func):\n",
    "    compVal = ''\n",
    "    if func =='Add':\n",
    "        compVal = val1 + val2\n",
    "    elif func == 'Div':\n",
    "        compVal = val1 / val2\n",
    "        \n",
    "    else:\n",
    "        print('unknown operator')\n",
    "    \n",
    "    print(compVal)\n"
   ]
  },
  {
   "cell_type": "code",
   "execution_count": 29,
   "id": "05fd3770",
   "metadata": {},
   "outputs": [
    {
     "name": "stdout",
     "output_type": "stream",
     "text": [
      "unknown operator\n",
      "\n"
     ]
    }
   ],
   "source": [
    "num1 = 30\n",
    "num2 = 20\n",
    "opr = 'Sub'\n",
    "\n",
    "Calculator2(num1, num2,opr)"
   ]
  },
  {
   "cell_type": "code",
   "execution_count": null,
   "id": "d4dff72e",
   "metadata": {},
   "outputs": [],
   "source": []
  },
  {
   "cell_type": "code",
   "execution_count": 18,
   "id": "f5a4c66a",
   "metadata": {},
   "outputs": [],
   "source": [
    "# Building the calculator as a function\n",
    "\n",
    "# Example 1 using a functin that does not recieve input parameters when called\n",
    "\n",
    "def Calculator4():\n",
    "    calcFeatures = \"\"\" This caluculator cam carry out the following operations:\n",
    "    1. Multiplication: To mulitply , please specify 'M' or 1\n",
    "    2. Addition: to get the sum of values please specify 'A' or 2\n",
    "    3. Square of Value: to get the square of a vule pleas specify 'Sq' or 3\n",
    "    \"\"\"\n",
    "    print(calcFeatures)\n",
    "    # Recieve user intenet and input\n",
    "    opr = input('specify operation: M or 1, A or 2, SQ or 3')\n",
    "    \n",
    "    if opr == 'M' or opr == '1':\n",
    "        print('ready to execute multiplication. provide input values')\n",
    "        vals = input('specify input values seperated by comma')\n",
    "        valComponents = vals.split(',')\n",
    "        print(f'you provided  {len(valComponents)} values for computation')\n",
    "        numVals = [float(x.strip()) for x in valComponents]\n",
    "        print(numVals)\n",
    "        \n",
    "        res = 1\n",
    "        for val in numVals:\n",
    "            res = res*val \n",
    "        print(res)\n",
    "\n",
    "    elif opr == 'A' or opr == '2':\n",
    "        print('ready to execute Addition. provide input values')\n",
    "        vals = input('specify input values seperated by comma')\n",
    "\n",
    "        valComponents = vals.split(',')\n",
    "        print(f'you provided  {len(valComponents)} values for computation')\n",
    "        numVals = [float(x.strip()) for x in valComponents]\n",
    "        print(numVals)\n",
    "        res = sum(numVals)            \n",
    "        print(res)\n",
    "        \n",
    "        \n",
    "    elif opr == 'SQ' or opr == '3':\n",
    "        print('ready to find the square of a value. provide a SINGLE value')\n",
    "        vals = input('provide a SINGLE value')\n",
    "        if ',' in vals:\n",
    "            print('please provide a single number to square')\n",
    "            Calculator4()\n",
    "        else:\n",
    "            vals = vals.strip()\n",
    "            vals = float(vals)\n",
    "            sqVal = vals * vals\n",
    "\n",
    "            print(sqVal)\n",
    "    else:\n",
    "        print('operation unknown')\n",
    "        \n",
    "        \n",
    "\n",
    "   "
   ]
  },
  {
   "cell_type": "code",
   "execution_count": 19,
   "id": "262a6546",
   "metadata": {},
   "outputs": [
    {
     "name": "stdout",
     "output_type": "stream",
     "text": [
      " This caluculator cam carry out the following operations:\n",
      "    1. Multiplication: To mulitply , please specify 'M' or 1\n",
      "    2. Addition: to get the sum of values please specify 'A' or 2\n",
      "    3. Square of Value: to get the square of a vule pleas specify 'Sq' or 3\n",
      "    \n",
      "ready to execute multiplication. provide input values\n",
      "you provided  3 values for computation\n",
      "[2.0, 2.0, 2.0]\n",
      "8.0\n"
     ]
    }
   ],
   "source": [
    "Calculator4()\n"
   ]
  },
  {
   "cell_type": "code",
   "execution_count": 13,
   "id": "2b2f3590",
   "metadata": {},
   "outputs": [
    {
     "data": {
      "text/plain": [
       "str"
      ]
     },
     "execution_count": 13,
     "metadata": {},
     "output_type": "execute_result"
    }
   ],
   "source": [
    "x = '23 34 56 78'\n",
    "type(x)"
   ]
  },
  {
   "cell_type": "code",
   "execution_count": 14,
   "id": "d57fd365",
   "metadata": {},
   "outputs": [
    {
     "data": {
      "text/plain": [
       "str"
      ]
     },
     "execution_count": 14,
     "metadata": {},
     "output_type": "execute_result"
    }
   ],
   "source": [
    "x.split(' ')\n",
    "type(x)"
   ]
  },
  {
   "cell_type": "code",
   "execution_count": 15,
   "id": "c7dbe218",
   "metadata": {},
   "outputs": [
    {
     "data": {
      "text/plain": [
       "list"
      ]
     },
     "execution_count": 15,
     "metadata": {},
     "output_type": "execute_result"
    }
   ],
   "source": [
    "j =x.split(',')\n",
    "type(j)"
   ]
  },
  {
   "cell_type": "code",
   "execution_count": 5,
   "id": "a9e8e6d7",
   "metadata": {},
   "outputs": [
    {
     "data": {
      "text/plain": [
       "'23 34 56 78'"
      ]
     },
     "execution_count": 5,
     "metadata": {},
     "output_type": "execute_result"
    }
   ],
   "source": [
    "j[0]"
   ]
  },
  {
   "cell_type": "code",
   "execution_count": 16,
   "id": "fcfde3b4",
   "metadata": {},
   "outputs": [
    {
     "data": {
      "text/plain": [
       "str"
      ]
     },
     "execution_count": 16,
     "metadata": {},
     "output_type": "execute_result"
    }
   ],
   "source": [
    "z = x.strip()\n",
    "type(z)"
   ]
  },
  {
   "cell_type": "code",
   "execution_count": 12,
   "id": "51508f1b",
   "metadata": {},
   "outputs": [
    {
     "name": "stdout",
     "output_type": "stream",
     "text": [
      "<class 'list'>\n"
     ]
    }
   ],
   "source": [
    "z\n",
    "j\n",
    "print(type(j))"
   ]
  },
  {
   "cell_type": "code",
   "execution_count": 61,
   "id": "1f85664e",
   "metadata": {},
   "outputs": [
    {
     "ename": "SyntaxError",
     "evalue": "invalid syntax (3986046240.py, line 3)",
     "output_type": "error",
     "traceback": [
      "\u001b[1;36m  Cell \u001b[1;32mIn[61], line 3\u001b[1;36m\u001b[0m\n\u001b[1;33m    [(j+=x) for x in xx]\u001b[0m\n\u001b[1;37m       ^\u001b[0m\n\u001b[1;31mSyntaxError\u001b[0m\u001b[1;31m:\u001b[0m invalid syntax\n"
     ]
    }
   ],
   "source": [
    "xx = [2,3,4,5]\n",
    "j = 0\n",
    "[(j+=x) for x in xx]"
   ]
  },
  {
   "cell_type": "code",
   "execution_count": 62,
   "id": "b3d06e04",
   "metadata": {},
   "outputs": [
    {
     "ename": "SyntaxError",
     "evalue": "invalid syntax (2721423145.py, line 4)",
     "output_type": "error",
     "traceback": [
      "\u001b[1;36m  Cell \u001b[1;32mIn[62], line 4\u001b[1;36m\u001b[0m\n\u001b[1;33m    j = x+=y\u001b[0m\n\u001b[1;37m         ^\u001b[0m\n\u001b[1;31mSyntaxError\u001b[0m\u001b[1;31m:\u001b[0m invalid syntax\n"
     ]
    }
   ],
   "source": [
    "x = 1\n",
    "y =2\n",
    "\n",
    "j = x+=y"
   ]
  },
  {
   "cell_type": "code",
   "execution_count": 73,
   "id": "feb4c548",
   "metadata": {},
   "outputs": [
    {
     "data": {
      "text/plain": [
       "[4, 9, 16]"
      ]
     },
     "execution_count": 73,
     "metadata": {},
     "output_type": "execute_result"
    }
   ],
   "source": [
    "j = [2,3,4]\n",
    "[x*x for x in j]"
   ]
  },
  {
   "cell_type": "code",
   "execution_count": 70,
   "id": "3007c81a",
   "metadata": {},
   "outputs": [
    {
     "data": {
      "text/plain": [
       "4"
      ]
     },
     "execution_count": 70,
     "metadata": {},
     "output_type": "execute_result"
    }
   ],
   "source": [
    "x"
   ]
  },
  {
   "cell_type": "code",
   "execution_count": 71,
   "id": "ffcb032b",
   "metadata": {},
   "outputs": [
    {
     "data": {
      "text/plain": [
       "[2, 3]"
      ]
     },
     "execution_count": 71,
     "metadata": {},
     "output_type": "execute_result"
    }
   ],
   "source": [
    "j"
   ]
  },
  {
   "cell_type": "code",
   "execution_count": 79,
   "id": "6cbb9712",
   "metadata": {},
   "outputs": [
    {
     "name": "stdout",
     "output_type": "stream",
     "text": [
      "1000\n"
     ]
    }
   ],
   "source": [
    "x = [10,10,10]\n",
    "\n",
    "\n",
    "j = 1\n",
    "\n",
    "for val in x:\n",
    "    j = j*val\n",
    "    \n",
    "print(j)\n",
    "\n",
    "\n"
   ]
  },
  {
   "cell_type": "code",
   "execution_count": 80,
   "id": "acbd99b4",
   "metadata": {},
   "outputs": [],
   "source": [
    "x = [10,5,8,2]\n",
    "\n"
   ]
  },
  {
   "cell_type": "code",
   "execution_count": 84,
   "id": "50f78efa",
   "metadata": {},
   "outputs": [
    {
     "name": "stdout",
     "output_type": "stream",
     "text": [
      "10\n"
     ]
    }
   ],
   "source": [
    "print(x.pop())"
   ]
  },
  {
   "cell_type": "code",
   "execution_count": 90,
   "id": "70d1485a",
   "metadata": {},
   "outputs": [
    {
     "data": {
      "text/plain": [
       "14"
      ]
     },
     "execution_count": 90,
     "metadata": {},
     "output_type": "execute_result"
    }
   ],
   "source": [
    "x = [2,3,4,5]\n",
    "sum(x)"
   ]
  },
  {
   "cell_type": "code",
   "execution_count": 104,
   "id": "a2cea387",
   "metadata": {},
   "outputs": [
    {
     "data": {
      "text/plain": [
       "[8, 10, 14, 18, 6]"
      ]
     },
     "execution_count": 104,
     "metadata": {},
     "output_type": "execute_result"
    }
   ],
   "source": [
    "list1 = [4,5,7,9,3]\n",
    "\n",
    "[x*2 for x in list1]"
   ]
  },
  {
   "cell_type": "code",
   "execution_count": 105,
   "id": "af65a59e",
   "metadata": {},
   "outputs": [
    {
     "name": "stdout",
     "output_type": "stream",
     "text": [
      "[8, 10, 14, 18, 6]\n"
     ]
    }
   ],
   "source": [
    "xList = []\n",
    "for x in list1:\n",
    "    xList.append(x*2)\n",
    "print(xList)"
   ]
  },
  {
   "cell_type": "code",
   "execution_count": 106,
   "id": "b59e3690",
   "metadata": {},
   "outputs": [
    {
     "ename": "SyntaxError",
     "evalue": "invalid syntax (3451071789.py, line 3)",
     "output_type": "error",
     "traceback": [
      "\u001b[1;36m  Cell \u001b[1;32mIn[106], line 3\u001b[1;36m\u001b[0m\n\u001b[1;33m    j = 5x +2c\u001b[0m\n\u001b[1;37m         ^\u001b[0m\n\u001b[1;31mSyntaxError\u001b[0m\u001b[1;31m:\u001b[0m invalid syntax\n"
     ]
    }
   ],
   "source": [
    "# complex number\n",
    "\n",
    "j = 5x +2c"
   ]
  },
  {
   "cell_type": "code",
   "execution_count": null,
   "id": "6082f544",
   "metadata": {},
   "outputs": [],
   "source": []
  },
  {
   "cell_type": "code",
   "execution_count": 112,
   "id": "12cb1cc8",
   "metadata": {},
   "outputs": [],
   "source": [
    "def testFunc(x, y):\n",
    "    j = x*y\n",
    "    \n",
    "    print(j)\n",
    "    #return j\n"
   ]
  },
  {
   "cell_type": "code",
   "execution_count": 113,
   "id": "b99da95a",
   "metadata": {},
   "outputs": [
    {
     "name": "stdout",
     "output_type": "stream",
     "text": [
      "20\n"
     ]
    }
   ],
   "source": [
    "testFunc(4,5)"
   ]
  },
  {
   "cell_type": "code",
   "execution_count": 114,
   "id": "dd32879a",
   "metadata": {},
   "outputs": [
    {
     "name": "stdout",
     "output_type": "stream",
     "text": [
      "20\n"
     ]
    },
    {
     "ename": "TypeError",
     "evalue": "unsupported operand type(s) for *: 'int' and 'NoneType'",
     "output_type": "error",
     "traceback": [
      "\u001b[1;31m---------------------------------------------------------------------------\u001b[0m",
      "\u001b[1;31mTypeError\u001b[0m                                 Traceback (most recent call last)",
      "Cell \u001b[1;32mIn[114], line 1\u001b[0m\n\u001b[1;32m----> 1\u001b[0m f \u001b[38;5;241m=\u001b[39m \u001b[38;5;241;43m2\u001b[39;49m\u001b[43m \u001b[49m\u001b[38;5;241;43m*\u001b[39;49m\u001b[43m \u001b[49m\u001b[43mtestFunc\u001b[49m\u001b[43m(\u001b[49m\u001b[38;5;241;43m4\u001b[39;49m\u001b[43m,\u001b[49m\u001b[38;5;241;43m5\u001b[39;49m\u001b[43m)\u001b[49m\n",
      "\u001b[1;31mTypeError\u001b[0m: unsupported operand type(s) for *: 'int' and 'NoneType'"
     ]
    }
   ],
   "source": [
    "f = 2 * testFunc(4,5)"
   ]
  },
  {
   "cell_type": "code",
   "execution_count": 111,
   "id": "953bfe1c",
   "metadata": {},
   "outputs": [
    {
     "data": {
      "text/plain": [
       "40"
      ]
     },
     "execution_count": 111,
     "metadata": {},
     "output_type": "execute_result"
    }
   ],
   "source": [
    "f"
   ]
  },
  {
   "cell_type": "code",
   "execution_count": null,
   "id": "6e3a0ed3",
   "metadata": {},
   "outputs": [],
   "source": []
  }
 ],
 "metadata": {
  "kernelspec": {
   "display_name": "Python 3 (ipykernel)",
   "language": "python",
   "name": "python3"
  },
  "language_info": {
   "codemirror_mode": {
    "name": "ipython",
    "version": 3
   },
   "file_extension": ".py",
   "mimetype": "text/x-python",
   "name": "python",
   "nbconvert_exporter": "python",
   "pygments_lexer": "ipython3",
   "version": "3.11.3"
  }
 },
 "nbformat": 4,
 "nbformat_minor": 5
}
