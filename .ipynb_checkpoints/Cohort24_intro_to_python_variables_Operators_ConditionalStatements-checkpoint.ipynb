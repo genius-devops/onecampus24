{
 "cells": [
  {
   "cell_type": "code",
   "execution_count": 4,
   "id": "506bf67f",
   "metadata": {},
   "outputs": [],
   "source": [
    "x = 5\n",
    "y = 7\n",
    "\n",
    "j = x*y"
   ]
  },
  {
   "cell_type": "code",
   "execution_count": 5,
   "id": "4a240a78",
   "metadata": {},
   "outputs": [
    {
     "name": "stdout",
     "output_type": "stream",
     "text": [
      "35\n"
     ]
    }
   ],
   "source": [
    "print(j)"
   ]
  },
  {
   "cell_type": "code",
   "execution_count": null,
   "id": "2e7019e8",
   "metadata": {},
   "outputs": [],
   "source": []
  },
  {
   "cell_type": "code",
   "execution_count": 6,
   "id": "77b844f7",
   "metadata": {},
   "outputs": [],
   "source": [
    "name = 'Nnenna'  #string\n",
    "\n",
    "age = 27"
   ]
  },
  {
   "cell_type": "code",
   "execution_count": 7,
   "id": "e44b44b3",
   "metadata": {},
   "outputs": [
    {
     "name": "stdout",
     "output_type": "stream",
     "text": [
      "27\n"
     ]
    }
   ],
   "source": [
    "print(age)"
   ]
  },
  {
   "cell_type": "markdown",
   "id": "bb001761",
   "metadata": {},
   "source": [
    "# Intro to Python"
   ]
  },
  {
   "cell_type": "code",
   "execution_count": 8,
   "id": "afd4806c",
   "metadata": {},
   "outputs": [],
   "source": [
    "name = 'Timothy'\n",
    "name2 = 'timothy'"
   ]
  },
  {
   "cell_type": "code",
   "execution_count": 9,
   "id": "4bb7843b",
   "metadata": {},
   "outputs": [
    {
     "data": {
      "text/plain": [
       "False"
      ]
     },
     "execution_count": 9,
     "metadata": {},
     "output_type": "execute_result"
    }
   ],
   "source": [
    "name == name2"
   ]
  },
  {
   "cell_type": "code",
   "execution_count": null,
   "id": "2c5a76cf",
   "metadata": {},
   "outputs": [],
   "source": [
    "# Variables\n",
    "# Variable types\n",
    "# Operators\n",
    "# How to write comments\n",
    "\n",
    "# Python Expressions"
   ]
  },
  {
   "cell_type": "code",
   "execution_count": null,
   "id": "f8f0ea29",
   "metadata": {},
   "outputs": [],
   "source": [
    "Scenario1\n",
    "# Timothy if my friend. He is 30 years old and earns $2000"
   ]
  },
  {
   "cell_type": "code",
   "execution_count": null,
   "id": "1cfd6750",
   "metadata": {},
   "outputs": [],
   "source": [
    "# TAssk: convert the scenario to code in python"
   ]
  },
  {
   "cell_type": "code",
   "execution_count": 12,
   "id": "15fce5f5",
   "metadata": {},
   "outputs": [],
   "source": [
    "name = \"Timothy\"\n",
    "age = 30\n",
    "income = 2000"
   ]
  },
  {
   "cell_type": "code",
   "execution_count": 13,
   "id": "25a92dab",
   "metadata": {},
   "outputs": [
    {
     "data": {
      "text/plain": [
       "'Timothy'"
      ]
     },
     "execution_count": 13,
     "metadata": {},
     "output_type": "execute_result"
    }
   ],
   "source": [
    "name"
   ]
  },
  {
   "cell_type": "code",
   "execution_count": 14,
   "id": "41d2eccd",
   "metadata": {},
   "outputs": [
    {
     "name": "stdout",
     "output_type": "stream",
     "text": [
      "Timothy\n"
     ]
    }
   ],
   "source": [
    "print(name)"
   ]
  },
  {
   "cell_type": "code",
   "execution_count": 15,
   "id": "30448e5e",
   "metadata": {},
   "outputs": [
    {
     "name": "stdout",
     "output_type": "stream",
     "text": [
      "30\n"
     ]
    }
   ],
   "source": [
    "print(age)"
   ]
  },
  {
   "cell_type": "code",
   "execution_count": 19,
   "id": "da7eeb0a",
   "metadata": {},
   "outputs": [
    {
     "ename": "NameError",
     "evalue": "name 'Income' is not defined",
     "output_type": "error",
     "traceback": [
      "\u001b[1;31m---------------------------------------------------------------------------\u001b[0m",
      "\u001b[1;31mNameError\u001b[0m                                 Traceback (most recent call last)",
      "\u001b[1;32m~\\AppData\\Local\\Temp\\ipykernel_111860\\1902992472.py\u001b[0m in \u001b[0;36m<module>\u001b[1;34m\u001b[0m\n\u001b[1;32m----> 1\u001b[1;33m \u001b[0mprint\u001b[0m\u001b[1;33m(\u001b[0m\u001b[0mIncome\u001b[0m\u001b[1;33m)\u001b[0m\u001b[1;33m\u001b[0m\u001b[1;33m\u001b[0m\u001b[0m\n\u001b[0m",
      "\u001b[1;31mNameError\u001b[0m: name 'Income' is not defined"
     ]
    }
   ],
   "source": [
    "print(Income)"
   ]
  },
  {
   "cell_type": "code",
   "execution_count": 17,
   "id": "d6b757bf",
   "metadata": {},
   "outputs": [
    {
     "data": {
      "text/plain": [
       "60000"
      ]
     },
     "execution_count": 17,
     "metadata": {},
     "output_type": "execute_result"
    }
   ],
   "source": [
    "30 * 2000"
   ]
  },
  {
   "cell_type": "code",
   "execution_count": 18,
   "id": "f815d6d4",
   "metadata": {},
   "outputs": [
    {
     "data": {
      "text/plain": [
       "60000"
      ]
     },
     "execution_count": 18,
     "metadata": {},
     "output_type": "execute_result"
    }
   ],
   "source": [
    "age * income"
   ]
  },
  {
   "cell_type": "code",
   "execution_count": 22,
   "id": "1e25cc6e",
   "metadata": {},
   "outputs": [],
   "source": [
    "name3  = 'Besi`'"
   ]
  },
  {
   "cell_type": "code",
   "execution_count": 23,
   "id": "d35b6fc0",
   "metadata": {},
   "outputs": [
    {
     "name": "stdout",
     "output_type": "stream",
     "text": [
      "Besi`\n"
     ]
    }
   ],
   "source": [
    "print(name3)"
   ]
  },
  {
   "cell_type": "code",
   "execution_count": null,
   "id": "523f6e31",
   "metadata": {},
   "outputs": [],
   "source": [
    "# james is a teacher in St. Joseph College. \n",
    "#He teaches math, phy and chem. He is 45 years old and currently been teaching for 20 yesrs\n",
    "\n",
    "Represent the information using variables"
   ]
  },
  {
   "cell_type": "code",
   "execution_count": null,
   "id": "522aa8f6",
   "metadata": {},
   "outputs": [],
   "source": [
    "teacherName = \"james\"\n",
    "college = \"St. Joseph\"\n",
    "subject1 = 'math'\n",
    "subject2 = 'phy'\n",
    "subject3 = 'chem'\n",
    "teacherAge = 45\n",
    "experience = 20"
   ]
  },
  {
   "cell_type": "code",
   "execution_count": null,
   "id": "3ad3291d",
   "metadata": {},
   "outputs": [],
   "source": [
    "# Rules for Creating variables\n",
    "\n",
    "1. Keep the variable name short and meaningful. It should suggets the value it holds\n",
    "2. Observe a consistent naming convention\n",
    "- Camel case # the first word inthe name is all small case and the first letter of each succeding word is capitaliozed\n",
    "- Snake case # all words in the name are small letters seperated by an underscore\n",
    "\n",
    "3. Always assign values to a variable when craeted"
   ]
  },
  {
   "cell_type": "code",
   "execution_count": null,
   "id": "25f6f129",
   "metadata": {},
   "outputs": [],
   "source": [
    "myname"
   ]
  },
  {
   "cell_type": "code",
   "execution_count": null,
   "id": "5f277326",
   "metadata": {},
   "outputs": [],
   "source": [
    "myName"
   ]
  },
  {
   "cell_type": "code",
   "execution_count": null,
   "id": "979ef355",
   "metadata": {},
   "outputs": [],
   "source": [
    "my_name"
   ]
  },
  {
   "cell_type": "code",
   "execution_count": null,
   "id": "b8d87cad",
   "metadata": {},
   "outputs": [],
   "source": [
    "tName = \"james\"\n",
    "colge = \"St. Joseph\"\n",
    "subj1 = 'math'\n",
    "subj2 = 'phy'\n",
    "subj3 = 'chem'\n",
    "tAge = 45\n",
    "expr = 20"
   ]
  },
  {
   "cell_type": "code",
   "execution_count": null,
   "id": "5fdc99d8",
   "metadata": {},
   "outputs": [],
   "source": [
    "# Exercise:\n",
    "\n",
    "Agatha is the second child in a household of 6 kids. She is the first daughter and attends the All Girls High School in her d\n",
    "district. Every dy she comes to school with a lunchbox containing 10 toffies, 2 muffins, 3 oranges and 2 eggs.\n",
    "She owes her friend Simi the sum of $15 and has promisted to settle it with 5 toffies,  a muffin and an egg.\n",
    "\n",
    "represent these in code using only variables"
   ]
  },
  {
   "cell_type": "code",
   "execution_count": null,
   "id": "1e782f63",
   "metadata": {},
   "outputs": [],
   "source": []
  },
  {
   "cell_type": "code",
   "execution_count": null,
   "id": "562e0d72",
   "metadata": {},
   "outputs": [],
   "source": [
    "# Comments\n",
    "\n",
    "# Single line commenets   STARTS WITH A #\n",
    "\n",
    "# Multiple line comments   STARTS AND ENDS WITH \"\"\"  \"\"\"\n"
   ]
  },
  {
   "cell_type": "code",
   "execution_count": null,
   "id": "e5096d54",
   "metadata": {},
   "outputs": [],
   "source": [
    "# EXAMPLE OF SINGLE LINE COMMENT\n",
    "\n",
    "x  = 7\n",
    "y = 9\n",
    "# we next multiply the variables\n",
    "j = x*y # computing the product of x and y"
   ]
  },
  {
   "cell_type": "code",
   "execution_count": 27,
   "id": "e754823d",
   "metadata": {},
   "outputs": [],
   "source": [
    " # Example of mulple line comments\n",
    "\n",
    "studAge = 30\n",
    "\n",
    "grade = 'A-'\n",
    "\n",
    "\"\"\"\n",
    "Grades are computed usingt he following scale\n",
    "A : 80 to 100\n",
    "B:  70 to 80\n",
    "C: 60 to 70\n",
    "F: below 60\n",
    "\"\"\"\n",
    "\n",
    "studClass = 'SSS1'\n",
    "\n",
    "grdMonth = 'July 2024'"
   ]
  },
  {
   "cell_type": "code",
   "execution_count": 28,
   "id": "7bb7aaa7",
   "metadata": {},
   "outputs": [],
   "source": [
    "text = \"\"\"\n",
    "Grades are computed using the following scale\n",
    "A : 80 to 100\n",
    "B:  70 to 80\n",
    "C: 60 to 70\n",
    "F: below 60\n",
    "\"\"\""
   ]
  },
  {
   "cell_type": "code",
   "execution_count": 29,
   "id": "87af9ae0",
   "metadata": {},
   "outputs": [
    {
     "name": "stdout",
     "output_type": "stream",
     "text": [
      "\n",
      "Grades are computed usingt he following scale\n",
      "A : 80 to 100\n",
      "B:  70 to 80\n",
      "C: 60 to 70\n",
      "F: below 60\n",
      "\n"
     ]
    }
   ],
   "source": [
    "print(text)"
   ]
  },
  {
   "cell_type": "code",
   "execution_count": null,
   "id": "16cf6df0",
   "metadata": {},
   "outputs": [],
   "source": [
    "# Variable types\n",
    "\n",
    "int\n",
    "float\n",
    "string\n",
    "tuple\n",
    "set\n",
    "list\n",
    "dictionary\n"
   ]
  },
  {
   "cell_type": "code",
   "execution_count": 30,
   "id": "2818d59a",
   "metadata": {},
   "outputs": [],
   "source": [
    "# Numerics\n",
    "\n",
    "age = 45"
   ]
  },
  {
   "cell_type": "code",
   "execution_count": 31,
   "id": "d0f8e75d",
   "metadata": {},
   "outputs": [
    {
     "data": {
      "text/plain": [
       "int"
      ]
     },
     "execution_count": 31,
     "metadata": {},
     "output_type": "execute_result"
    }
   ],
   "source": [
    "# check the variable type that age is\n",
    "\n",
    "type(age)"
   ]
  },
  {
   "cell_type": "code",
   "execution_count": 32,
   "id": "b0ed69c4",
   "metadata": {},
   "outputs": [],
   "source": [
    "income = 9876.98"
   ]
  },
  {
   "cell_type": "code",
   "execution_count": 33,
   "id": "4cd1c567",
   "metadata": {},
   "outputs": [
    {
     "data": {
      "text/plain": [
       "float"
      ]
     },
     "execution_count": 33,
     "metadata": {},
     "output_type": "execute_result"
    }
   ],
   "source": [
    "type(income)"
   ]
  },
  {
   "cell_type": "code",
   "execution_count": 34,
   "id": "9d2fa112",
   "metadata": {},
   "outputs": [],
   "source": [
    "myName = 'Korede'"
   ]
  },
  {
   "cell_type": "code",
   "execution_count": 35,
   "id": "78f63d03",
   "metadata": {},
   "outputs": [
    {
     "data": {
      "text/plain": [
       "str"
      ]
     },
     "execution_count": 35,
     "metadata": {},
     "output_type": "execute_result"
    }
   ],
   "source": [
    "type(myName)"
   ]
  },
  {
   "cell_type": "code",
   "execution_count": null,
   "id": "7cb88812",
   "metadata": {},
   "outputs": [],
   "source": [
    "# Type Casting\n",
    "\n",
    "This allows us to convert one data type to another"
   ]
  },
  {
   "cell_type": "code",
   "execution_count": 37,
   "id": "3c7b1deb",
   "metadata": {},
   "outputs": [
    {
     "data": {
      "text/plain": [
       "float"
      ]
     },
     "execution_count": 37,
     "metadata": {},
     "output_type": "execute_result"
    }
   ],
   "source": [
    "income = 688.90\n",
    "type(income)"
   ]
  },
  {
   "cell_type": "code",
   "execution_count": 38,
   "id": "e14b04c5",
   "metadata": {},
   "outputs": [
    {
     "data": {
      "text/plain": [
       "int"
      ]
     },
     "execution_count": 38,
     "metadata": {},
     "output_type": "execute_result"
    }
   ],
   "source": [
    "# casting income to an integer\n",
    "\n",
    "income2 = int(income)\n",
    "type(income2)"
   ]
  },
  {
   "cell_type": "code",
   "execution_count": 39,
   "id": "4563aa0c",
   "metadata": {},
   "outputs": [
    {
     "data": {
      "text/plain": [
       "688"
      ]
     },
     "execution_count": 39,
     "metadata": {},
     "output_type": "execute_result"
    }
   ],
   "source": [
    "income2"
   ]
  },
  {
   "cell_type": "code",
   "execution_count": 40,
   "id": "0b02b25c",
   "metadata": {},
   "outputs": [],
   "source": [
    "# a number can be expressed as a string\n",
    "\n",
    "height = \"7.78\""
   ]
  },
  {
   "cell_type": "code",
   "execution_count": 41,
   "id": "34836397",
   "metadata": {},
   "outputs": [
    {
     "data": {
      "text/plain": [
       "str"
      ]
     },
     "execution_count": 41,
     "metadata": {},
     "output_type": "execute_result"
    }
   ],
   "source": [
    "type(height)"
   ]
  },
  {
   "cell_type": "code",
   "execution_count": 42,
   "id": "62669867",
   "metadata": {},
   "outputs": [],
   "source": [
    "height2 = float(height)"
   ]
  },
  {
   "cell_type": "code",
   "execution_count": 43,
   "id": "a6540ed6",
   "metadata": {},
   "outputs": [
    {
     "data": {
      "text/plain": [
       "7.78"
      ]
     },
     "execution_count": 43,
     "metadata": {},
     "output_type": "execute_result"
    }
   ],
   "source": [
    "height2"
   ]
  },
  {
   "cell_type": "code",
   "execution_count": 44,
   "id": "2269f222",
   "metadata": {},
   "outputs": [
    {
     "data": {
      "text/plain": [
       "float"
      ]
     },
     "execution_count": 44,
     "metadata": {},
     "output_type": "execute_result"
    }
   ],
   "source": [
    "type(height2)"
   ]
  },
  {
   "cell_type": "markdown",
   "id": "ee109ace",
   "metadata": {},
   "source": [
    "# Intro Example"
   ]
  },
  {
   "cell_type": "markdown",
   "id": "1df51ee7",
   "metadata": {},
   "source": [
    "## into Example"
   ]
  },
  {
   "cell_type": "code",
   "execution_count": 45,
   "id": "929f744a",
   "metadata": {},
   "outputs": [],
   "source": [
    "xname = 'Immaculate'"
   ]
  },
  {
   "cell_type": "code",
   "execution_count": null,
   "id": "b2836864",
   "metadata": {},
   "outputs": [],
   "source": []
  },
  {
   "cell_type": "code",
   "execution_count": null,
   "id": "0c794222",
   "metadata": {},
   "outputs": [],
   "source": []
  },
  {
   "cell_type": "code",
   "execution_count": null,
   "id": "3e1d333f",
   "metadata": {},
   "outputs": [],
   "source": []
  },
  {
   "cell_type": "code",
   "execution_count": 46,
   "id": "fc1167cd",
   "metadata": {},
   "outputs": [
    {
     "data": {
      "text/plain": [
       "'Immaculate'"
      ]
     },
     "execution_count": 46,
     "metadata": {},
     "output_type": "execute_result"
    }
   ],
   "source": [
    "xname"
   ]
  },
  {
   "cell_type": "code",
   "execution_count": 47,
   "id": "b30a219c",
   "metadata": {},
   "outputs": [],
   "source": [
    "xname = 'Francis'"
   ]
  },
  {
   "cell_type": "code",
   "execution_count": 48,
   "id": "2ca0b2db",
   "metadata": {},
   "outputs": [
    {
     "data": {
      "text/plain": [
       "'Francis'"
      ]
     },
     "execution_count": 48,
     "metadata": {},
     "output_type": "execute_result"
    }
   ],
   "source": [
    "xname"
   ]
  },
  {
   "cell_type": "markdown",
   "id": "7b5df31e",
   "metadata": {},
   "source": [
    "# Operators"
   ]
  },
  {
   "cell_type": "code",
   "execution_count": null,
   "id": "0e55e948",
   "metadata": {},
   "outputs": [],
   "source": []
  },
  {
   "cell_type": "code",
   "execution_count": null,
   "id": "7f1fee0b",
   "metadata": {},
   "outputs": [],
   "source": [
    "+   Addition\n",
    "- subtraction\n",
    "* multiplication\n",
    "/ Division\n",
    "> Greater Than\n",
    "< Less than\n",
    ">= Greater than or Equal To\n",
    "<= Less than or Equal to\n",
    "\n",
    "or   Or Operator\n",
    "and AND Operator\n",
    "\n",
    "== Equivalent Operator\n",
    "\n",
    "% Modulus Operator\n",
    "// Floor Operator\n",
    "\n",
    "Boolean (True/False)\n",
    "\n",
    "in operator (membership)\n",
    "\n"
   ]
  },
  {
   "cell_type": "code",
   "execution_count": null,
   "id": "ecdbbcad",
   "metadata": {},
   "outputs": [],
   "source": [
    "Scenario: James operates a car dealership selling mid-income level cars to a student community. \n",
    "    He has 3 employees earning the same income\n",
    "    Each day he sells 3 cars at an average price of 3500 per car.\n",
    "His bank intererst charges is 5% of each sale. if there are 25 selling days in a month, \n",
    "compute his monthly income and annual income, given the following:\n",
    "\n",
    "    Rent is 1500 per month\n",
    "    wages is 2000 per employee\n",
    "    utilities 1250 per month\n",
    "\n",
    "If total monthly profit after all deduction is greater than 10,000, \n",
    "James would like distribute a bonus of 5000 to his staff such that each person gets a whole number value. \n",
    "Compute the remainder\n",
    "\n"
   ]
  },
  {
   "cell_type": "code",
   "execution_count": 10,
   "id": "b8976f6a",
   "metadata": {},
   "outputs": [],
   "source": [
    "numEmps = 3\n",
    "salePrice = 3500\n",
    "bankInt = 0.05\n",
    "numDays = 25\n",
    "numDSales = 3\n",
    "rent = 1500\n",
    "wages = 2000\n",
    "util = 1250\n",
    "tgtProft = 10000\n",
    "bonus = 5000\n",
    "numMonths = 12\n",
    "\n",
    "#TASK\n",
    "# 1. monthly income \n",
    "# 2. annual income\n",
    "# 3. monthly Profit\n",
    "# 4. Annual Profit\n",
    "# 5. Bonus per employee\n",
    "# 6. Remainder from Bonus distribution"
   ]
  },
  {
   "cell_type": "code",
   "execution_count": 41,
   "id": "53dca11c",
   "metadata": {},
   "outputs": [
    {
     "name": "stdout",
     "output_type": "stream",
     "text": [
      "total dollar revenue per month is:  262500\n",
      "total annual dollar revenue is:  3150000\n",
      "total monthly wages paid is:  6000\n",
      "total monthly bank interest paid is:  13125.0\n",
      "total monthly rent and util  paid is:  2750\n",
      "total monthly expenditure  paid is:  21875.0\n",
      "total annual expenditure  paid is:  262500.0\n",
      "total monthly profit is:  240625.0\n",
      "total annual profit is:  2887500.0\n",
      "bonus per employee  is:  1666.6666666666667\n",
      "Whole number bonus per employee  is:  1666\n",
      "remainder of the bonus after distribution  is:  2\n"
     ]
    }
   ],
   "source": [
    "# Compute Total costs per month\n",
    "\n",
    "# Assumpotion: James sells 3 cars per day\n",
    "\n",
    "\n",
    "# computing Sales\n",
    "\n",
    "tSalesM = salePrice * numDSales * numDays # example of multiplication\n",
    "print('total dollar revenue per month is: ', tSalesM)\n",
    "\n",
    "# computing annual revenue\n",
    "annualRev = tSalesM * numMonths # multiplication\n",
    "print('total annual dollar revenue is: ', annualRev)\n",
    "\n",
    "#compute  Expenses\n",
    "\n",
    "totWage = numEmps * wages  # computing total monthly salries\n",
    "print('total monthly wages paid is: ', totWage)\n",
    "\n",
    "totMonthInt = tSalesM * bankInt # total interest charges per month\n",
    "print('total monthly bank interest paid is: ', totMonthInt) \n",
    "\n",
    "expMonth = util + rent  # Addition of rent and utils\n",
    "print('total monthly rent and util  paid is: ', expMonth) \n",
    "\n",
    "totMonthExp = totWage + totMonthInt + expMonth\n",
    "print('total monthly expenditure  paid is: ', totMonthExp) \n",
    "\n",
    "totAnnualExp = totMonthExp * numMonths\n",
    "print('total annual expenditure  paid is: ', totAnnualExp) \n",
    "\n",
    "\n",
    "# Computing Profits\n",
    "\n",
    "monthProfit = tSalesM - totMonthExp  # Minus operation\n",
    "print('total monthly profit is: ', monthProfit) \n",
    "\n",
    "annualProfit = annualRev - totAnnualExp\n",
    "print('total annual profit is: ', annualProfit) \n",
    "\n",
    "# Computing Bonus Pay\n",
    "\n",
    "if monthProfit  > tgtProft: # Compute Bonus only if the monthly profit is greater that tgtProft\n",
    "    bonusPerEmp =   bonus / numEmps  # Bonus per employee\n",
    "    print('bonus per employee  is: ', bonusPerEmp)\n",
    "    bonusPerEmpNoR = bonus // numEmps  # Bonus per employee using the floor operator. this gives ONLY the whole number\n",
    "    print('Whole number bonus per employee  is: ', bonusPerEmpNoR)\n",
    "    \n",
    "    # Computing the remainder\n",
    "    bonusRemainder = bonus % numEmps\n",
    "    print('remainder of the bonus after distribution  is: ', bonusRemainder)"
   ]
  },
  {
   "cell_type": "code",
   "execution_count": 39,
   "id": "b2438dcb",
   "metadata": {},
   "outputs": [
    {
     "data": {
      "text/plain": [
       "2.0000000000002274"
      ]
     },
     "execution_count": 39,
     "metadata": {},
     "output_type": "execute_result"
    }
   ],
   "source": [
    "(bonusPerEmp-bonusPerEmpNoR)*3"
   ]
  },
  {
   "cell_type": "code",
   "execution_count": 40,
   "id": "26ca424c",
   "metadata": {},
   "outputs": [
    {
     "data": {
      "text/plain": [
       "2.0000000000001004"
      ]
     },
     "execution_count": 40,
     "metadata": {},
     "output_type": "execute_result"
    }
   ],
   "source": [
    "0.6666666666667*3"
   ]
  },
  {
   "cell_type": "code",
   "execution_count": null,
   "id": "e68d429e",
   "metadata": {},
   "outputs": [],
   "source": [
    "#  Conditional Statements\n",
    "\n",
    "'''\n",
    "Coinditional statements are the logic layer of our code that enables us\n",
    "to have control over which code gets executed during runtime\n",
    "\n",
    "It is usually denoted by the IF ststement\n",
    "\n",
    "\n",
    "\n",
    "'''"
   ]
  },
  {
   "cell_type": "code",
   "execution_count": 32,
   "id": "428739a1",
   "metadata": {},
   "outputs": [
    {
     "name": "stdout",
     "output_type": "stream",
     "text": [
      "the conditional statement resolved to:  True therefore, running the line in the IF block\n",
      "patricia is older than david\n",
      "I am happy that Patricia is the eldest \n"
     ]
    }
   ],
   "source": [
    "# Patricia  is 27 years old. her younger brother,David is 25 yeas old. whos is older?\n",
    "\n",
    "pAge = 27\n",
    "dAge = 25\n",
    "\n",
    "if pAge > dAge: # Condition to be tested. Can reesult into TRUE or FALSE\n",
    "    print('the conditional statement resolved to: ',pAge > dAge, 'therefore, running the line in the IF block' )\n",
    "    print('patricia is older than david')  # This indented line will be executed if the condition is TRUE\n",
    "    print('I am happy that Patricia is the eldest ')\n",
    "    \n",
    "else:\n",
    "    print('the conditional statement resolved to: ',pAge > dAge, 'therefore, running the line in the ELSE block' )\n",
    "    print('Patricia is not older than David')\n",
    "    "
   ]
  },
  {
   "cell_type": "code",
   "execution_count": 30,
   "id": "a1bd9e0d",
   "metadata": {},
   "outputs": [
    {
     "data": {
      "text/plain": [
       "False"
      ]
     },
     "execution_count": 30,
     "metadata": {},
     "output_type": "execute_result"
    }
   ],
   "source": [
    "pAge > dAge"
   ]
  },
  {
   "cell_type": "code",
   "execution_count": null,
   "id": "f36ac82f",
   "metadata": {},
   "outputs": [],
   "source": []
  },
  {
   "cell_type": "code",
   "execution_count": 43,
   "id": "1d8a792c",
   "metadata": {},
   "outputs": [
    {
     "data": {
      "text/plain": [
       "2"
      ]
     },
     "execution_count": 43,
     "metadata": {},
     "output_type": "execute_result"
    }
   ],
   "source": [
    "'''amaka has 7 oranges and wants to share them to 3 of her friends. \n",
    "howmany orages will remain if each friend gets a full orange'''\n",
    "\n",
    "7//3"
   ]
  },
  {
   "cell_type": "code",
   "execution_count": null,
   "id": "f1d45667",
   "metadata": {},
   "outputs": [],
   "source": [
    "or   Or Operator\n",
    "and AND Operator\n",
    "\n",
    "in operator (membership)"
   ]
  },
  {
   "cell_type": "code",
   "execution_count": null,
   "id": "ce181525",
   "metadata": {},
   "outputs": [],
   "source": [
    "# the XOR operators are often used when we want to evaluate multiple conditions in an if ststement\n",
    "\n",
    "# the OR operator will resolve to TRUE if ATLEAST one condition is TRUE\n",
    "# The AND operator will ONLY resolve to TRUE if ALL conditions are TRUE"
   ]
  },
  {
   "cell_type": "code",
   "execution_count": null,
   "id": "819ae0fa",
   "metadata": {},
   "outputs": [],
   "source": [
    "A wealthy person is any one who has at least 10000 in their account, live in their own home and drive a luxury car\n",
    "\n",
    "Chibuike has 10000 in his bank account. lives in a rented house and drives a BMW\n",
    "\n",
    "Gbenga has 11000 in his bank account, lives in his own home and drives Mercedes Benz\n",
    "\n",
    "\n",
    "write code to check if they are wealthy\n",
    "\n"
   ]
  },
  {
   "cell_type": "code",
   "execution_count": 44,
   "id": "6824b6ab",
   "metadata": {},
   "outputs": [
    {
     "name": "stdout",
     "output_type": "stream",
     "text": [
      "Chibuike is not wealthy\n",
      "Gbenga is wealthy\n"
     ]
    }
   ],
   "source": [
    "wVal = 10000  # minimum to be considered wealthy\n",
    "hasCar = True\n",
    "ownsHome = True\n",
    "\n",
    "cVal = 10000\n",
    "cHasCar = True\n",
    "cOwnsHome = False\n",
    "\n",
    "gVal = 11000\n",
    "gHasCar = True\n",
    "gOwnsHome = True\n",
    "\n",
    "# Testing for wealth\n",
    "\n",
    "if cVal >= wVal and cHasCar == True and cOwnsHome == True:\n",
    "    print('Chibuike is wealthy')\n",
    "else:\n",
    "    print('Chibuike is not wealthy')\n",
    "    \n",
    "if gVal >= wVal and gHasCar == True and gOwnsHome == True:\n",
    "    print('Gbenga is wealthy')\n",
    "else:\n",
    "    print('Gbenga is not wealthy')"
   ]
  },
  {
   "cell_type": "code",
   "execution_count": 45,
   "id": "f75e687a",
   "metadata": {},
   "outputs": [
    {
     "name": "stdout",
     "output_type": "stream",
     "text": [
      "Chibuike is wealthy\n",
      "Gbenga is wealthy\n"
     ]
    }
   ],
   "source": [
    "# implemnenting using the OR operator\n",
    "\n",
    "wVal = 10000  # minimum to be considered wealthy\n",
    "hasCar = True\n",
    "ownsHome = True\n",
    "\n",
    "cVal = 10000\n",
    "cHasCar = True\n",
    "cOwnsHome = False\n",
    "\n",
    "gVal = 11000\n",
    "gHasCar = True\n",
    "gOwnsHome = True\n",
    "\n",
    "# Testing for wealth\n",
    "\n",
    "if cVal >= wVal or cHasCar == True or cOwnsHome == True:\n",
    "    print('Chibuike is wealthy')\n",
    "else:\n",
    "    print('Chibuike is not wealthy')\n",
    "    \n",
    "if gVal >= wVal or gHasCar == True or gOwnsHome == True:\n",
    "    print('Gbenga is wealthy')\n",
    "else:\n",
    "    print('Gbenga is not wealthy')"
   ]
  },
  {
   "cell_type": "code",
   "execution_count": null,
   "id": "7f413fdb",
   "metadata": {},
   "outputs": [],
   "source": [
    "# in Operator\n",
    "\n",
    "# used to check if a value or item is a member of some other items or values\n",
    "\n",
    "\n",
    "\n"
   ]
  },
  {
   "cell_type": "code",
   "execution_count": 48,
   "id": "1fe19aa0",
   "metadata": {},
   "outputs": [
    {
     "name": "stdout",
     "output_type": "stream",
     "text": [
      "doest not exist\n"
     ]
    }
   ],
   "source": [
    "name = 'Zulkarnain'\n",
    "\n",
    "\n",
    "# check if kar is in the characters in the name\n",
    "\n",
    "\n",
    "if 'm' in name:\n",
    "    print('found')\n",
    "else:\n",
    "    print( 'doest not exist')"
   ]
  },
  {
   "cell_type": "code",
   "execution_count": null,
   "id": "41981b42",
   "metadata": {},
   "outputs": [],
   "source": []
  },
  {
   "cell_type": "code",
   "execution_count": null,
   "id": "c524a299",
   "metadata": {},
   "outputs": [],
   "source": [
    "Scenario: James operates a car dealership selling mid-income level cars to a student community. \n",
    "    He has 3 employees earning the same income\n",
    "    Each day he sells 3 cars at an average price of 3500 per car.\n",
    "His bank intererst charges is 5% of each sale. if there are 25 selling days in a month, \n",
    "compute his monthly income and annual income, given the following:\n",
    "\n",
    "    Rent is 1500 per month\n",
    "    wages is 2000 per employee\n",
    "    utilities 1250 per month\n",
    "\n",
    "If total monthly profit after all deduction is greater than 10,000, \n",
    "James would like distribute a bonus of 5000 to his staff such that each person gets a whole number value. \n",
    "Compute the remainder\n"
   ]
  },
  {
   "cell_type": "code",
   "execution_count": null,
   "id": "f378b09e",
   "metadata": {},
   "outputs": [],
   "source": [
    "Patricia operates a grocery store selling several product categories as shown below.\n",
    "1. Foods\n",
    "2. Beverages\n",
    "3. Toiletries\n",
    "She estimates that the total sales each week for Foods is $3210. \n",
    "The daily workday sales of beverages are $520. On weekends (Saturdays and Sundays) \n",
    "the daily sales are double the weekday sale for this category.\n",
    "The daily sales for toiletries are about 83% of the beverages and shows the same pattern for weekdays and weekends.\n",
    "Patricia employe 5 persons as accounting and sales staff with a 1,500 monthly salary per staff. She is also considering paying herself a monthly salary of $2750.\n",
    "\n",
    "Patricia's profit margin on Foods is 25.30%, on Beverages its 15.76% and on Toiletries its 35% lower than that of Beverages.\n",
    "Costs associated with her Grocery store are monthly rent of 2100, monthly cost of logistics for purchase and restocking inventory is 5% of total monthly revenue from the store.\n",
    "Tax is charged at 25.3% of profit. There is also a 5% VAT on Toiletries and Beverages that is already included in the selling price of products in these categories.\n",
    "Patricia would like to disburse her profit after tax and all deductions into the following three account bucket such that investment in inventory gets a minimum of $ 20,000 per month;\n",
    "\n",
    "1. 40% remitted to her investment account which yields 15% interest per annum\n",
    "2. 30% held in a current account for domestic expenses\n",
    "3. 30% invested back into inventory in the Grocery store\n",
    "\n",
    "TASK\n",
    "1. compute the total revenue and profits per category\n",
    "2. compute the total tax and vat payable on each category\n",
    "3. compute total store expenses on a monthly and annual basis\n",
    "4. what percentage of profits is employee salary\n",
    "5. If Patricia pays herself the proposed salary, by what percentage does profitability drop monthly\n",
    "6. Compute the amount of money remitted into the three account buckets every month\n",
    "\n",
    "\n"
   ]
  },
  {
   "cell_type": "code",
   "execution_count": null,
   "id": "7bb73a43",
   "metadata": {},
   "outputs": [],
   "source": []
  }
 ],
 "metadata": {
  "kernelspec": {
   "display_name": "Python 3 (ipykernel)",
   "language": "python",
   "name": "python3"
  },
  "language_info": {
   "codemirror_mode": {
    "name": "ipython",
    "version": 3
   },
   "file_extension": ".py",
   "mimetype": "text/x-python",
   "name": "python",
   "nbconvert_exporter": "python",
   "pygments_lexer": "ipython3",
   "version": "3.11.3"
  }
 },
 "nbformat": 4,
 "nbformat_minor": 5
}
