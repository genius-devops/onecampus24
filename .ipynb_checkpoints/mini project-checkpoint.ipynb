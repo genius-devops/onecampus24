{
 "cells": [
  {
   "cell_type": "code",
   "execution_count": null,
   "id": "ceea40be",
   "metadata": {},
   "outputs": [],
   "source": [
    "ANNOUNCEMENTS!!!\n",
    "\n",
    "HOLIDAY MINI PROJECT\n",
    "\n",
    "# Assignment\n",
    "\n",
    "# James teaches 4 subjects, Chem, Bio, Math and Physics. He has presented you with seperate lists of the names \n",
    "# of students for each subject and seperate lists for their corresponding exam scores for the subject.\n",
    "# Using the information provided, answer the questions below\n",
    "\n",
    "chemStuds = ['David', 'samuel', 'Kelechi', 'Chiamaka', 'Oshinlolu', 'Belonwu' \n",
    "bioStuds = ['David', 'samuel', 'Kelechi', 'Chiamaka', 'Oshinlolu', 'Samson', 'Chidiebere']\n",
    "mathStuds = ['David', 'Maryrose', 'Kelechi', 'Mercy', 'Oshinlolu', 'Efe', 'Bello']\n",
    "phyStuds = ['David', 'samuel', 'Kelechi', 'Pezo', 'Chiamaka', 'Oshinlolu', 'Wale', 'Samson', 'Chidiebere']\n",
    "\n",
    "chemScores = [46, 86, 57, 87, 98, 45]\n",
    "bioScores = [57, 89, 56, 34, 85, 78, 90]\n",
    "mathScore = [79, 67, 45, 87, 76, 59, 87]\n",
    "phyScores = [69, 87, 87, 78, 45, 46, 89, 56, 91]\n",
    "             \n",
    "subjectList = ['chem', 'bio', 'math', 'phy']             \n",
    "             \n",
    "# Task: \n",
    "1a. Write code to find students that take chemistry and biology but do not take physics\n",
    "1b. Write code to find the names of all the students in Jame's class\n",
    "             \n",
    "2. Write a function that can be used to add students and their scores to the relevant subjects. For example, if the teacher\n",
    "             wants to add Kenyata to the biology students list and a score of 45 for him in the bioScores list, \n",
    "             your function should be able to do that\n",
    "3. Write code to store each pair of subject student names and subject scores in a dictionary\n",
    "4. write a function that can fetch a students score for each subject\n",
    "5. write function to grade the student scores for each subject and record it into a new list             \n",
    "6. Write code to store all the student results and grades obtained from Q5 in a single dictionary  \n",
    "7. Write a single function that can be used to do the following\n",
    "             \n",
    "             \n",
    "             1. find all the subjects a student offers\n",
    "             2. fetch a students' exam score for a subject or all the subject he/she offers\n",
    "             3. grade the exam scores of students and store the information in a dictionary\n",
    "             4. input subject exam scores for students\n",
    "             5. change or update the exam scores for any subject for a given student\n",
    "             6. find all the students whose grade or score is below a specified value or within a specified range\n"
   ]
  }
 ],
 "metadata": {
  "kernelspec": {
   "display_name": "Python 3 (ipykernel)",
   "language": "python",
   "name": "python3"
  },
  "language_info": {
   "codemirror_mode": {
    "name": "ipython",
    "version": 3
   },
   "file_extension": ".py",
   "mimetype": "text/x-python",
   "name": "python",
   "nbconvert_exporter": "python",
   "pygments_lexer": "ipython3",
   "version": "3.10.9"
  }
 },
 "nbformat": 4,
 "nbformat_minor": 5
}
